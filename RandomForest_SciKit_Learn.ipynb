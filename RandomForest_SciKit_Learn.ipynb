{
  "nbformat": 4,
  "nbformat_minor": 0,
  "metadata": {
    "colab": {
      "provenance": [],
      "authorship_tag": "ABX9TyNCL2peKfzn9WWe87riCEIw",
      "include_colab_link": true
    },
    "kernelspec": {
      "name": "python3",
      "display_name": "Python 3"
    },
    "language_info": {
      "name": "python"
    }
  },
  "cells": [
    {
      "cell_type": "markdown",
      "metadata": {
        "id": "view-in-github",
        "colab_type": "text"
      },
      "source": [
        "<a href=\"https://colab.research.google.com/github/MFaiqKhan/100_days_of_ML/blob/main/RandomForest_SciKit_Learn.ipynb\" target=\"_parent\"><img src=\"https://colab.research.google.com/assets/colab-badge.svg\" alt=\"Open In Colab\"/></a>"
      ]
    },
    {
      "cell_type": "markdown",
      "source": [
        "- RF works on Labeled target variable aka supervised machine learning models\n",
        "- RF is used for both regression and classification problems."
      ],
      "metadata": {
        "id": "ppFZWWNa5Tmb"
      }
    },
    {
      "cell_type": "markdown",
      "source": [
        "## Using Bank Marketing Dataset \n",
        "The data is related with direct marketing campaigns of a Portuguese banking institution. The marketing campaigns were based on phone calls. Often, more than one contact to the same client was required, in order to access if the product (bank term deposit) would be ('yes') or not ('no') subscribed.\n",
        "\n",
        "[Source of Dataset](https://archive.ics.uci.edu/ml/datasets/bank+marketing)"
      ],
      "metadata": {
        "id": "g4xsR8MN9O0j"
      }
    },
    {
      "cell_type": "code",
      "source": [
        "import pandas as pd\n",
        "import numpy as np\n",
        "from scipy.stats import randint\n",
        "from sklearn.ensemble import RandomForestClassifier\n",
        "from sklearn.metrics import accuracy_score, confusion_matrix, precision_score, recall_score, ConfusionMatrixDisplay\n",
        "from sklearn.tree import export_graphviz\n",
        "from IPython.display import Image\n",
        "import graphviz\n",
        "from sklearn.model_selection import RandomizedSearchCV, train_test_split\n"
      ],
      "metadata": {
        "id": "5g-NZ6qj-h_R"
      },
      "execution_count": 1,
      "outputs": []
    },
    {
      "cell_type": "markdown",
      "source": [
        "import **pandas** as pd: This line imports the pandas library and gives it an alias of \"pd\". Pandas is a powerful Python library for data manipulation and analysis.\n",
        "\n",
        "import **numpy** as np: This line imports the NumPy library and gives it an alias of \"np\". NumPy is another popular Python library for numerical computing.\n",
        "\n",
        "from **scipy.stats** import **randint**: This line imports the \"randint\" function from the \"stats\" module of the SciPy library. SciPy is a Python library for scientific computing that includes many useful functions and tools for statistical analysis.\n",
        "\n",
        "from **sklearn**.**ensemble** import **RandomForestClassifier**: This line imports the \"RandomForestClassifier\" class from the \"ensemble\" module of the scikit-learn (sklearn) library. Scikit-learn is a Python library for machine learning that includes a wide range of classification, regression, clustering, and other algorithms.\n",
        "\n",
        "from **sklearn**.**metrics** import **accuracy_score**, **confusion_matrix**, **precision_score**, **recall_score**, **ConfusionMatrixDisplay**: This line imports several functions and classes from the \"metrics\" module of the scikit-learn library. These functions and classes are used for evaluating the performance of machine learning models.\n",
        "\n",
        "from **sklearn**.**tree** import **export_graphviz**: This line imports the \"export_graphviz\" function from the \"tree\" module of the scikit-learn library. This function is used to export a decision tree in Graphviz format.\n",
        "\n",
        "from **IPython**.**display** import **Image**: This line imports the \"Image\" class from the \"display\" module of the IPython library. This class is used to display images in a Jupyter notebook or other IPython environment.\n",
        "\n",
        "import **graphviz**: This line imports the Graphviz library, which is used to visualize decision trees in the DOT language.\n",
        "\n",
        "from **sklearn**.**model_selection** import **RandomizedSearchCV**, **train_test_split**: This line imports the \"RandomizedSearchCV\" class and the \"train_test_split\" function from the \"model_selection\" module of the scikit-learn library. The \"RandomizedSearchCV\" class is used to perform a randomized hyperparameter search for a machine learning model, while the \"train_test_split\" function is used to split a dataset into training and testing sets for model evaluation.\n",
        "\n",
        "\n",
        "---\n",
        "\n"
      ],
      "metadata": {
        "id": "t0OeCuRoDWOT"
      }
    },
    {
      "cell_type": "markdown",
      "source": [
        "***RandomizedSearchCV*** is a function from the scikit-learn library in Python that performs hyperparameter tuning for machine learning models. Hyperparameters are parameters that are set before the training process begins and are not learned from the data. They have a significant impact on the performance of the model. \n",
        "\n",
        "RandomizedSearchCV is a type of cross-validation that allows us to select the best hyperparameters from a large range of values. It works by randomly selecting combinations of hyperparameters from a specified range and evaluating the model's performance using a specified evaluation metric. It repeats this process for a specified number of iterations and returns the best set of hyperparameters found during the search.\n",
        "\n",
        "In the provided code, RandomizedSearchCV is used to find the best hyperparameters for a RandomForestClassifier. The hyperparameters that will be tuned are n_estimators, max_features, max_depth, min_samples_split, min_samples_leaf, and bootstrap. The ranges of values for each hyperparameter are specified in the hyperparameter grid. The evaluation metric used to measure the model's performance is accuracy_score.\n",
        "\n",
        "RandomizedSearchCV will perform a specified number of iterations, each time selecting random combinations of hyperparameters from the hyperparameter grid. For each combination, it will train a RandomForestClassifier and evaluate its performance using the accuracy_score metric. The best set of hyperparameters that result in the highest accuracy score will be returned by RandomizedSearchCV.\n",
        "\n",
        "The train_test_split function is used to split the data into training and testing sets, and then the RandomForestClassifier is trained on the training set using the best hyperparameters found by RandomizedSearchCV. The performance of the final model is evaluated using various evaluation metrics such as accuracy_score, precision_score, recall_score, and confusion_matrix.\n",
        "\n",
        "\n",
        "---\n",
        "\n"
      ],
      "metadata": {
        "id": "RD_AdDxsE1MX"
      }
    },
    {
      "cell_type": "markdown",
      "source": [
        "## Tree Based models are robust to outliers\n",
        "\n",
        "Tree Based Models are robust to outliers than regression models as they make splits on the data based on values that minimize the impurity or increase the information gain. Outliers typically have values that are significantly different from the rest of the data, and the decision tree algorithms can easily detect them and make appropriate splits to separate them from the rest of the data. As a result, outliers have a minimal impact on the final predictions made by tree-based models.\n",
        "\n",
        "On the other hand, regression models try to fit a line or curve to the data that minimizes the errors between the predicted and actual values. Outliers can significantly influence the parameters of the model, resulting in a significant deviation from the expected behavior of the data. This can lead to overfitting, which means that the model performs well on the training data but poorly on the test data.\n",
        "\n",
        "However, it is important to note that tree-based models can still be affected by outliers in certain cases, such as when there are too many outliers, or the outliers are clustered together, leading to a biased splitting of the data. In such cases, it is important to preprocess the data and remove or transform the outliers before fitting the model to achieve better performance.\n",
        "\n",
        "---\n",
        "\n"
      ],
      "metadata": {
        "id": "bonOAc2kQ5fh"
      }
    },
    {
      "cell_type": "markdown",
      "source": [
        "## The Columns we will use from Dataset are :\n",
        "\n",
        "\n",
        "*   age: The age of the person who received the phone call\n",
        "*   default: Whether the person has credit in default\n",
        "*   cons.price.idx: Consumer price index score at the time of the call\n",
        "*   cons.conf.idx: Consumer confidence index score at the time of the call\n",
        "*   y: Whether the person subscribed (this is what we’re trying to predict)\n",
        "\n",
        "\n",
        "\n"
      ],
      "metadata": {
        "id": "7Z6ZoNRFbD0K"
      }
    },
    {
      "cell_type": "code",
      "source": [
        "bank_data = pd.read_csv(\"bank-marketing.csv\", sep=\";\") \n",
        "bank_data = bank_data.loc[:,['age','default','cons.price.idx','cons.conf.idx','y']]\n",
        "bank_data.head(5)\n",
        "\n",
        "# The sep=\";\" argument specifies that the file is separated by semicolons.\n",
        "#.loc[] is used to access group of rows and columns by labels here.\n",
        "# df.loc[row_labels,column_labels]\n",
        "#.loc[:.['age',..]] # selecting all rows and specific columns by labels"
      ],
      "metadata": {
        "colab": {
          "base_uri": "https://localhost:8080/",
          "height": 206
        },
        "id": "ahlv9E2BSykm",
        "outputId": "076f5456-2b30-4f8d-eca4-4291f477bade"
      },
      "execution_count": 2,
      "outputs": [
        {
          "output_type": "execute_result",
          "data": {
            "text/plain": [
              "   age  default  cons.price.idx  cons.conf.idx   y\n",
              "0   56       no          93.994          -36.4  no\n",
              "1   57  unknown          93.994          -36.4  no\n",
              "2   37       no          93.994          -36.4  no\n",
              "3   40       no          93.994          -36.4  no\n",
              "4   56       no          93.994          -36.4  no"
            ],
            "text/html": [
              "\n",
              "  <div id=\"df-d57ad2a2-d740-469e-8241-05c6b237c1eb\">\n",
              "    <div class=\"colab-df-container\">\n",
              "      <div>\n",
              "<style scoped>\n",
              "    .dataframe tbody tr th:only-of-type {\n",
              "        vertical-align: middle;\n",
              "    }\n",
              "\n",
              "    .dataframe tbody tr th {\n",
              "        vertical-align: top;\n",
              "    }\n",
              "\n",
              "    .dataframe thead th {\n",
              "        text-align: right;\n",
              "    }\n",
              "</style>\n",
              "<table border=\"1\" class=\"dataframe\">\n",
              "  <thead>\n",
              "    <tr style=\"text-align: right;\">\n",
              "      <th></th>\n",
              "      <th>age</th>\n",
              "      <th>default</th>\n",
              "      <th>cons.price.idx</th>\n",
              "      <th>cons.conf.idx</th>\n",
              "      <th>y</th>\n",
              "    </tr>\n",
              "  </thead>\n",
              "  <tbody>\n",
              "    <tr>\n",
              "      <th>0</th>\n",
              "      <td>56</td>\n",
              "      <td>no</td>\n",
              "      <td>93.994</td>\n",
              "      <td>-36.4</td>\n",
              "      <td>no</td>\n",
              "    </tr>\n",
              "    <tr>\n",
              "      <th>1</th>\n",
              "      <td>57</td>\n",
              "      <td>unknown</td>\n",
              "      <td>93.994</td>\n",
              "      <td>-36.4</td>\n",
              "      <td>no</td>\n",
              "    </tr>\n",
              "    <tr>\n",
              "      <th>2</th>\n",
              "      <td>37</td>\n",
              "      <td>no</td>\n",
              "      <td>93.994</td>\n",
              "      <td>-36.4</td>\n",
              "      <td>no</td>\n",
              "    </tr>\n",
              "    <tr>\n",
              "      <th>3</th>\n",
              "      <td>40</td>\n",
              "      <td>no</td>\n",
              "      <td>93.994</td>\n",
              "      <td>-36.4</td>\n",
              "      <td>no</td>\n",
              "    </tr>\n",
              "    <tr>\n",
              "      <th>4</th>\n",
              "      <td>56</td>\n",
              "      <td>no</td>\n",
              "      <td>93.994</td>\n",
              "      <td>-36.4</td>\n",
              "      <td>no</td>\n",
              "    </tr>\n",
              "  </tbody>\n",
              "</table>\n",
              "</div>\n",
              "      <button class=\"colab-df-convert\" onclick=\"convertToInteractive('df-d57ad2a2-d740-469e-8241-05c6b237c1eb')\"\n",
              "              title=\"Convert this dataframe to an interactive table.\"\n",
              "              style=\"display:none;\">\n",
              "        \n",
              "  <svg xmlns=\"http://www.w3.org/2000/svg\" height=\"24px\"viewBox=\"0 0 24 24\"\n",
              "       width=\"24px\">\n",
              "    <path d=\"M0 0h24v24H0V0z\" fill=\"none\"/>\n",
              "    <path d=\"M18.56 5.44l.94 2.06.94-2.06 2.06-.94-2.06-.94-.94-2.06-.94 2.06-2.06.94zm-11 1L8.5 8.5l.94-2.06 2.06-.94-2.06-.94L8.5 2.5l-.94 2.06-2.06.94zm10 10l.94 2.06.94-2.06 2.06-.94-2.06-.94-.94-2.06-.94 2.06-2.06.94z\"/><path d=\"M17.41 7.96l-1.37-1.37c-.4-.4-.92-.59-1.43-.59-.52 0-1.04.2-1.43.59L10.3 9.45l-7.72 7.72c-.78.78-.78 2.05 0 2.83L4 21.41c.39.39.9.59 1.41.59.51 0 1.02-.2 1.41-.59l7.78-7.78 2.81-2.81c.8-.78.8-2.07 0-2.86zM5.41 20L4 18.59l7.72-7.72 1.47 1.35L5.41 20z\"/>\n",
              "  </svg>\n",
              "      </button>\n",
              "      \n",
              "  <style>\n",
              "    .colab-df-container {\n",
              "      display:flex;\n",
              "      flex-wrap:wrap;\n",
              "      gap: 12px;\n",
              "    }\n",
              "\n",
              "    .colab-df-convert {\n",
              "      background-color: #E8F0FE;\n",
              "      border: none;\n",
              "      border-radius: 50%;\n",
              "      cursor: pointer;\n",
              "      display: none;\n",
              "      fill: #1967D2;\n",
              "      height: 32px;\n",
              "      padding: 0 0 0 0;\n",
              "      width: 32px;\n",
              "    }\n",
              "\n",
              "    .colab-df-convert:hover {\n",
              "      background-color: #E2EBFA;\n",
              "      box-shadow: 0px 1px 2px rgba(60, 64, 67, 0.3), 0px 1px 3px 1px rgba(60, 64, 67, 0.15);\n",
              "      fill: #174EA6;\n",
              "    }\n",
              "\n",
              "    [theme=dark] .colab-df-convert {\n",
              "      background-color: #3B4455;\n",
              "      fill: #D2E3FC;\n",
              "    }\n",
              "\n",
              "    [theme=dark] .colab-df-convert:hover {\n",
              "      background-color: #434B5C;\n",
              "      box-shadow: 0px 1px 3px 1px rgba(0, 0, 0, 0.15);\n",
              "      filter: drop-shadow(0px 1px 2px rgba(0, 0, 0, 0.3));\n",
              "      fill: #FFFFFF;\n",
              "    }\n",
              "  </style>\n",
              "\n",
              "      <script>\n",
              "        const buttonEl =\n",
              "          document.querySelector('#df-d57ad2a2-d740-469e-8241-05c6b237c1eb button.colab-df-convert');\n",
              "        buttonEl.style.display =\n",
              "          google.colab.kernel.accessAllowed ? 'block' : 'none';\n",
              "\n",
              "        async function convertToInteractive(key) {\n",
              "          const element = document.querySelector('#df-d57ad2a2-d740-469e-8241-05c6b237c1eb');\n",
              "          const dataTable =\n",
              "            await google.colab.kernel.invokeFunction('convertToInteractive',\n",
              "                                                     [key], {});\n",
              "          if (!dataTable) return;\n",
              "\n",
              "          const docLinkHtml = 'Like what you see? Visit the ' +\n",
              "            '<a target=\"_blank\" href=https://colab.research.google.com/notebooks/data_table.ipynb>data table notebook</a>'\n",
              "            + ' to learn more about interactive tables.';\n",
              "          element.innerHTML = '';\n",
              "          dataTable['output_type'] = 'display_data';\n",
              "          await google.colab.output.renderOutput(dataTable, element);\n",
              "          const docLink = document.createElement('div');\n",
              "          docLink.innerHTML = docLinkHtml;\n",
              "          element.appendChild(docLink);\n",
              "        }\n",
              "      </script>\n",
              "    </div>\n",
              "  </div>\n",
              "  "
            ]
          },
          "metadata": {},
          "execution_count": 2
        }
      ]
    },
    {
      "cell_type": "code",
      "source": [
        "bank_data['default'] = bank_data['default'].map({'no':0,'yes':1,'unknown':0})\n",
        "bank_data['y'] = bank_data['y'].map({'no':0,'yes':1})\n",
        "\n",
        "# converting categorical variables 'default' and 'y' into \n",
        "# numerical variables by mapping their values to integers.\n",
        "# the 'default' column is mapped to 0 if the value is 'no' or 'unknown', and 1 if the value is 'yes'.\n",
        "# 'y' column is mapped to 0 if the value is 'no' and 1 if the value is 'yes'. \n",
        "\n"
      ],
      "metadata": {
        "id": "qnx9OWVQaW1X"
      },
      "execution_count": 3,
      "outputs": []
    },
    {
      "cell_type": "code",
      "source": [
        "bank_data.head(5)"
      ],
      "metadata": {
        "colab": {
          "base_uri": "https://localhost:8080/",
          "height": 206
        },
        "id": "lN06-ArlesOr",
        "outputId": "d1e8d023-61ba-4a4d-e7a9-9bfda053c86f"
      },
      "execution_count": 4,
      "outputs": [
        {
          "output_type": "execute_result",
          "data": {
            "text/plain": [
              "   age  default  cons.price.idx  cons.conf.idx  y\n",
              "0   56        0          93.994          -36.4  0\n",
              "1   57        0          93.994          -36.4  0\n",
              "2   37        0          93.994          -36.4  0\n",
              "3   40        0          93.994          -36.4  0\n",
              "4   56        0          93.994          -36.4  0"
            ],
            "text/html": [
              "\n",
              "  <div id=\"df-2962acf9-c0c7-426b-b35c-349ea8f6129a\">\n",
              "    <div class=\"colab-df-container\">\n",
              "      <div>\n",
              "<style scoped>\n",
              "    .dataframe tbody tr th:only-of-type {\n",
              "        vertical-align: middle;\n",
              "    }\n",
              "\n",
              "    .dataframe tbody tr th {\n",
              "        vertical-align: top;\n",
              "    }\n",
              "\n",
              "    .dataframe thead th {\n",
              "        text-align: right;\n",
              "    }\n",
              "</style>\n",
              "<table border=\"1\" class=\"dataframe\">\n",
              "  <thead>\n",
              "    <tr style=\"text-align: right;\">\n",
              "      <th></th>\n",
              "      <th>age</th>\n",
              "      <th>default</th>\n",
              "      <th>cons.price.idx</th>\n",
              "      <th>cons.conf.idx</th>\n",
              "      <th>y</th>\n",
              "    </tr>\n",
              "  </thead>\n",
              "  <tbody>\n",
              "    <tr>\n",
              "      <th>0</th>\n",
              "      <td>56</td>\n",
              "      <td>0</td>\n",
              "      <td>93.994</td>\n",
              "      <td>-36.4</td>\n",
              "      <td>0</td>\n",
              "    </tr>\n",
              "    <tr>\n",
              "      <th>1</th>\n",
              "      <td>57</td>\n",
              "      <td>0</td>\n",
              "      <td>93.994</td>\n",
              "      <td>-36.4</td>\n",
              "      <td>0</td>\n",
              "    </tr>\n",
              "    <tr>\n",
              "      <th>2</th>\n",
              "      <td>37</td>\n",
              "      <td>0</td>\n",
              "      <td>93.994</td>\n",
              "      <td>-36.4</td>\n",
              "      <td>0</td>\n",
              "    </tr>\n",
              "    <tr>\n",
              "      <th>3</th>\n",
              "      <td>40</td>\n",
              "      <td>0</td>\n",
              "      <td>93.994</td>\n",
              "      <td>-36.4</td>\n",
              "      <td>0</td>\n",
              "    </tr>\n",
              "    <tr>\n",
              "      <th>4</th>\n",
              "      <td>56</td>\n",
              "      <td>0</td>\n",
              "      <td>93.994</td>\n",
              "      <td>-36.4</td>\n",
              "      <td>0</td>\n",
              "    </tr>\n",
              "  </tbody>\n",
              "</table>\n",
              "</div>\n",
              "      <button class=\"colab-df-convert\" onclick=\"convertToInteractive('df-2962acf9-c0c7-426b-b35c-349ea8f6129a')\"\n",
              "              title=\"Convert this dataframe to an interactive table.\"\n",
              "              style=\"display:none;\">\n",
              "        \n",
              "  <svg xmlns=\"http://www.w3.org/2000/svg\" height=\"24px\"viewBox=\"0 0 24 24\"\n",
              "       width=\"24px\">\n",
              "    <path d=\"M0 0h24v24H0V0z\" fill=\"none\"/>\n",
              "    <path d=\"M18.56 5.44l.94 2.06.94-2.06 2.06-.94-2.06-.94-.94-2.06-.94 2.06-2.06.94zm-11 1L8.5 8.5l.94-2.06 2.06-.94-2.06-.94L8.5 2.5l-.94 2.06-2.06.94zm10 10l.94 2.06.94-2.06 2.06-.94-2.06-.94-.94-2.06-.94 2.06-2.06.94z\"/><path d=\"M17.41 7.96l-1.37-1.37c-.4-.4-.92-.59-1.43-.59-.52 0-1.04.2-1.43.59L10.3 9.45l-7.72 7.72c-.78.78-.78 2.05 0 2.83L4 21.41c.39.39.9.59 1.41.59.51 0 1.02-.2 1.41-.59l7.78-7.78 2.81-2.81c.8-.78.8-2.07 0-2.86zM5.41 20L4 18.59l7.72-7.72 1.47 1.35L5.41 20z\"/>\n",
              "  </svg>\n",
              "      </button>\n",
              "      \n",
              "  <style>\n",
              "    .colab-df-container {\n",
              "      display:flex;\n",
              "      flex-wrap:wrap;\n",
              "      gap: 12px;\n",
              "    }\n",
              "\n",
              "    .colab-df-convert {\n",
              "      background-color: #E8F0FE;\n",
              "      border: none;\n",
              "      border-radius: 50%;\n",
              "      cursor: pointer;\n",
              "      display: none;\n",
              "      fill: #1967D2;\n",
              "      height: 32px;\n",
              "      padding: 0 0 0 0;\n",
              "      width: 32px;\n",
              "    }\n",
              "\n",
              "    .colab-df-convert:hover {\n",
              "      background-color: #E2EBFA;\n",
              "      box-shadow: 0px 1px 2px rgba(60, 64, 67, 0.3), 0px 1px 3px 1px rgba(60, 64, 67, 0.15);\n",
              "      fill: #174EA6;\n",
              "    }\n",
              "\n",
              "    [theme=dark] .colab-df-convert {\n",
              "      background-color: #3B4455;\n",
              "      fill: #D2E3FC;\n",
              "    }\n",
              "\n",
              "    [theme=dark] .colab-df-convert:hover {\n",
              "      background-color: #434B5C;\n",
              "      box-shadow: 0px 1px 3px 1px rgba(0, 0, 0, 0.15);\n",
              "      filter: drop-shadow(0px 1px 2px rgba(0, 0, 0, 0.3));\n",
              "      fill: #FFFFFF;\n",
              "    }\n",
              "  </style>\n",
              "\n",
              "      <script>\n",
              "        const buttonEl =\n",
              "          document.querySelector('#df-2962acf9-c0c7-426b-b35c-349ea8f6129a button.colab-df-convert');\n",
              "        buttonEl.style.display =\n",
              "          google.colab.kernel.accessAllowed ? 'block' : 'none';\n",
              "\n",
              "        async function convertToInteractive(key) {\n",
              "          const element = document.querySelector('#df-2962acf9-c0c7-426b-b35c-349ea8f6129a');\n",
              "          const dataTable =\n",
              "            await google.colab.kernel.invokeFunction('convertToInteractive',\n",
              "                                                     [key], {});\n",
              "          if (!dataTable) return;\n",
              "\n",
              "          const docLinkHtml = 'Like what you see? Visit the ' +\n",
              "            '<a target=\"_blank\" href=https://colab.research.google.com/notebooks/data_table.ipynb>data table notebook</a>'\n",
              "            + ' to learn more about interactive tables.';\n",
              "          element.innerHTML = '';\n",
              "          dataTable['output_type'] = 'display_data';\n",
              "          await google.colab.output.renderOutput(dataTable, element);\n",
              "          const docLink = document.createElement('div');\n",
              "          docLink.innerHTML = docLinkHtml;\n",
              "          element.appendChild(docLink);\n",
              "        }\n",
              "      </script>\n",
              "    </div>\n",
              "  </div>\n",
              "  "
            ]
          },
          "metadata": {},
          "execution_count": 4
        }
      ]
    },
    {
      "cell_type": "code",
      "source": [
        "# Splitting the data into features (X) as independent variables\n",
        "# and target (y) as dependent variable.\n",
        "X = bank_data.drop(['y'], axis='columns')\n",
        "y = bank_data['y']\n",
        "\n",
        "# splitting the data into training and test data\n",
        "X_train, X_test, y_train, y_test = train_test_split(X,y,train_size=0.8)"
      ],
      "metadata": {
        "id": "6s66Okv7fqst"
      },
      "execution_count": 5,
      "outputs": []
    },
    {
      "cell_type": "code",
      "source": [
        "len(X_train), len(X_test), len(y_train), len(y_test)"
      ],
      "metadata": {
        "colab": {
          "base_uri": "https://localhost:8080/"
        },
        "id": "2vB3C3I_ghCJ",
        "outputId": "71dc711a-4ecb-47ed-b2d8-5483236262db"
      },
      "execution_count": 6,
      "outputs": [
        {
          "output_type": "execute_result",
          "data": {
            "text/plain": [
              "(32950, 8238, 32950, 8238)"
            ]
          },
          "metadata": {},
          "execution_count": 6
        }
      ]
    },
    {
      "cell_type": "code",
      "source": [
        "# Create an instance of the model classifier with default params.\n",
        "# fitting the model\n",
        "\n",
        "rf = RandomForestClassifier()\n",
        "rf.fit(X_train,y_train)\n"
      ],
      "metadata": {
        "colab": {
          "base_uri": "https://localhost:8080/",
          "height": 74
        },
        "id": "x10UwoNGgpGZ",
        "outputId": "95987e8b-5a1a-42d9-b235-c6770f528cb3"
      },
      "execution_count": 7,
      "outputs": [
        {
          "output_type": "execute_result",
          "data": {
            "text/plain": [
              "RandomForestClassifier()"
            ],
            "text/html": [
              "<style>#sk-container-id-1 {color: black;background-color: white;}#sk-container-id-1 pre{padding: 0;}#sk-container-id-1 div.sk-toggleable {background-color: white;}#sk-container-id-1 label.sk-toggleable__label {cursor: pointer;display: block;width: 100%;margin-bottom: 0;padding: 0.3em;box-sizing: border-box;text-align: center;}#sk-container-id-1 label.sk-toggleable__label-arrow:before {content: \"▸\";float: left;margin-right: 0.25em;color: #696969;}#sk-container-id-1 label.sk-toggleable__label-arrow:hover:before {color: black;}#sk-container-id-1 div.sk-estimator:hover label.sk-toggleable__label-arrow:before {color: black;}#sk-container-id-1 div.sk-toggleable__content {max-height: 0;max-width: 0;overflow: hidden;text-align: left;background-color: #f0f8ff;}#sk-container-id-1 div.sk-toggleable__content pre {margin: 0.2em;color: black;border-radius: 0.25em;background-color: #f0f8ff;}#sk-container-id-1 input.sk-toggleable__control:checked~div.sk-toggleable__content {max-height: 200px;max-width: 100%;overflow: auto;}#sk-container-id-1 input.sk-toggleable__control:checked~label.sk-toggleable__label-arrow:before {content: \"▾\";}#sk-container-id-1 div.sk-estimator input.sk-toggleable__control:checked~label.sk-toggleable__label {background-color: #d4ebff;}#sk-container-id-1 div.sk-label input.sk-toggleable__control:checked~label.sk-toggleable__label {background-color: #d4ebff;}#sk-container-id-1 input.sk-hidden--visually {border: 0;clip: rect(1px 1px 1px 1px);clip: rect(1px, 1px, 1px, 1px);height: 1px;margin: -1px;overflow: hidden;padding: 0;position: absolute;width: 1px;}#sk-container-id-1 div.sk-estimator {font-family: monospace;background-color: #f0f8ff;border: 1px dotted black;border-radius: 0.25em;box-sizing: border-box;margin-bottom: 0.5em;}#sk-container-id-1 div.sk-estimator:hover {background-color: #d4ebff;}#sk-container-id-1 div.sk-parallel-item::after {content: \"\";width: 100%;border-bottom: 1px solid gray;flex-grow: 1;}#sk-container-id-1 div.sk-label:hover label.sk-toggleable__label {background-color: #d4ebff;}#sk-container-id-1 div.sk-serial::before {content: \"\";position: absolute;border-left: 1px solid gray;box-sizing: border-box;top: 0;bottom: 0;left: 50%;z-index: 0;}#sk-container-id-1 div.sk-serial {display: flex;flex-direction: column;align-items: center;background-color: white;padding-right: 0.2em;padding-left: 0.2em;position: relative;}#sk-container-id-1 div.sk-item {position: relative;z-index: 1;}#sk-container-id-1 div.sk-parallel {display: flex;align-items: stretch;justify-content: center;background-color: white;position: relative;}#sk-container-id-1 div.sk-item::before, #sk-container-id-1 div.sk-parallel-item::before {content: \"\";position: absolute;border-left: 1px solid gray;box-sizing: border-box;top: 0;bottom: 0;left: 50%;z-index: -1;}#sk-container-id-1 div.sk-parallel-item {display: flex;flex-direction: column;z-index: 1;position: relative;background-color: white;}#sk-container-id-1 div.sk-parallel-item:first-child::after {align-self: flex-end;width: 50%;}#sk-container-id-1 div.sk-parallel-item:last-child::after {align-self: flex-start;width: 50%;}#sk-container-id-1 div.sk-parallel-item:only-child::after {width: 0;}#sk-container-id-1 div.sk-dashed-wrapped {border: 1px dashed gray;margin: 0 0.4em 0.5em 0.4em;box-sizing: border-box;padding-bottom: 0.4em;background-color: white;}#sk-container-id-1 div.sk-label label {font-family: monospace;font-weight: bold;display: inline-block;line-height: 1.2em;}#sk-container-id-1 div.sk-label-container {text-align: center;}#sk-container-id-1 div.sk-container {/* jupyter's `normalize.less` sets `[hidden] { display: none; }` but bootstrap.min.css set `[hidden] { display: none !important; }` so we also need the `!important` here to be able to override the default hidden behavior on the sphinx rendered scikit-learn.org. See: https://github.com/scikit-learn/scikit-learn/issues/21755 */display: inline-block !important;position: relative;}#sk-container-id-1 div.sk-text-repr-fallback {display: none;}</style><div id=\"sk-container-id-1\" class=\"sk-top-container\"><div class=\"sk-text-repr-fallback\"><pre>RandomForestClassifier()</pre><b>In a Jupyter environment, please rerun this cell to show the HTML representation or trust the notebook. <br />On GitHub, the HTML representation is unable to render, please try loading this page with nbviewer.org.</b></div><div class=\"sk-container\" hidden><div class=\"sk-item\"><div class=\"sk-estimator sk-toggleable\"><input class=\"sk-toggleable__control sk-hidden--visually\" id=\"sk-estimator-id-1\" type=\"checkbox\" checked><label for=\"sk-estimator-id-1\" class=\"sk-toggleable__label sk-toggleable__label-arrow\">RandomForestClassifier</label><div class=\"sk-toggleable__content\"><pre>RandomForestClassifier()</pre></div></div></div></div></div>"
            ]
          },
          "metadata": {},
          "execution_count": 7
        }
      ]
    },
    {
      "cell_type": "code",
      "source": [
        "# evaluating accuracy of the model\n",
        "rf.score(X_test,y_test)"
      ],
      "metadata": {
        "colab": {
          "base_uri": "https://localhost:8080/"
        },
        "id": "ZNfT-pixg9hS",
        "outputId": "3609a8ef-b073-45ec-d6f5-34377fca9667"
      },
      "execution_count": 8,
      "outputs": [
        {
          "output_type": "execute_result",
          "data": {
            "text/plain": [
              "0.8928137897547949"
            ]
          },
          "metadata": {},
          "execution_count": 8
        }
      ]
    },
    {
      "cell_type": "code",
      "source": [
        "y_pred = rf.predict(X_test)"
      ],
      "metadata": {
        "id": "4CoImCUgjRjO"
      },
      "execution_count": 9,
      "outputs": []
    },
    {
      "cell_type": "code",
      "source": [
        "# evaluating accuracy of the model using accuracy_score\n",
        "accuracy = accuracy_score(y_test,y_pred) # (truth values, predicted values)\n",
        "accuracy"
      ],
      "metadata": {
        "colab": {
          "base_uri": "https://localhost:8080/"
        },
        "id": "UsKSJLrKjIJe",
        "outputId": "7901a121-b1e9-4592-eb8b-89cef881169d"
      },
      "execution_count": 10,
      "outputs": [
        {
          "output_type": "execute_result",
          "data": {
            "text/plain": [
              "0.8928137897547949"
            ]
          },
          "metadata": {},
          "execution_count": 10
        }
      ]
    },
    {
      "cell_type": "code",
      "source": [
        "# Visualizing decision tree using graphviz\n",
        "# exports first three decision trees from a trained rfc\n",
        "\n",
        "for i in range(3):\n",
        "  tree = rf.estimators_[i]\n",
        "  dot_data = export_graphviz(tree,\n",
        "                             feature_names=X_train.columns,\n",
        "                             filled=True,\n",
        "                             max_depth=2,\n",
        "                             impurity=True,\n",
        "                             proportion=True)\n",
        "  graph = graphviz.Source(dot_data)\n",
        "  display(graph)\n"
      ],
      "metadata": {
        "colab": {
          "base_uri": "https://localhost:8080/",
          "height": 1000
        },
        "id": "dBgMxieWjoHd",
        "outputId": "5a6e999f-2449-4a95-d4eb-567073445c5b"
      },
      "execution_count": 11,
      "outputs": [
        {
          "output_type": "display_data",
          "data": {
            "image/svg+xml": "<?xml version=\"1.0\" encoding=\"UTF-8\" standalone=\"no\"?>\n<!DOCTYPE svg PUBLIC \"-//W3C//DTD SVG 1.1//EN\"\n \"http://www.w3.org/Graphics/SVG/1.1/DTD/svg11.dtd\">\n<!-- Generated by graphviz version 2.43.0 (0)\n -->\n<!-- Title: Tree Pages: 1 -->\n<svg width=\"704pt\" height=\"356pt\"\n viewBox=\"0.00 0.00 704.00 356.00\" xmlns=\"http://www.w3.org/2000/svg\" xmlns:xlink=\"http://www.w3.org/1999/xlink\">\n<g id=\"graph0\" class=\"graph\" transform=\"scale(1 1) rotate(0) translate(4 352)\">\n<title>Tree</title>\n<polygon fill=\"white\" stroke=\"transparent\" points=\"-4,4 -4,-352 700,-352 700,4 -4,4\"/>\n<!-- 0 -->\n<g id=\"node1\" class=\"node\">\n<title>0</title>\n<polygon fill=\"#e89152\" stroke=\"black\" points=\"420,-348 262,-348 262,-280 420,-280 420,-348\"/>\n<text text-anchor=\"middle\" x=\"341\" y=\"-332.8\" font-family=\"Helvetica,sans-Serif\" font-size=\"14.00\">cons.conf.idx &lt;= &#45;35.45</text>\n<text text-anchor=\"middle\" x=\"341\" y=\"-317.8\" font-family=\"Helvetica,sans-Serif\" font-size=\"14.00\">gini = 0.198</text>\n<text text-anchor=\"middle\" x=\"341\" y=\"-302.8\" font-family=\"Helvetica,sans-Serif\" font-size=\"14.00\">samples = 100.0%</text>\n<text text-anchor=\"middle\" x=\"341\" y=\"-287.8\" font-family=\"Helvetica,sans-Serif\" font-size=\"14.00\">value = [0.888, 0.112]</text>\n</g>\n<!-- 1 -->\n<g id=\"node2\" class=\"node\">\n<title>1</title>\n<polygon fill=\"#e88d4c\" stroke=\"black\" points=\"323.5,-244 176.5,-244 176.5,-176 323.5,-176 323.5,-244\"/>\n<text text-anchor=\"middle\" x=\"250\" y=\"-228.8\" font-family=\"Helvetica,sans-Serif\" font-size=\"14.00\">age &lt;= 60.5</text>\n<text text-anchor=\"middle\" x=\"250\" y=\"-213.8\" font-family=\"Helvetica,sans-Serif\" font-size=\"14.00\">gini = 0.162</text>\n<text text-anchor=\"middle\" x=\"250\" y=\"-198.8\" font-family=\"Helvetica,sans-Serif\" font-size=\"14.00\">samples = 93.7%</text>\n<text text-anchor=\"middle\" x=\"250\" y=\"-183.8\" font-family=\"Helvetica,sans-Serif\" font-size=\"14.00\">value = [0.911, 0.089]</text>\n</g>\n<!-- 0&#45;&gt;1 -->\n<g id=\"edge1\" class=\"edge\">\n<title>0&#45;&gt;1</title>\n<path fill=\"none\" stroke=\"black\" d=\"M311.45,-279.88C303.51,-270.98 294.82,-261.24 286.54,-251.96\"/>\n<polygon fill=\"black\" stroke=\"black\" points=\"288.98,-249.43 279.71,-244.3 283.75,-254.09 288.98,-249.43\"/>\n<text text-anchor=\"middle\" x=\"278.29\" y=\"-265.56\" font-family=\"Helvetica,sans-Serif\" font-size=\"14.00\">True</text>\n</g>\n<!-- 1290 -->\n<g id=\"node9\" class=\"node\">\n<title>1290</title>\n<polygon fill=\"#fae5d6\" stroke=\"black\" points=\"505.5,-244 358.5,-244 358.5,-176 505.5,-176 505.5,-244\"/>\n<text text-anchor=\"middle\" x=\"432\" y=\"-228.8\" font-family=\"Helvetica,sans-Serif\" font-size=\"14.00\">age &lt;= 76.5</text>\n<text text-anchor=\"middle\" x=\"432\" y=\"-213.8\" font-family=\"Helvetica,sans-Serif\" font-size=\"14.00\">gini = 0.493</text>\n<text text-anchor=\"middle\" x=\"432\" y=\"-198.8\" font-family=\"Helvetica,sans-Serif\" font-size=\"14.00\">samples = 6.3%</text>\n<text text-anchor=\"middle\" x=\"432\" y=\"-183.8\" font-family=\"Helvetica,sans-Serif\" font-size=\"14.00\">value = [0.557, 0.443]</text>\n</g>\n<!-- 0&#45;&gt;1290 -->\n<g id=\"edge8\" class=\"edge\">\n<title>0&#45;&gt;1290</title>\n<path fill=\"none\" stroke=\"black\" d=\"M370.55,-279.88C378.49,-270.98 387.18,-261.24 395.46,-251.96\"/>\n<polygon fill=\"black\" stroke=\"black\" points=\"398.25,-254.09 402.29,-244.3 393.02,-249.43 398.25,-254.09\"/>\n<text text-anchor=\"middle\" x=\"403.71\" y=\"-265.56\" font-family=\"Helvetica,sans-Serif\" font-size=\"14.00\">False</text>\n</g>\n<!-- 2 -->\n<g id=\"node3\" class=\"node\">\n<title>2</title>\n<polygon fill=\"#e78d4b\" stroke=\"black\" points=\"150,-140 0,-140 0,-72 150,-72 150,-140\"/>\n<text text-anchor=\"middle\" x=\"75\" y=\"-124.8\" font-family=\"Helvetica,sans-Serif\" font-size=\"14.00\">cons.conf.idx &lt;= &#45;48.3</text>\n<text text-anchor=\"middle\" x=\"75\" y=\"-109.8\" font-family=\"Helvetica,sans-Serif\" font-size=\"14.00\">gini = 0.155</text>\n<text text-anchor=\"middle\" x=\"75\" y=\"-94.8\" font-family=\"Helvetica,sans-Serif\" font-size=\"14.00\">samples = 92.7%</text>\n<text text-anchor=\"middle\" x=\"75\" y=\"-79.8\" font-family=\"Helvetica,sans-Serif\" font-size=\"14.00\">value = [0.915, 0.085]</text>\n</g>\n<!-- 1&#45;&gt;2 -->\n<g id=\"edge2\" class=\"edge\">\n<title>1&#45;&gt;2</title>\n<path fill=\"none\" stroke=\"black\" d=\"M193.18,-175.88C176.44,-166.12 157.98,-155.37 140.73,-145.31\"/>\n<polygon fill=\"black\" stroke=\"black\" points=\"142.23,-142.14 131.83,-140.12 138.71,-148.18 142.23,-142.14\"/>\n</g>\n<!-- 1127 -->\n<g id=\"node6\" class=\"node\">\n<title>1127</title>\n<polygon fill=\"#fcf0e7\" stroke=\"black\" points=\"332,-140 168,-140 168,-72 332,-72 332,-140\"/>\n<text text-anchor=\"middle\" x=\"250\" y=\"-124.8\" font-family=\"Helvetica,sans-Serif\" font-size=\"14.00\">cons.price.idx &lt;= 93.951</text>\n<text text-anchor=\"middle\" x=\"250\" y=\"-109.8\" font-family=\"Helvetica,sans-Serif\" font-size=\"14.00\">gini = 0.498</text>\n<text text-anchor=\"middle\" x=\"250\" y=\"-94.8\" font-family=\"Helvetica,sans-Serif\" font-size=\"14.00\">samples = 1.0%</text>\n<text text-anchor=\"middle\" x=\"250\" y=\"-79.8\" font-family=\"Helvetica,sans-Serif\" font-size=\"14.00\">value = [0.532, 0.468]</text>\n</g>\n<!-- 1&#45;&gt;1127 -->\n<g id=\"edge5\" class=\"edge\">\n<title>1&#45;&gt;1127</title>\n<path fill=\"none\" stroke=\"black\" d=\"M250,-175.88C250,-167.78 250,-158.98 250,-150.47\"/>\n<polygon fill=\"black\" stroke=\"black\" points=\"253.5,-150.3 250,-140.3 246.5,-150.3 253.5,-150.3\"/>\n</g>\n<!-- 3 -->\n<g id=\"node4\" class=\"node\">\n<title>3</title>\n<polygon fill=\"#c0c0c0\" stroke=\"black\" points=\"76,-36 22,-36 22,0 76,0 76,-36\"/>\n<text text-anchor=\"middle\" x=\"49\" y=\"-14.3\" font-family=\"Helvetica,sans-Serif\" font-size=\"14.00\">(...)</text>\n</g>\n<!-- 2&#45;&gt;3 -->\n<g id=\"edge3\" class=\"edge\">\n<title>2&#45;&gt;3</title>\n<path fill=\"none\" stroke=\"black\" d=\"M65.02,-72C62.44,-63.47 59.7,-54.39 57.22,-46.2\"/>\n<polygon fill=\"black\" stroke=\"black\" points=\"60.51,-44.96 54.26,-36.4 53.81,-46.99 60.51,-44.96\"/>\n</g>\n<!-- 154 -->\n<g id=\"node5\" class=\"node\">\n<title>154</title>\n<polygon fill=\"#c0c0c0\" stroke=\"black\" points=\"148,-36 94,-36 94,0 148,0 148,-36\"/>\n<text text-anchor=\"middle\" x=\"121\" y=\"-14.3\" font-family=\"Helvetica,sans-Serif\" font-size=\"14.00\">(...)</text>\n</g>\n<!-- 2&#45;&gt;154 -->\n<g id=\"edge4\" class=\"edge\">\n<title>2&#45;&gt;154</title>\n<path fill=\"none\" stroke=\"black\" d=\"M92.65,-72C97.37,-63.19 102.4,-53.78 106.89,-45.38\"/>\n<polygon fill=\"black\" stroke=\"black\" points=\"110.06,-46.87 111.69,-36.4 103.89,-43.57 110.06,-46.87\"/>\n</g>\n<!-- 1128 -->\n<g id=\"node7\" class=\"node\">\n<title>1128</title>\n<polygon fill=\"#c0c0c0\" stroke=\"black\" points=\"235,-36 181,-36 181,0 235,0 235,-36\"/>\n<text text-anchor=\"middle\" x=\"208\" y=\"-14.3\" font-family=\"Helvetica,sans-Serif\" font-size=\"14.00\">(...)</text>\n</g>\n<!-- 1127&#45;&gt;1128 -->\n<g id=\"edge6\" class=\"edge\">\n<title>1127&#45;&gt;1128</title>\n<path fill=\"none\" stroke=\"black\" d=\"M233.88,-72C229.63,-63.28 225.09,-53.98 221.02,-45.65\"/>\n<polygon fill=\"black\" stroke=\"black\" points=\"224.03,-43.85 216.5,-36.4 217.74,-46.93 224.03,-43.85\"/>\n</g>\n<!-- 1199 -->\n<g id=\"node8\" class=\"node\">\n<title>1199</title>\n<polygon fill=\"#c0c0c0\" stroke=\"black\" points=\"307,-36 253,-36 253,0 307,0 307,-36\"/>\n<text text-anchor=\"middle\" x=\"280\" y=\"-14.3\" font-family=\"Helvetica,sans-Serif\" font-size=\"14.00\">(...)</text>\n</g>\n<!-- 1127&#45;&gt;1199 -->\n<g id=\"edge7\" class=\"edge\">\n<title>1127&#45;&gt;1199</title>\n<path fill=\"none\" stroke=\"black\" d=\"M261.51,-72C264.52,-63.38 267.73,-54.19 270.61,-45.92\"/>\n<polygon fill=\"black\" stroke=\"black\" points=\"273.94,-47 273.93,-36.4 267.33,-44.69 273.94,-47\"/>\n</g>\n<!-- 1291 -->\n<g id=\"node10\" class=\"node\">\n<title>1291</title>\n<polygon fill=\"#f9e3d3\" stroke=\"black\" points=\"514,-140 350,-140 350,-72 514,-72 514,-140\"/>\n<text text-anchor=\"middle\" x=\"432\" y=\"-124.8\" font-family=\"Helvetica,sans-Serif\" font-size=\"14.00\">cons.price.idx &lt;= 93.041</text>\n<text text-anchor=\"middle\" x=\"432\" y=\"-109.8\" font-family=\"Helvetica,sans-Serif\" font-size=\"14.00\">gini = 0.492</text>\n<text text-anchor=\"middle\" x=\"432\" y=\"-94.8\" font-family=\"Helvetica,sans-Serif\" font-size=\"14.00\">samples = 6.1%</text>\n<text text-anchor=\"middle\" x=\"432\" y=\"-79.8\" font-family=\"Helvetica,sans-Serif\" font-size=\"14.00\">value = [0.563, 0.437]</text>\n</g>\n<!-- 1290&#45;&gt;1291 -->\n<g id=\"edge9\" class=\"edge\">\n<title>1290&#45;&gt;1291</title>\n<path fill=\"none\" stroke=\"black\" d=\"M432,-175.88C432,-167.78 432,-158.98 432,-150.47\"/>\n<polygon fill=\"black\" stroke=\"black\" points=\"435.5,-150.3 432,-140.3 428.5,-150.3 435.5,-150.3\"/>\n</g>\n<!-- 1934 -->\n<g id=\"node13\" class=\"node\">\n<title>1934</title>\n<polygon fill=\"#bcdef6\" stroke=\"black\" points=\"696,-140 532,-140 532,-72 696,-72 696,-140\"/>\n<text text-anchor=\"middle\" x=\"614\" y=\"-124.8\" font-family=\"Helvetica,sans-Serif\" font-size=\"14.00\">cons.price.idx &lt;= 93.041</text>\n<text text-anchor=\"middle\" x=\"614\" y=\"-109.8\" font-family=\"Helvetica,sans-Serif\" font-size=\"14.00\">gini = 0.479</text>\n<text text-anchor=\"middle\" x=\"614\" y=\"-94.8\" font-family=\"Helvetica,sans-Serif\" font-size=\"14.00\">samples = 0.2%</text>\n<text text-anchor=\"middle\" x=\"614\" y=\"-79.8\" font-family=\"Helvetica,sans-Serif\" font-size=\"14.00\">value = [0.397, 0.603]</text>\n</g>\n<!-- 1290&#45;&gt;1934 -->\n<g id=\"edge12\" class=\"edge\">\n<title>1290&#45;&gt;1934</title>\n<path fill=\"none\" stroke=\"black\" d=\"M491.09,-175.88C508.66,-166.04 528.05,-155.17 546.14,-145.03\"/>\n<polygon fill=\"black\" stroke=\"black\" points=\"547.88,-148.07 554.9,-140.12 544.46,-141.96 547.88,-148.07\"/>\n</g>\n<!-- 1292 -->\n<g id=\"node11\" class=\"node\">\n<title>1292</title>\n<polygon fill=\"#c0c0c0\" stroke=\"black\" points=\"413,-36 359,-36 359,0 413,0 413,-36\"/>\n<text text-anchor=\"middle\" x=\"386\" y=\"-14.3\" font-family=\"Helvetica,sans-Serif\" font-size=\"14.00\">(...)</text>\n</g>\n<!-- 1291&#45;&gt;1292 -->\n<g id=\"edge10\" class=\"edge\">\n<title>1291&#45;&gt;1292</title>\n<path fill=\"none\" stroke=\"black\" d=\"M414.35,-72C409.63,-63.19 404.6,-53.78 400.11,-45.38\"/>\n<polygon fill=\"black\" stroke=\"black\" points=\"403.11,-43.57 395.31,-36.4 396.94,-46.87 403.11,-43.57\"/>\n</g>\n<!-- 1803 -->\n<g id=\"node12\" class=\"node\">\n<title>1803</title>\n<polygon fill=\"#c0c0c0\" stroke=\"black\" points=\"485,-36 431,-36 431,0 485,0 485,-36\"/>\n<text text-anchor=\"middle\" x=\"458\" y=\"-14.3\" font-family=\"Helvetica,sans-Serif\" font-size=\"14.00\">(...)</text>\n</g>\n<!-- 1291&#45;&gt;1803 -->\n<g id=\"edge11\" class=\"edge\">\n<title>1291&#45;&gt;1803</title>\n<path fill=\"none\" stroke=\"black\" d=\"M441.98,-72C444.56,-63.47 447.3,-54.39 449.78,-46.2\"/>\n<polygon fill=\"black\" stroke=\"black\" points=\"453.19,-46.99 452.74,-36.4 446.49,-44.96 453.19,-46.99\"/>\n</g>\n<!-- 1935 -->\n<g id=\"node14\" class=\"node\">\n<title>1935</title>\n<polygon fill=\"#c0c0c0\" stroke=\"black\" points=\"605,-36 551,-36 551,0 605,0 605,-36\"/>\n<text text-anchor=\"middle\" x=\"578\" y=\"-14.3\" font-family=\"Helvetica,sans-Serif\" font-size=\"14.00\">(...)</text>\n</g>\n<!-- 1934&#45;&gt;1935 -->\n<g id=\"edge13\" class=\"edge\">\n<title>1934&#45;&gt;1935</title>\n<path fill=\"none\" stroke=\"black\" d=\"M600.18,-72C596.54,-63.28 592.64,-53.98 589.16,-45.65\"/>\n<polygon fill=\"black\" stroke=\"black\" points=\"592.38,-44.28 585.29,-36.4 585.92,-46.98 592.38,-44.28\"/>\n</g>\n<!-- 1960 -->\n<g id=\"node15\" class=\"node\">\n<title>1960</title>\n<polygon fill=\"#c0c0c0\" stroke=\"black\" points=\"677,-36 623,-36 623,0 677,0 677,-36\"/>\n<text text-anchor=\"middle\" x=\"650\" y=\"-14.3\" font-family=\"Helvetica,sans-Serif\" font-size=\"14.00\">(...)</text>\n</g>\n<!-- 1934&#45;&gt;1960 -->\n<g id=\"edge14\" class=\"edge\">\n<title>1934&#45;&gt;1960</title>\n<path fill=\"none\" stroke=\"black\" d=\"M627.82,-72C631.46,-63.28 635.36,-53.98 638.84,-45.65\"/>\n<polygon fill=\"black\" stroke=\"black\" points=\"642.08,-46.98 642.71,-36.4 635.62,-44.28 642.08,-46.98\"/>\n</g>\n</g>\n</svg>\n",
            "text/plain": [
              "<graphviz.sources.Source at 0x7fa63dc939d0>"
            ]
          },
          "metadata": {}
        },
        {
          "output_type": "display_data",
          "data": {
            "image/svg+xml": "<?xml version=\"1.0\" encoding=\"UTF-8\" standalone=\"no\"?>\n<!DOCTYPE svg PUBLIC \"-//W3C//DTD SVG 1.1//EN\"\n \"http://www.w3.org/Graphics/SVG/1.1/DTD/svg11.dtd\">\n<!-- Generated by graphviz version 2.43.0 (0)\n -->\n<!-- Title: Tree Pages: 1 -->\n<svg width=\"682pt\" height=\"356pt\"\n viewBox=\"0.00 0.00 681.50 356.00\" xmlns=\"http://www.w3.org/2000/svg\" xmlns:xlink=\"http://www.w3.org/1999/xlink\">\n<g id=\"graph0\" class=\"graph\" transform=\"scale(1 1) rotate(0) translate(4 352)\">\n<title>Tree</title>\n<polygon fill=\"white\" stroke=\"transparent\" points=\"-4,4 -4,-352 677.5,-352 677.5,4 -4,4\"/>\n<!-- 0 -->\n<g id=\"node1\" class=\"node\">\n<title>0</title>\n<polygon fill=\"#e89153\" stroke=\"black\" points=\"412.5,-348 265.5,-348 265.5,-280 412.5,-280 412.5,-348\"/>\n<text text-anchor=\"middle\" x=\"339\" y=\"-332.8\" font-family=\"Helvetica,sans-Serif\" font-size=\"14.00\">age &lt;= 60.5</text>\n<text text-anchor=\"middle\" x=\"339\" y=\"-317.8\" font-family=\"Helvetica,sans-Serif\" font-size=\"14.00\">gini = 0.203</text>\n<text text-anchor=\"middle\" x=\"339\" y=\"-302.8\" font-family=\"Helvetica,sans-Serif\" font-size=\"14.00\">samples = 100.0%</text>\n<text text-anchor=\"middle\" x=\"339\" y=\"-287.8\" font-family=\"Helvetica,sans-Serif\" font-size=\"14.00\">value = [0.885, 0.115]</text>\n</g>\n<!-- 1 -->\n<g id=\"node2\" class=\"node\">\n<title>1</title>\n<polygon fill=\"#e89051\" stroke=\"black\" points=\"329,-244 171,-244 171,-176 329,-176 329,-244\"/>\n<text text-anchor=\"middle\" x=\"250\" y=\"-228.8\" font-family=\"Helvetica,sans-Serif\" font-size=\"14.00\">cons.conf.idx &lt;= &#45;35.45</text>\n<text text-anchor=\"middle\" x=\"250\" y=\"-213.8\" font-family=\"Helvetica,sans-Serif\" font-size=\"14.00\">gini = 0.191</text>\n<text text-anchor=\"middle\" x=\"250\" y=\"-198.8\" font-family=\"Helvetica,sans-Serif\" font-size=\"14.00\">samples = 97.9%</text>\n<text text-anchor=\"middle\" x=\"250\" y=\"-183.8\" font-family=\"Helvetica,sans-Serif\" font-size=\"14.00\">value = [0.893, 0.107]</text>\n</g>\n<!-- 0&#45;&gt;1 -->\n<g id=\"edge1\" class=\"edge\">\n<title>0&#45;&gt;1</title>\n<path fill=\"none\" stroke=\"black\" d=\"M310.1,-279.88C302.33,-270.98 293.83,-261.24 285.74,-251.96\"/>\n<polygon fill=\"black\" stroke=\"black\" points=\"288.27,-249.53 279.06,-244.3 282.99,-254.14 288.27,-249.53\"/>\n<text text-anchor=\"middle\" x=\"277.36\" y=\"-265.54\" font-family=\"Helvetica,sans-Serif\" font-size=\"14.00\">True</text>\n</g>\n<!-- 1696 -->\n<g id=\"node9\" class=\"node\">\n<title>1696</title>\n<polygon fill=\"#fdf6f1\" stroke=\"black\" points=\"511,-244 347,-244 347,-176 511,-176 511,-244\"/>\n<text text-anchor=\"middle\" x=\"429\" y=\"-228.8\" font-family=\"Helvetica,sans-Serif\" font-size=\"14.00\">cons.price.idx &lt;= 93.222</text>\n<text text-anchor=\"middle\" x=\"429\" y=\"-213.8\" font-family=\"Helvetica,sans-Serif\" font-size=\"14.00\">gini = 0.499</text>\n<text text-anchor=\"middle\" x=\"429\" y=\"-198.8\" font-family=\"Helvetica,sans-Serif\" font-size=\"14.00\">samples = 2.1%</text>\n<text text-anchor=\"middle\" x=\"429\" y=\"-183.8\" font-family=\"Helvetica,sans-Serif\" font-size=\"14.00\">value = [0.518, 0.482]</text>\n</g>\n<!-- 0&#45;&gt;1696 -->\n<g id=\"edge8\" class=\"edge\">\n<title>0&#45;&gt;1696</title>\n<path fill=\"none\" stroke=\"black\" d=\"M368.22,-279.88C376.08,-270.98 384.67,-261.24 392.86,-251.96\"/>\n<polygon fill=\"black\" stroke=\"black\" points=\"395.63,-254.11 399.62,-244.3 390.38,-249.48 395.63,-254.11\"/>\n<text text-anchor=\"middle\" x=\"401.18\" y=\"-265.55\" font-family=\"Helvetica,sans-Serif\" font-size=\"14.00\">False</text>\n</g>\n<!-- 2 -->\n<g id=\"node3\" class=\"node\">\n<title>2</title>\n<polygon fill=\"#e88d4c\" stroke=\"black\" points=\"150,-140 0,-140 0,-72 150,-72 150,-140\"/>\n<text text-anchor=\"middle\" x=\"75\" y=\"-124.8\" font-family=\"Helvetica,sans-Serif\" font-size=\"14.00\">cons.conf.idx &lt;= &#45;48.3</text>\n<text text-anchor=\"middle\" x=\"75\" y=\"-109.8\" font-family=\"Helvetica,sans-Serif\" font-size=\"14.00\">gini = 0.161</text>\n<text text-anchor=\"middle\" x=\"75\" y=\"-94.8\" font-family=\"Helvetica,sans-Serif\" font-size=\"14.00\">samples = 92.5%</text>\n<text text-anchor=\"middle\" x=\"75\" y=\"-79.8\" font-family=\"Helvetica,sans-Serif\" font-size=\"14.00\">value = [0.912, 0.088]</text>\n</g>\n<!-- 1&#45;&gt;2 -->\n<g id=\"edge2\" class=\"edge\">\n<title>1&#45;&gt;2</title>\n<path fill=\"none\" stroke=\"black\" d=\"M193.18,-175.88C176.44,-166.12 157.98,-155.37 140.73,-145.31\"/>\n<polygon fill=\"black\" stroke=\"black\" points=\"142.23,-142.14 131.83,-140.12 138.71,-148.18 142.23,-142.14\"/>\n</g>\n<!-- 1163 -->\n<g id=\"node6\" class=\"node\">\n<title>1163</title>\n<polygon fill=\"#f8decb\" stroke=\"black\" points=\"332,-140 168,-140 168,-72 332,-72 332,-140\"/>\n<text text-anchor=\"middle\" x=\"250\" y=\"-124.8\" font-family=\"Helvetica,sans-Serif\" font-size=\"14.00\">cons.price.idx &lt;= 92.559</text>\n<text text-anchor=\"middle\" x=\"250\" y=\"-109.8\" font-family=\"Helvetica,sans-Serif\" font-size=\"14.00\">gini = 0.488</text>\n<text text-anchor=\"middle\" x=\"250\" y=\"-94.8\" font-family=\"Helvetica,sans-Serif\" font-size=\"14.00\">samples = 5.4%</text>\n<text text-anchor=\"middle\" x=\"250\" y=\"-79.8\" font-family=\"Helvetica,sans-Serif\" font-size=\"14.00\">value = [0.576, 0.424]</text>\n</g>\n<!-- 1&#45;&gt;1163 -->\n<g id=\"edge5\" class=\"edge\">\n<title>1&#45;&gt;1163</title>\n<path fill=\"none\" stroke=\"black\" d=\"M250,-175.88C250,-167.78 250,-158.98 250,-150.47\"/>\n<polygon fill=\"black\" stroke=\"black\" points=\"253.5,-150.3 250,-140.3 246.5,-150.3 253.5,-150.3\"/>\n</g>\n<!-- 3 -->\n<g id=\"node4\" class=\"node\">\n<title>3</title>\n<polygon fill=\"#c0c0c0\" stroke=\"black\" points=\"66,-36 12,-36 12,0 66,0 66,-36\"/>\n<text text-anchor=\"middle\" x=\"39\" y=\"-14.3\" font-family=\"Helvetica,sans-Serif\" font-size=\"14.00\">(...)</text>\n</g>\n<!-- 2&#45;&gt;3 -->\n<g id=\"edge3\" class=\"edge\">\n<title>2&#45;&gt;3</title>\n<path fill=\"none\" stroke=\"black\" d=\"M61.18,-72C57.54,-63.28 53.64,-53.98 50.16,-45.65\"/>\n<polygon fill=\"black\" stroke=\"black\" points=\"53.38,-44.28 46.29,-36.4 46.92,-46.98 53.38,-44.28\"/>\n</g>\n<!-- 178 -->\n<g id=\"node5\" class=\"node\">\n<title>178</title>\n<polygon fill=\"#c0c0c0\" stroke=\"black\" points=\"138,-36 84,-36 84,0 138,0 138,-36\"/>\n<text text-anchor=\"middle\" x=\"111\" y=\"-14.3\" font-family=\"Helvetica,sans-Serif\" font-size=\"14.00\">(...)</text>\n</g>\n<!-- 2&#45;&gt;178 -->\n<g id=\"edge4\" class=\"edge\">\n<title>2&#45;&gt;178</title>\n<path fill=\"none\" stroke=\"black\" d=\"M88.82,-72C92.46,-63.28 96.36,-53.98 99.84,-45.65\"/>\n<polygon fill=\"black\" stroke=\"black\" points=\"103.08,-46.98 103.71,-36.4 96.62,-44.28 103.08,-46.98\"/>\n</g>\n<!-- 1164 -->\n<g id=\"node7\" class=\"node\">\n<title>1164</title>\n<polygon fill=\"#c0c0c0\" stroke=\"black\" points=\"251,-36 197,-36 197,0 251,0 251,-36\"/>\n<text text-anchor=\"middle\" x=\"224\" y=\"-14.3\" font-family=\"Helvetica,sans-Serif\" font-size=\"14.00\">(...)</text>\n</g>\n<!-- 1163&#45;&gt;1164 -->\n<g id=\"edge6\" class=\"edge\">\n<title>1163&#45;&gt;1164</title>\n<path fill=\"none\" stroke=\"black\" d=\"M240.02,-72C237.44,-63.47 234.7,-54.39 232.22,-46.2\"/>\n<polygon fill=\"black\" stroke=\"black\" points=\"235.51,-44.96 229.26,-36.4 228.81,-46.99 235.51,-44.96\"/>\n</g>\n<!-- 1447 -->\n<g id=\"node8\" class=\"node\">\n<title>1447</title>\n<polygon fill=\"#c0c0c0\" stroke=\"black\" points=\"323,-36 269,-36 269,0 323,0 323,-36\"/>\n<text text-anchor=\"middle\" x=\"296\" y=\"-14.3\" font-family=\"Helvetica,sans-Serif\" font-size=\"14.00\">(...)</text>\n</g>\n<!-- 1163&#45;&gt;1447 -->\n<g id=\"edge7\" class=\"edge\">\n<title>1163&#45;&gt;1447</title>\n<path fill=\"none\" stroke=\"black\" d=\"M267.65,-72C272.37,-63.19 277.4,-53.78 281.89,-45.38\"/>\n<polygon fill=\"black\" stroke=\"black\" points=\"285.06,-46.87 286.69,-36.4 278.89,-43.57 285.06,-46.87\"/>\n</g>\n<!-- 1697 -->\n<g id=\"node10\" class=\"node\">\n<title>1697</title>\n<polygon fill=\"#f7d7c0\" stroke=\"black\" points=\"508,-140 350,-140 350,-72 508,-72 508,-140\"/>\n<text text-anchor=\"middle\" x=\"429\" y=\"-124.8\" font-family=\"Helvetica,sans-Serif\" font-size=\"14.00\">cons.conf.idx &lt;= &#45;30.75</text>\n<text text-anchor=\"middle\" x=\"429\" y=\"-109.8\" font-family=\"Helvetica,sans-Serif\" font-size=\"14.00\">gini = 0.482</text>\n<text text-anchor=\"middle\" x=\"429\" y=\"-94.8\" font-family=\"Helvetica,sans-Serif\" font-size=\"14.00\">samples = 1.4%</text>\n<text text-anchor=\"middle\" x=\"429\" y=\"-79.8\" font-family=\"Helvetica,sans-Serif\" font-size=\"14.00\">value = [0.594, 0.406]</text>\n</g>\n<!-- 1696&#45;&gt;1697 -->\n<g id=\"edge9\" class=\"edge\">\n<title>1696&#45;&gt;1697</title>\n<path fill=\"none\" stroke=\"black\" d=\"M429,-175.88C429,-167.78 429,-158.98 429,-150.47\"/>\n<polygon fill=\"black\" stroke=\"black\" points=\"432.5,-150.3 429,-140.3 425.5,-150.3 432.5,-150.3\"/>\n</g>\n<!-- 1894 -->\n<g id=\"node13\" class=\"node\">\n<title>1894</title>\n<polygon fill=\"#b1d8f5\" stroke=\"black\" points=\"673.5,-140 526.5,-140 526.5,-72 673.5,-72 673.5,-140\"/>\n<text text-anchor=\"middle\" x=\"600\" y=\"-124.8\" font-family=\"Helvetica,sans-Serif\" font-size=\"14.00\">age &lt;= 74.5</text>\n<text text-anchor=\"middle\" x=\"600\" y=\"-109.8\" font-family=\"Helvetica,sans-Serif\" font-size=\"14.00\">gini = 0.47</text>\n<text text-anchor=\"middle\" x=\"600\" y=\"-94.8\" font-family=\"Helvetica,sans-Serif\" font-size=\"14.00\">samples = 0.7%</text>\n<text text-anchor=\"middle\" x=\"600\" y=\"-79.8\" font-family=\"Helvetica,sans-Serif\" font-size=\"14.00\">value = [0.377, 0.623]</text>\n</g>\n<!-- 1696&#45;&gt;1894 -->\n<g id=\"edge12\" class=\"edge\">\n<title>1696&#45;&gt;1894</title>\n<path fill=\"none\" stroke=\"black\" d=\"M484.52,-175.88C500.88,-166.12 518.92,-155.37 535.77,-145.31\"/>\n<polygon fill=\"black\" stroke=\"black\" points=\"537.67,-148.25 544.47,-140.12 534.09,-142.24 537.67,-148.25\"/>\n</g>\n<!-- 1698 -->\n<g id=\"node11\" class=\"node\">\n<title>1698</title>\n<polygon fill=\"#c0c0c0\" stroke=\"black\" points=\"423,-36 369,-36 369,0 423,0 423,-36\"/>\n<text text-anchor=\"middle\" x=\"396\" y=\"-14.3\" font-family=\"Helvetica,sans-Serif\" font-size=\"14.00\">(...)</text>\n</g>\n<!-- 1697&#45;&gt;1698 -->\n<g id=\"edge10\" class=\"edge\">\n<title>1697&#45;&gt;1698</title>\n<path fill=\"none\" stroke=\"black\" d=\"M416.34,-72C413.03,-63.38 409.5,-54.19 406.33,-45.92\"/>\n<polygon fill=\"black\" stroke=\"black\" points=\"409.53,-44.49 402.68,-36.4 402.99,-46.99 409.53,-44.49\"/>\n</g>\n<!-- 1807 -->\n<g id=\"node12\" class=\"node\">\n<title>1807</title>\n<polygon fill=\"#c0c0c0\" stroke=\"black\" points=\"495,-36 441,-36 441,0 495,0 495,-36\"/>\n<text text-anchor=\"middle\" x=\"468\" y=\"-14.3\" font-family=\"Helvetica,sans-Serif\" font-size=\"14.00\">(...)</text>\n</g>\n<!-- 1697&#45;&gt;1807 -->\n<g id=\"edge11\" class=\"edge\">\n<title>1697&#45;&gt;1807</title>\n<path fill=\"none\" stroke=\"black\" d=\"M443.97,-72C447.92,-63.28 452.13,-53.98 455.91,-45.65\"/>\n<polygon fill=\"black\" stroke=\"black\" points=\"459.17,-46.96 460.11,-36.4 452.79,-44.07 459.17,-46.96\"/>\n</g>\n<!-- 1895 -->\n<g id=\"node14\" class=\"node\">\n<title>1895</title>\n<polygon fill=\"#c0c0c0\" stroke=\"black\" points=\"580,-36 526,-36 526,0 580,0 580,-36\"/>\n<text text-anchor=\"middle\" x=\"553\" y=\"-14.3\" font-family=\"Helvetica,sans-Serif\" font-size=\"14.00\">(...)</text>\n</g>\n<!-- 1894&#45;&gt;1895 -->\n<g id=\"edge13\" class=\"edge\">\n<title>1894&#45;&gt;1895</title>\n<path fill=\"none\" stroke=\"black\" d=\"M581.96,-72C577.15,-63.19 572.01,-53.78 567.42,-45.38\"/>\n<polygon fill=\"black\" stroke=\"black\" points=\"570.38,-43.5 562.51,-36.4 564.24,-46.86 570.38,-43.5\"/>\n</g>\n<!-- 1974 -->\n<g id=\"node15\" class=\"node\">\n<title>1974</title>\n<polygon fill=\"#c0c0c0\" stroke=\"black\" points=\"652,-36 598,-36 598,0 652,0 652,-36\"/>\n<text text-anchor=\"middle\" x=\"625\" y=\"-14.3\" font-family=\"Helvetica,sans-Serif\" font-size=\"14.00\">(...)</text>\n</g>\n<!-- 1894&#45;&gt;1974 -->\n<g id=\"edge14\" class=\"edge\">\n<title>1894&#45;&gt;1974</title>\n<path fill=\"none\" stroke=\"black\" d=\"M609.59,-72C612.07,-63.47 614.71,-54.39 617.09,-46.2\"/>\n<polygon fill=\"black\" stroke=\"black\" points=\"620.51,-46.98 619.94,-36.4 613.79,-45.03 620.51,-46.98\"/>\n</g>\n</g>\n</svg>\n",
            "text/plain": [
              "<graphviz.sources.Source at 0x7fa63dc78e80>"
            ]
          },
          "metadata": {}
        },
        {
          "output_type": "display_data",
          "data": {
            "image/svg+xml": "<?xml version=\"1.0\" encoding=\"UTF-8\" standalone=\"no\"?>\n<!DOCTYPE svg PUBLIC \"-//W3C//DTD SVG 1.1//EN\"\n \"http://www.w3.org/Graphics/SVG/1.1/DTD/svg11.dtd\">\n<!-- Generated by graphviz version 2.43.0 (0)\n -->\n<!-- Title: Tree Pages: 1 -->\n<svg width=\"673pt\" height=\"356pt\"\n viewBox=\"0.00 0.00 672.50 356.00\" xmlns=\"http://www.w3.org/2000/svg\" xmlns:xlink=\"http://www.w3.org/1999/xlink\">\n<g id=\"graph0\" class=\"graph\" transform=\"scale(1 1) rotate(0) translate(4 352)\">\n<title>Tree</title>\n<polygon fill=\"white\" stroke=\"transparent\" points=\"-4,4 -4,-352 668.5,-352 668.5,4 -4,4\"/>\n<!-- 0 -->\n<g id=\"node1\" class=\"node\">\n<title>0</title>\n<polygon fill=\"#e89152\" stroke=\"black\" points=\"405.5,-348 241.5,-348 241.5,-280 405.5,-280 405.5,-348\"/>\n<text text-anchor=\"middle\" x=\"323.5\" y=\"-332.8\" font-family=\"Helvetica,sans-Serif\" font-size=\"14.00\">cons.price.idx &lt;= 92.868</text>\n<text text-anchor=\"middle\" x=\"323.5\" y=\"-317.8\" font-family=\"Helvetica,sans-Serif\" font-size=\"14.00\">gini = 0.201</text>\n<text text-anchor=\"middle\" x=\"323.5\" y=\"-302.8\" font-family=\"Helvetica,sans-Serif\" font-size=\"14.00\">samples = 100.0%</text>\n<text text-anchor=\"middle\" x=\"323.5\" y=\"-287.8\" font-family=\"Helvetica,sans-Serif\" font-size=\"14.00\">value = [0.887, 0.113]</text>\n</g>\n<!-- 1 -->\n<g id=\"node2\" class=\"node\">\n<title>1</title>\n<polygon fill=\"#f9e3d2\" stroke=\"black\" points=\"317,-244 160,-244 160,-176 317,-176 317,-244\"/>\n<text text-anchor=\"middle\" x=\"238.5\" y=\"-228.8\" font-family=\"Helvetica,sans-Serif\" font-size=\"14.00\">cons.price.idx &lt;= 92.29</text>\n<text text-anchor=\"middle\" x=\"238.5\" y=\"-213.8\" font-family=\"Helvetica,sans-Serif\" font-size=\"14.00\">gini = 0.492</text>\n<text text-anchor=\"middle\" x=\"238.5\" y=\"-198.8\" font-family=\"Helvetica,sans-Serif\" font-size=\"14.00\">samples = 6.0%</text>\n<text text-anchor=\"middle\" x=\"238.5\" y=\"-183.8\" font-family=\"Helvetica,sans-Serif\" font-size=\"14.00\">value = [0.563, 0.437]</text>\n</g>\n<!-- 0&#45;&gt;1 -->\n<g id=\"edge1\" class=\"edge\">\n<title>0&#45;&gt;1</title>\n<path fill=\"none\" stroke=\"black\" d=\"M295.9,-279.88C288.55,-271.07 280.53,-261.43 272.86,-252.24\"/>\n<polygon fill=\"black\" stroke=\"black\" points=\"275.34,-249.74 266.25,-244.3 269.96,-254.22 275.34,-249.74\"/>\n<text text-anchor=\"middle\" x=\"263.99\" y=\"-265.5\" font-family=\"Helvetica,sans-Serif\" font-size=\"14.00\">True</text>\n</g>\n<!-- 640 -->\n<g id=\"node9\" class=\"node\">\n<title>640</title>\n<polygon fill=\"#e88e4d\" stroke=\"black\" points=\"483,-244 336,-244 336,-176 483,-176 483,-244\"/>\n<text text-anchor=\"middle\" x=\"409.5\" y=\"-228.8\" font-family=\"Helvetica,sans-Serif\" font-size=\"14.00\">age &lt;= 60.5</text>\n<text text-anchor=\"middle\" x=\"409.5\" y=\"-213.8\" font-family=\"Helvetica,sans-Serif\" font-size=\"14.00\">gini = 0.169</text>\n<text text-anchor=\"middle\" x=\"409.5\" y=\"-198.8\" font-family=\"Helvetica,sans-Serif\" font-size=\"14.00\">samples = 94.0%</text>\n<text text-anchor=\"middle\" x=\"409.5\" y=\"-183.8\" font-family=\"Helvetica,sans-Serif\" font-size=\"14.00\">value = [0.907, 0.093]</text>\n</g>\n<!-- 0&#45;&gt;640 -->\n<g id=\"edge8\" class=\"edge\">\n<title>0&#45;&gt;640</title>\n<path fill=\"none\" stroke=\"black\" d=\"M351.42,-279.88C358.93,-270.98 367.14,-261.24 374.97,-251.96\"/>\n<polygon fill=\"black\" stroke=\"black\" points=\"377.65,-254.2 381.42,-244.3 372.3,-249.69 377.65,-254.2\"/>\n<text text-anchor=\"middle\" x=\"383.54\" y=\"-265.51\" font-family=\"Helvetica,sans-Serif\" font-size=\"14.00\">False</text>\n</g>\n<!-- 2 -->\n<g id=\"node3\" class=\"node\">\n<title>2</title>\n<polygon fill=\"#f3c5a4\" stroke=\"black\" points=\"147,-140 0,-140 0,-72 147,-72 147,-140\"/>\n<text text-anchor=\"middle\" x=\"73.5\" y=\"-124.8\" font-family=\"Helvetica,sans-Serif\" font-size=\"14.00\">age &lt;= 33.5</text>\n<text text-anchor=\"middle\" x=\"73.5\" y=\"-109.8\" font-family=\"Helvetica,sans-Serif\" font-size=\"14.00\">gini = 0.456</text>\n<text text-anchor=\"middle\" x=\"73.5\" y=\"-94.8\" font-family=\"Helvetica,sans-Serif\" font-size=\"14.00\">samples = 1.9%</text>\n<text text-anchor=\"middle\" x=\"73.5\" y=\"-79.8\" font-family=\"Helvetica,sans-Serif\" font-size=\"14.00\">value = [0.649, 0.351]</text>\n</g>\n<!-- 1&#45;&gt;2 -->\n<g id=\"edge2\" class=\"edge\">\n<title>1&#45;&gt;2</title>\n<path fill=\"none\" stroke=\"black\" d=\"M184.93,-175.88C169.29,-166.21 152.06,-155.56 135.92,-145.59\"/>\n<polygon fill=\"black\" stroke=\"black\" points=\"137.43,-142.41 127.08,-140.12 133.75,-148.36 137.43,-142.41\"/>\n</g>\n<!-- 125 -->\n<g id=\"node6\" class=\"node\">\n<title>125</title>\n<polygon fill=\"#fcf2eb\" stroke=\"black\" points=\"312,-140 165,-140 165,-72 312,-72 312,-140\"/>\n<text text-anchor=\"middle\" x=\"238.5\" y=\"-124.8\" font-family=\"Helvetica,sans-Serif\" font-size=\"14.00\">age &lt;= 75.5</text>\n<text text-anchor=\"middle\" x=\"238.5\" y=\"-109.8\" font-family=\"Helvetica,sans-Serif\" font-size=\"14.00\">gini = 0.499</text>\n<text text-anchor=\"middle\" x=\"238.5\" y=\"-94.8\" font-family=\"Helvetica,sans-Serif\" font-size=\"14.00\">samples = 4.2%</text>\n<text text-anchor=\"middle\" x=\"238.5\" y=\"-79.8\" font-family=\"Helvetica,sans-Serif\" font-size=\"14.00\">value = [0.526, 0.474]</text>\n</g>\n<!-- 1&#45;&gt;125 -->\n<g id=\"edge5\" class=\"edge\">\n<title>1&#45;&gt;125</title>\n<path fill=\"none\" stroke=\"black\" d=\"M238.5,-175.88C238.5,-167.78 238.5,-158.98 238.5,-150.47\"/>\n<polygon fill=\"black\" stroke=\"black\" points=\"242,-150.3 238.5,-140.3 235,-150.3 242,-150.3\"/>\n</g>\n<!-- 3 -->\n<g id=\"node4\" class=\"node\">\n<title>3</title>\n<polygon fill=\"#c0c0c0\" stroke=\"black\" points=\"64.5,-36 10.5,-36 10.5,0 64.5,0 64.5,-36\"/>\n<text text-anchor=\"middle\" x=\"37.5\" y=\"-14.3\" font-family=\"Helvetica,sans-Serif\" font-size=\"14.00\">(...)</text>\n</g>\n<!-- 2&#45;&gt;3 -->\n<g id=\"edge3\" class=\"edge\">\n<title>2&#45;&gt;3</title>\n<path fill=\"none\" stroke=\"black\" d=\"M59.68,-72C56.04,-63.28 52.14,-53.98 48.66,-45.65\"/>\n<polygon fill=\"black\" stroke=\"black\" points=\"51.88,-44.28 44.79,-36.4 45.42,-46.98 51.88,-44.28\"/>\n</g>\n<!-- 36 -->\n<g id=\"node5\" class=\"node\">\n<title>36</title>\n<polygon fill=\"#c0c0c0\" stroke=\"black\" points=\"136.5,-36 82.5,-36 82.5,0 136.5,0 136.5,-36\"/>\n<text text-anchor=\"middle\" x=\"109.5\" y=\"-14.3\" font-family=\"Helvetica,sans-Serif\" font-size=\"14.00\">(...)</text>\n</g>\n<!-- 2&#45;&gt;36 -->\n<g id=\"edge4\" class=\"edge\">\n<title>2&#45;&gt;36</title>\n<path fill=\"none\" stroke=\"black\" d=\"M87.32,-72C90.96,-63.28 94.86,-53.98 98.34,-45.65\"/>\n<polygon fill=\"black\" stroke=\"black\" points=\"101.58,-46.98 102.21,-36.4 95.12,-44.28 101.58,-46.98\"/>\n</g>\n<!-- 126 -->\n<g id=\"node7\" class=\"node\">\n<title>126</title>\n<polygon fill=\"#c0c0c0\" stroke=\"black\" points=\"242.5,-36 188.5,-36 188.5,0 242.5,0 242.5,-36\"/>\n<text text-anchor=\"middle\" x=\"215.5\" y=\"-14.3\" font-family=\"Helvetica,sans-Serif\" font-size=\"14.00\">(...)</text>\n</g>\n<!-- 125&#45;&gt;126 -->\n<g id=\"edge6\" class=\"edge\">\n<title>125&#45;&gt;126</title>\n<path fill=\"none\" stroke=\"black\" d=\"M229.67,-72C227.39,-63.47 224.96,-54.39 222.77,-46.2\"/>\n<polygon fill=\"black\" stroke=\"black\" points=\"226.12,-45.16 220.15,-36.4 219.36,-46.97 226.12,-45.16\"/>\n</g>\n<!-- 609 -->\n<g id=\"node8\" class=\"node\">\n<title>609</title>\n<polygon fill=\"#c0c0c0\" stroke=\"black\" points=\"314.5,-36 260.5,-36 260.5,0 314.5,0 314.5,-36\"/>\n<text text-anchor=\"middle\" x=\"287.5\" y=\"-14.3\" font-family=\"Helvetica,sans-Serif\" font-size=\"14.00\">(...)</text>\n</g>\n<!-- 125&#45;&gt;609 -->\n<g id=\"edge7\" class=\"edge\">\n<title>125&#45;&gt;609</title>\n<path fill=\"none\" stroke=\"black\" d=\"M257.3,-72C262.38,-63.09 267.8,-53.58 272.62,-45.11\"/>\n<polygon fill=\"black\" stroke=\"black\" points=\"275.67,-46.82 277.58,-36.4 269.59,-43.36 275.67,-46.82\"/>\n</g>\n<!-- 641 -->\n<g id=\"node10\" class=\"node\">\n<title>641</title>\n<polygon fill=\"#e88d4c\" stroke=\"black\" points=\"488.5,-140 330.5,-140 330.5,-72 488.5,-72 488.5,-140\"/>\n<text text-anchor=\"middle\" x=\"409.5\" y=\"-124.8\" font-family=\"Helvetica,sans-Serif\" font-size=\"14.00\">cons.conf.idx &lt;= &#45;35.45</text>\n<text text-anchor=\"middle\" x=\"409.5\" y=\"-109.8\" font-family=\"Helvetica,sans-Serif\" font-size=\"14.00\">gini = 0.161</text>\n<text text-anchor=\"middle\" x=\"409.5\" y=\"-94.8\" font-family=\"Helvetica,sans-Serif\" font-size=\"14.00\">samples = 92.9%</text>\n<text text-anchor=\"middle\" x=\"409.5\" y=\"-79.8\" font-family=\"Helvetica,sans-Serif\" font-size=\"14.00\">value = [0.912, 0.088]</text>\n</g>\n<!-- 640&#45;&gt;641 -->\n<g id=\"edge9\" class=\"edge\">\n<title>640&#45;&gt;641</title>\n<path fill=\"none\" stroke=\"black\" d=\"M409.5,-175.88C409.5,-167.78 409.5,-158.98 409.5,-150.47\"/>\n<polygon fill=\"black\" stroke=\"black\" points=\"413,-150.3 409.5,-140.3 406,-150.3 413,-150.3\"/>\n</g>\n<!-- 1812 -->\n<g id=\"node13\" class=\"node\">\n<title>1812</title>\n<polygon fill=\"#fefbf9\" stroke=\"black\" points=\"664.5,-140 506.5,-140 506.5,-72 664.5,-72 664.5,-140\"/>\n<text text-anchor=\"middle\" x=\"585.5\" y=\"-124.8\" font-family=\"Helvetica,sans-Serif\" font-size=\"14.00\">cons.conf.idx &lt;= &#45;40.55</text>\n<text text-anchor=\"middle\" x=\"585.5\" y=\"-109.8\" font-family=\"Helvetica,sans-Serif\" font-size=\"14.00\">gini = 0.5</text>\n<text text-anchor=\"middle\" x=\"585.5\" y=\"-94.8\" font-family=\"Helvetica,sans-Serif\" font-size=\"14.00\">samples = 1.1%</text>\n<text text-anchor=\"middle\" x=\"585.5\" y=\"-79.8\" font-family=\"Helvetica,sans-Serif\" font-size=\"14.00\">value = [0.508, 0.492]</text>\n</g>\n<!-- 640&#45;&gt;1812 -->\n<g id=\"edge12\" class=\"edge\">\n<title>640&#45;&gt;1812</title>\n<path fill=\"none\" stroke=\"black\" d=\"M466.64,-175.88C483.48,-166.12 502.04,-155.37 519.4,-145.31\"/>\n<polygon fill=\"black\" stroke=\"black\" points=\"521.45,-148.17 528.34,-140.12 517.94,-142.11 521.45,-148.17\"/>\n</g>\n<!-- 642 -->\n<g id=\"node11\" class=\"node\">\n<title>642</title>\n<polygon fill=\"#c0c0c0\" stroke=\"black\" points=\"408.5,-36 354.5,-36 354.5,0 408.5,0 408.5,-36\"/>\n<text text-anchor=\"middle\" x=\"381.5\" y=\"-14.3\" font-family=\"Helvetica,sans-Serif\" font-size=\"14.00\">(...)</text>\n</g>\n<!-- 641&#45;&gt;642 -->\n<g id=\"edge10\" class=\"edge\">\n<title>641&#45;&gt;642</title>\n<path fill=\"none\" stroke=\"black\" d=\"M398.75,-72C395.95,-63.38 392.96,-54.19 390.27,-45.92\"/>\n<polygon fill=\"black\" stroke=\"black\" points=\"393.59,-44.83 387.17,-36.4 386.93,-47 393.59,-44.83\"/>\n</g>\n<!-- 1697 -->\n<g id=\"node12\" class=\"node\">\n<title>1697</title>\n<polygon fill=\"#c0c0c0\" stroke=\"black\" points=\"480.5,-36 426.5,-36 426.5,0 480.5,0 480.5,-36\"/>\n<text text-anchor=\"middle\" x=\"453.5\" y=\"-14.3\" font-family=\"Helvetica,sans-Serif\" font-size=\"14.00\">(...)</text>\n</g>\n<!-- 641&#45;&gt;1697 -->\n<g id=\"edge11\" class=\"edge\">\n<title>641&#45;&gt;1697</title>\n<path fill=\"none\" stroke=\"black\" d=\"M426.39,-72C430.89,-63.19 435.7,-53.78 440,-45.38\"/>\n<polygon fill=\"black\" stroke=\"black\" points=\"443.16,-46.9 444.6,-36.4 436.93,-43.71 443.16,-46.9\"/>\n</g>\n<!-- 1813 -->\n<g id=\"node14\" class=\"node\">\n<title>1813</title>\n<polygon fill=\"#c0c0c0\" stroke=\"black\" points=\"563.5,-36 509.5,-36 509.5,0 563.5,0 563.5,-36\"/>\n<text text-anchor=\"middle\" x=\"536.5\" y=\"-14.3\" font-family=\"Helvetica,sans-Serif\" font-size=\"14.00\">(...)</text>\n</g>\n<!-- 1812&#45;&gt;1813 -->\n<g id=\"edge13\" class=\"edge\">\n<title>1812&#45;&gt;1813</title>\n<path fill=\"none\" stroke=\"black\" d=\"M566.7,-72C561.62,-63.09 556.2,-53.58 551.38,-45.11\"/>\n<polygon fill=\"black\" stroke=\"black\" points=\"554.41,-43.36 546.42,-36.4 548.33,-46.82 554.41,-43.36\"/>\n</g>\n<!-- 1896 -->\n<g id=\"node15\" class=\"node\">\n<title>1896</title>\n<polygon fill=\"#c0c0c0\" stroke=\"black\" points=\"635.5,-36 581.5,-36 581.5,0 635.5,0 635.5,-36\"/>\n<text text-anchor=\"middle\" x=\"608.5\" y=\"-14.3\" font-family=\"Helvetica,sans-Serif\" font-size=\"14.00\">(...)</text>\n</g>\n<!-- 1812&#45;&gt;1896 -->\n<g id=\"edge14\" class=\"edge\">\n<title>1812&#45;&gt;1896</title>\n<path fill=\"none\" stroke=\"black\" d=\"M594.33,-72C596.61,-63.47 599.04,-54.39 601.23,-46.2\"/>\n<polygon fill=\"black\" stroke=\"black\" points=\"604.64,-46.97 603.85,-36.4 597.88,-45.16 604.64,-46.97\"/>\n</g>\n</g>\n</svg>\n",
            "text/plain": [
              "<graphviz.sources.Source at 0x7fa63e6bfb80>"
            ]
          },
          "metadata": {}
        }
      ]
    },
    {
      "cell_type": "markdown",
      "source": [
        "This code exports the first three decision trees from a trained random forest classifier (stored in the variable rf) as graphs using the export_graphviz function from the sklearn.tree module and the graphviz library.\n",
        "\n",
        "The for loop iterates over the first three trees (estimators_ attribute) in the rf classifier. For each tree, the code creates a dot_data object by calling export_graphviz with the following arguments:\n",
        "\n",
        "tree: The decision tree to export.\n",
        "\n",
        "feature_names: The names of the features used to train the tree.\n",
        "\n",
        "filled: Whether to fill the tree nodes with colors.\n",
        "\n",
        "max_depth: The maximum depth of the tree to display.\n",
        "\n",
        "impurity: Whether to show the impurity at each node.\n",
        "\n",
        "proportion: Whether to show the proportion of samples at each node.\n",
        "\n",
        "Once the dot_data object is created, it is passed to the graphviz.Source constructor to create a graph object, which is then displayed using the display function. The resulting graph shows the decision tree with its nodes and edges, the feature used to split each node, the criterion used to split each node, and the number of samples and class distribution at each node."
      ],
      "metadata": {
        "id": "VZgle-JgqHIV"
      }
    },
    {
      "cell_type": "markdown",
      "source": [
        "Each tree image is limited to only showing the first few nodes. These trees can get very large and difficult to visualize. The colors represent the majority class of each node (box, with red indicating majority 0 (no subscription) and blue indicating majority 1 (subscription). The colors get darker the closer the node gets to being fully 0 or 1. Each node also contains the following information:\n",
        "\n",
        "1. The variable name and value used for splitting\n",
        "2. The % of total samples in each split\n",
        "3. The % split between classes in each split"
      ],
      "metadata": {
        "id": "c661Z7sasS3_"
      }
    },
    {
      "cell_type": "code",
      "source": [
        "param_dist = {'n_estimators':randint(50,500),'max_depth':randint(1,20)}\n",
        "rf = RandomForestClassifier()\n",
        "\n",
        "random_search = RandomizedSearchCV(rf,param_distributions = param_dist, n_iter=5, cv=5)\n",
        "# This function also uses cross validation, which means it splits the data into \n",
        "# five equal-sized groups and uses 4 to train and 1 to test the result. \n",
        "# It will loop through each group and give an accuracy score, which is averaged to find the best model.\n",
        "\n",
        "random_search.fit(X_train,y_train)\n",
        "\n"
      ],
      "metadata": {
        "colab": {
          "base_uri": "https://localhost:8080/",
          "height": 117
        },
        "id": "KOedtn8qsSXc",
        "outputId": "75d3e55e-a7ec-4c1a-c2fa-c37ee50038ee"
      },
      "execution_count": 12,
      "outputs": [
        {
          "output_type": "execute_result",
          "data": {
            "text/plain": [
              "RandomizedSearchCV(cv=5, estimator=RandomForestClassifier(), n_iter=5,\n",
              "                   param_distributions={'max_depth': <scipy.stats._distn_infrastructure.rv_discrete_frozen object at 0x7fa63dca71f0>,\n",
              "                                        'n_estimators': <scipy.stats._distn_infrastructure.rv_discrete_frozen object at 0x7fa63dc93c70>})"
            ],
            "text/html": [
              "<style>#sk-container-id-2 {color: black;background-color: white;}#sk-container-id-2 pre{padding: 0;}#sk-container-id-2 div.sk-toggleable {background-color: white;}#sk-container-id-2 label.sk-toggleable__label {cursor: pointer;display: block;width: 100%;margin-bottom: 0;padding: 0.3em;box-sizing: border-box;text-align: center;}#sk-container-id-2 label.sk-toggleable__label-arrow:before {content: \"▸\";float: left;margin-right: 0.25em;color: #696969;}#sk-container-id-2 label.sk-toggleable__label-arrow:hover:before {color: black;}#sk-container-id-2 div.sk-estimator:hover label.sk-toggleable__label-arrow:before {color: black;}#sk-container-id-2 div.sk-toggleable__content {max-height: 0;max-width: 0;overflow: hidden;text-align: left;background-color: #f0f8ff;}#sk-container-id-2 div.sk-toggleable__content pre {margin: 0.2em;color: black;border-radius: 0.25em;background-color: #f0f8ff;}#sk-container-id-2 input.sk-toggleable__control:checked~div.sk-toggleable__content {max-height: 200px;max-width: 100%;overflow: auto;}#sk-container-id-2 input.sk-toggleable__control:checked~label.sk-toggleable__label-arrow:before {content: \"▾\";}#sk-container-id-2 div.sk-estimator input.sk-toggleable__control:checked~label.sk-toggleable__label {background-color: #d4ebff;}#sk-container-id-2 div.sk-label input.sk-toggleable__control:checked~label.sk-toggleable__label {background-color: #d4ebff;}#sk-container-id-2 input.sk-hidden--visually {border: 0;clip: rect(1px 1px 1px 1px);clip: rect(1px, 1px, 1px, 1px);height: 1px;margin: -1px;overflow: hidden;padding: 0;position: absolute;width: 1px;}#sk-container-id-2 div.sk-estimator {font-family: monospace;background-color: #f0f8ff;border: 1px dotted black;border-radius: 0.25em;box-sizing: border-box;margin-bottom: 0.5em;}#sk-container-id-2 div.sk-estimator:hover {background-color: #d4ebff;}#sk-container-id-2 div.sk-parallel-item::after {content: \"\";width: 100%;border-bottom: 1px solid gray;flex-grow: 1;}#sk-container-id-2 div.sk-label:hover label.sk-toggleable__label {background-color: #d4ebff;}#sk-container-id-2 div.sk-serial::before {content: \"\";position: absolute;border-left: 1px solid gray;box-sizing: border-box;top: 0;bottom: 0;left: 50%;z-index: 0;}#sk-container-id-2 div.sk-serial {display: flex;flex-direction: column;align-items: center;background-color: white;padding-right: 0.2em;padding-left: 0.2em;position: relative;}#sk-container-id-2 div.sk-item {position: relative;z-index: 1;}#sk-container-id-2 div.sk-parallel {display: flex;align-items: stretch;justify-content: center;background-color: white;position: relative;}#sk-container-id-2 div.sk-item::before, #sk-container-id-2 div.sk-parallel-item::before {content: \"\";position: absolute;border-left: 1px solid gray;box-sizing: border-box;top: 0;bottom: 0;left: 50%;z-index: -1;}#sk-container-id-2 div.sk-parallel-item {display: flex;flex-direction: column;z-index: 1;position: relative;background-color: white;}#sk-container-id-2 div.sk-parallel-item:first-child::after {align-self: flex-end;width: 50%;}#sk-container-id-2 div.sk-parallel-item:last-child::after {align-self: flex-start;width: 50%;}#sk-container-id-2 div.sk-parallel-item:only-child::after {width: 0;}#sk-container-id-2 div.sk-dashed-wrapped {border: 1px dashed gray;margin: 0 0.4em 0.5em 0.4em;box-sizing: border-box;padding-bottom: 0.4em;background-color: white;}#sk-container-id-2 div.sk-label label {font-family: monospace;font-weight: bold;display: inline-block;line-height: 1.2em;}#sk-container-id-2 div.sk-label-container {text-align: center;}#sk-container-id-2 div.sk-container {/* jupyter's `normalize.less` sets `[hidden] { display: none; }` but bootstrap.min.css set `[hidden] { display: none !important; }` so we also need the `!important` here to be able to override the default hidden behavior on the sphinx rendered scikit-learn.org. See: https://github.com/scikit-learn/scikit-learn/issues/21755 */display: inline-block !important;position: relative;}#sk-container-id-2 div.sk-text-repr-fallback {display: none;}</style><div id=\"sk-container-id-2\" class=\"sk-top-container\"><div class=\"sk-text-repr-fallback\"><pre>RandomizedSearchCV(cv=5, estimator=RandomForestClassifier(), n_iter=5,\n",
              "                   param_distributions={&#x27;max_depth&#x27;: &lt;scipy.stats._distn_infrastructure.rv_discrete_frozen object at 0x7fa63dca71f0&gt;,\n",
              "                                        &#x27;n_estimators&#x27;: &lt;scipy.stats._distn_infrastructure.rv_discrete_frozen object at 0x7fa63dc93c70&gt;})</pre><b>In a Jupyter environment, please rerun this cell to show the HTML representation or trust the notebook. <br />On GitHub, the HTML representation is unable to render, please try loading this page with nbviewer.org.</b></div><div class=\"sk-container\" hidden><div class=\"sk-item sk-dashed-wrapped\"><div class=\"sk-label-container\"><div class=\"sk-label sk-toggleable\"><input class=\"sk-toggleable__control sk-hidden--visually\" id=\"sk-estimator-id-2\" type=\"checkbox\" ><label for=\"sk-estimator-id-2\" class=\"sk-toggleable__label sk-toggleable__label-arrow\">RandomizedSearchCV</label><div class=\"sk-toggleable__content\"><pre>RandomizedSearchCV(cv=5, estimator=RandomForestClassifier(), n_iter=5,\n",
              "                   param_distributions={&#x27;max_depth&#x27;: &lt;scipy.stats._distn_infrastructure.rv_discrete_frozen object at 0x7fa63dca71f0&gt;,\n",
              "                                        &#x27;n_estimators&#x27;: &lt;scipy.stats._distn_infrastructure.rv_discrete_frozen object at 0x7fa63dc93c70&gt;})</pre></div></div></div><div class=\"sk-parallel\"><div class=\"sk-parallel-item\"><div class=\"sk-item\"><div class=\"sk-label-container\"><div class=\"sk-label sk-toggleable\"><input class=\"sk-toggleable__control sk-hidden--visually\" id=\"sk-estimator-id-3\" type=\"checkbox\" ><label for=\"sk-estimator-id-3\" class=\"sk-toggleable__label sk-toggleable__label-arrow\">estimator: RandomForestClassifier</label><div class=\"sk-toggleable__content\"><pre>RandomForestClassifier()</pre></div></div></div><div class=\"sk-serial\"><div class=\"sk-item\"><div class=\"sk-estimator sk-toggleable\"><input class=\"sk-toggleable__control sk-hidden--visually\" id=\"sk-estimator-id-4\" type=\"checkbox\" ><label for=\"sk-estimator-id-4\" class=\"sk-toggleable__label sk-toggleable__label-arrow\">RandomForestClassifier</label><div class=\"sk-toggleable__content\"><pre>RandomForestClassifier()</pre></div></div></div></div></div></div></div></div></div></div>"
            ]
          },
          "metadata": {},
          "execution_count": 12
        }
      ]
    },
    {
      "cell_type": "markdown",
      "source": [
        "param_dist is a Python dictionary containing the hyperparameters that we want to tune for the Random Forest Classifier model. In this case, we have two hyperparameters:\n",
        "\n",
        "n_estimators: The number of trees in the forest.\n",
        "max_depth: The maximum depth of the tree.\n",
        "The values for these hyperparameters will be randomly sampled from a uniform distribution between the given ranges using the randint function from the scipy.stats module. For example, randint(50, 500) means that the number of trees (n_estimators) will be randomly sampled from the range of integers between 50 and 500. Similarly, randint(1, 20) means that the maximum depth of the tree (max_depth) will be randomly sampled from the range of integers between 1 and 20.\n",
        "\n",
        "---\n",
        "\n"
      ],
      "metadata": {
        "id": "Q35ZwKA4wtQa"
      }
    },
    {
      "cell_type": "markdown",
      "source": [
        "RandomizedSearchCV is a function from scikit-learn library which performs a randomized search over a hyperparameter space for a specified estimator. It takes several arguments including the estimator (model) to be optimized, the hyperparameter space to explore (in this case defined by the param_dist dictionary), the number of iterations to perform (specified by n_iter), and the number of cross-validation folds to use (specified by cv).\n",
        "\n",
        "here it is being used to find the best hyperparameters for a random forest \n",
        "classifier (rf). The hyperparameter space being explored includes n_estimators and max_depth, which are both continuous variables defined by the randint function. n_iter specifies that the random search will be performed five times, and cv specifies that five-fold cross-validation will be used. The rand_search object returned by RandomizedSearchCV can then be used to fit the model and make prediction\n",
        "\n",
        "\n",
        "---\n",
        "\n"
      ],
      "metadata": {
        "id": "gvyijO1YxXP3"
      }
    },
    {
      "cell_type": "code",
      "source": [
        "best_model_from_iter = random_search.best_estimator_\n",
        "# will train many models (defined by n_iter_ and save each one as variables, \n",
        "# the code below creates a variable for the best model and prints the hyperparameters.\n",
        "print('Best hyperparameters:',  random_search.best_params_)\n"
      ],
      "metadata": {
        "colab": {
          "base_uri": "https://localhost:8080/"
        },
        "id": "uwrQk-qwyIYe",
        "outputId": "f6487743-0b65-49c1-df31-d210c51339e0"
      },
      "execution_count": 13,
      "outputs": [
        {
          "output_type": "stream",
          "name": "stdout",
          "text": [
            "Best hyperparameters: {'max_depth': 5, 'n_estimators': 290}\n"
          ]
        }
      ]
    },
    {
      "cell_type": "code",
      "source": [
        "# Confusion Matrix using best model\n",
        "\n",
        "y_pred = best_model_from_iter.predict(X_test)\n",
        "\n",
        "cm = confusion_matrix(y_test,y_pred)\n",
        "ConfusionMatrixDisplay(confusion_matrix=cm).plot();"
      ],
      "metadata": {
        "colab": {
          "base_uri": "https://localhost:8080/",
          "height": 449
        },
        "id": "-STJtriF1G7T",
        "outputId": "ba6e5882-fa01-43eb-d1ce-3cb849e45099"
      },
      "execution_count": 14,
      "outputs": [
        {
          "output_type": "display_data",
          "data": {
            "text/plain": [
              "<Figure size 640x480 with 2 Axes>"
            ],
            "image/png": "[encoded data removed]"
          },
          "metadata": {}
        }
      ]
    },
    {
      "cell_type": "markdown",
      "source": [
        "7280 samples correctly classified as 0, 79 samples incorrectly classified as 1 when they were 0, 793 samples incorrectly as 0 when they were 1 and 86 samples correctly classified as 1"
      ],
      "metadata": {
        "id": "krxJE9yf6lvl"
      }
    },
    {
      "cell_type": "code",
      "source": [
        "#                   Predicted 0   Predicted 1\n",
        "#Actual 0       [[True Negatives   False Positives]\n",
        "#Actual 1       [False Negatives   True Positives]]"
      ],
      "metadata": {
        "id": "7QKNWXPr6haQ"
      },
      "execution_count": 15,
      "outputs": []
    },
    {
      "cell_type": "code",
      "source": [
        "accuracy = accuracy_score(y_test,y_pred)\n",
        "accuracy"
      ],
      "metadata": {
        "colab": {
          "base_uri": "https://localhost:8080/"
        },
        "id": "3QFpuQDI7Jhp",
        "outputId": "db541145-dbd3-494b-b022-0b72f1ddf906"
      },
      "execution_count": 16,
      "outputs": [
        {
          "output_type": "execute_result",
          "data": {
            "text/plain": [
              "0.8941490653071134"
            ]
          },
          "metadata": {},
          "execution_count": 16
        }
      ]
    },
    {
      "cell_type": "code",
      "source": [
        "precision = precision_score(y_test, y_pred)\n",
        "precision"
      ],
      "metadata": {
        "colab": {
          "base_uri": "https://localhost:8080/"
        },
        "id": "Vy3HLzCu7SgF",
        "outputId": "e25774c1-512c-4169-f354-21d4987be010"
      },
      "execution_count": 17,
      "outputs": [
        {
          "output_type": "execute_result",
          "data": {
            "text/plain": [
              "0.5212121212121212"
            ]
          },
          "metadata": {},
          "execution_count": 17
        }
      ]
    },
    {
      "cell_type": "code",
      "source": [
        "recall = recall_score(y_test, y_pred)\n",
        "recall"
      ],
      "metadata": {
        "colab": {
          "base_uri": "https://localhost:8080/"
        },
        "id": "krAQ7yOE7UbN",
        "outputId": "bdcddbd2-f570-4d0e-fed3-66dbef07b76c"
      },
      "execution_count": 18,
      "outputs": [
        {
          "output_type": "execute_result",
          "data": {
            "text/plain": [
              "0.09783845278725825"
            ]
          },
          "metadata": {},
          "execution_count": 18
        }
      ]
    },
    {
      "cell_type": "code",
      "source": [
        "\n",
        "\n",
        "feat_imp = pd.Series(best_model_from_iter.feature_importances_, index=X_train.columns).sort_values(ascending=False)\n",
        "feat_imp.plot.bar()"
      ],
      "metadata": {
        "colab": {
          "base_uri": "https://localhost:8080/",
          "height": 533
        },
        "id": "wT-p-VVv73sV",
        "outputId": "473974ed-aab2-4469-8120-fbd9aba19193"
      },
      "execution_count": 19,
      "outputs": [
        {
          "output_type": "execute_result",
          "data": {
            "text/plain": [
              "<Axes: >"
            ]
          },
          "metadata": {},
          "execution_count": 19
        },
        {
          "output_type": "display_data",
          "data": {
            "text/plain": [
              "<Figure size 640x480 with 1 Axes>"
            ],
            "image/png": "[encoded data removed]"
          },
          "metadata": {}
        }
      ]
    },
    {
      "cell_type": "markdown",
      "source": [
        "Feature importance is an important concept in machine learning which helps to understand the relative importance of each feature or predictor variable in a model. By understanding feature importance, we can identify the most important features that contribute most to the outcome or target variable, and also identify the less important features that can be potentially removed to simplify the model and reduce overfitting.\n",
        "\n",
        "here,\n",
        "The feature importance of the best model selected by the RandomizedSearchCV is calculated and plotted as a bar chart using pandas. The feature importance scores are sorted in descending order and plotted against the corresponding feature names. This plot helps to visualize the relative importance of each feature in the model and can help us to identify the most important features that should be focused on while building the model or performing further analysis."
      ],
      "metadata": {
        "id": "NlPyJip38pu8"
      }
    },
    {
      "cell_type": "code",
      "source": [
        "corr_matrix = np.corrcoef(X.T)\n",
        "corr_matrix"
      ],
      "metadata": {
        "colab": {
          "base_uri": "https://localhost:8080/"
        },
        "id": "zqj_BzZWOg5Z",
        "outputId": "2691c506-1ad2-4681-d02c-5924df50cc7d"
      },
      "execution_count": 20,
      "outputs": [
        {
          "output_type": "execute_result",
          "data": {
            "text/plain": [
              "array([[ 1.00000000e+00,  1.89126251e-03,  8.56714971e-04,\n",
              "         1.29371614e-01],\n",
              "       [ 1.89126251e-03,  1.00000000e+00, -3.14060060e-03,\n",
              "         4.49210495e-03],\n",
              "       [ 8.56714971e-04, -3.14060060e-03,  1.00000000e+00,\n",
              "         5.89861817e-02],\n",
              "       [ 1.29371614e-01,  4.49210495e-03,  5.89861817e-02,\n",
              "         1.00000000e+00]])"
            ]
          },
          "metadata": {},
          "execution_count": 20
        }
      ]
    },
    {
      "cell_type": "code",
      "source": [
        "import seaborn as sns\n",
        "import matplotlib.pyplot as plt\n",
        "corr = bank_data.corr()\n",
        "\n",
        "sns.heatmap(corr, annot=True, cmap='coolwarm')\n",
        "plt.show()"
      ],
      "metadata": {
        "colab": {
          "base_uri": "https://localhost:8080/",
          "height": 518
        },
        "id": "4V0mOGy4RgIg",
        "outputId": "ce10d9ec-b880-459a-fef0-b85842ac8847"
      },
      "execution_count": 23,
      "outputs": [
        {
          "output_type": "display_data",
          "data": {
            "text/plain": [
              "<Figure size 640x480 with 2 Axes>"
            ],
            "image/png": "[encoded data removed]"
          },
          "metadata": {}
        }
      ]
    },
    {
      "cell_type": "markdown",
      "source": [
        "The above matrix is a heatmap representation of a correlation matrix. A correlation matrix is a table showing the correlation coefficients between a set of variables. In this case, the variables are the columns of the original dataset, which have been preprocessed and included in the correlation matrix.\n",
        "\n",
        "The correlation matrix is symmetric along the diagonal, as the correlation between each variable and itself is always 1. The color of each cell in the heatmap indicates the strength of the correlation between the variables. Darker colors indicate a stronger correlation, while lighter colors indicate a weaker correlation.\n",
        "\n",
        "The values on the diagonal represent the correlation of each variable with itself, which is always 1. The values below the diagonal represent the correlation between each pair of variables, while the values above the diagonal are identical to those below, due to the symmetry of the matrix.\n",
        "\n",
        "The visualization of a correlation matrix can be useful to quickly identify which variables are strongly correlated with each other, which can help in feature selection or in identifying potential multicollinearity issues in a regression analysis."
      ],
      "metadata": {
        "id": "SdlNCHXwTQYl"
      }
    },
    {
      "cell_type": "markdown",
      "source": [
        "# [Tutorial on Datacamp](https://www.datacamp.com/tutorial/random-forests-classifier-python)"
      ],
      "metadata": {
        "id": "tMK6shbO9HQT"
      }
    }
  ]
}