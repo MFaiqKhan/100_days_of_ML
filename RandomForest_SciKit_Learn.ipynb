{
  "nbformat": 4,
  "nbformat_minor": 0,
  "metadata": {
    "colab": {
      "provenance": [],
      "authorship_tag": "ABX9TyMUGTCFrhnT34VMG7eQgqgC",
      "include_colab_link": true
    },
    "kernelspec": {
      "name": "python3",
      "display_name": "Python 3"
    },
    "language_info": {
      "name": "python"
    }
  },
  "cells": [
    {
      "cell_type": "markdown",
      "metadata": {
        "id": "view-in-github",
        "colab_type": "text"
      },
      "source": [
        "<a href=\"https://colab.research.google.com/github/MFaiqKhan/100_days_of_ML/blob/main/RandomForest_SciKit_Learn.ipynb\" target=\"_parent\"><img src=\"https://colab.research.google.com/assets/colab-badge.svg\" alt=\"Open In Colab\"/></a>"
      ]
    },
    {
      "cell_type": "markdown",
      "source": [
        "- RF works on Labeled target variable aka supervised machine learning models\n",
        "- RF is used for both regression and classification problems."
      ],
      "metadata": {
        "id": "ppFZWWNa5Tmb"
      }
    },
    {
      "cell_type": "markdown",
      "source": [
        "## Using Bank Marketing Dataset \n",
        "The data is related with direct marketing campaigns of a Portuguese banking institution. The marketing campaigns were based on phone calls. Often, more than one contact to the same client was required, in order to access if the product (bank term deposit) would be ('yes') or not ('no') subscribed.\n",
        "\n",
        "[Source of Dataset](https://archive.ics.uci.edu/ml/datasets/bank+marketing)"
      ],
      "metadata": {
        "id": "g4xsR8MN9O0j"
      }
    },
    {
      "cell_type": "code",
      "source": [
        "import pandas as pd\n",
        "import numpy as np\n",
        "from scipy.stats import randint\n",
        "from sklearn.ensemble import RandomForestClassifier\n",
        "from sklearn.metrics import accuracy_score, confusion_matrix, precision_score, recall_score, ConfusionMatrixDisplay\n",
        "from sklearn.tree import export_graphviz\n",
        "from IPython.display import Image\n",
        "import graphviz\n",
        "from sklearn.model_selection import RandomizedSearchCV, train_test_split\n"
      ],
      "metadata": {
        "id": "5g-NZ6qj-h_R"
      },
      "execution_count": 1,
      "outputs": []
    },
    {
      "cell_type": "markdown",
      "source": [
        "import **pandas** as pd: This line imports the pandas library and gives it an alias of \"pd\". Pandas is a powerful Python library for data manipulation and analysis.\n",
        "\n",
        "import **numpy** as np: This line imports the NumPy library and gives it an alias of \"np\". NumPy is another popular Python library for numerical computing.\n",
        "\n",
        "from **scipy.stats** import **randint**: This line imports the \"randint\" function from the \"stats\" module of the SciPy library. SciPy is a Python library for scientific computing that includes many useful functions and tools for statistical analysis.\n",
        "\n",
        "from **sklearn**.**ensemble** import **RandomForestClassifier**: This line imports the \"RandomForestClassifier\" class from the \"ensemble\" module of the scikit-learn (sklearn) library. Scikit-learn is a Python library for machine learning that includes a wide range of classification, regression, clustering, and other algorithms.\n",
        "\n",
        "from **sklearn**.**metrics** import **accuracy_score**, **confusion_matrix**, **precision_score**, **recall_score**, **ConfusionMatrixDisplay**: This line imports several functions and classes from the \"metrics\" module of the scikit-learn library. These functions and classes are used for evaluating the performance of machine learning models.\n",
        "\n",
        "from **sklearn**.**tree** import **export_graphviz**: This line imports the \"export_graphviz\" function from the \"tree\" module of the scikit-learn library. This function is used to export a decision tree in Graphviz format.\n",
        "\n",
        "from **IPython**.**display** import **Image**: This line imports the \"Image\" class from the \"display\" module of the IPython library. This class is used to display images in a Jupyter notebook or other IPython environment.\n",
        "\n",
        "import **graphviz**: This line imports the Graphviz library, which is used to visualize decision trees in the DOT language.\n",
        "\n",
        "from **sklearn**.**model_selection** import **RandomizedSearchCV**, **train_test_split**: This line imports the \"RandomizedSearchCV\" class and the \"train_test_split\" function from the \"model_selection\" module of the scikit-learn library. The \"RandomizedSearchCV\" class is used to perform a randomized hyperparameter search for a machine learning model, while the \"train_test_split\" function is used to split a dataset into training and testing sets for model evaluation.\n",
        "\n",
        "\n",
        "---\n",
        "\n"
      ],
      "metadata": {
        "id": "t0OeCuRoDWOT"
      }
    },
    {
      "cell_type": "markdown",
      "source": [
        "***RandomizedSearchCV*** is a function from the scikit-learn library in Python that performs hyperparameter tuning for machine learning models. Hyperparameters are parameters that are set before the training process begins and are not learned from the data. They have a significant impact on the performance of the model. \n",
        "\n",
        "RandomizedSearchCV is a type of cross-validation that allows us to select the best hyperparameters from a large range of values. It works by randomly selecting combinations of hyperparameters from a specified range and evaluating the model's performance using a specified evaluation metric. It repeats this process for a specified number of iterations and returns the best set of hyperparameters found during the search.\n",
        "\n",
        "In the provided code, RandomizedSearchCV is used to find the best hyperparameters for a RandomForestClassifier. The hyperparameters that will be tuned are n_estimators, max_features, max_depth, min_samples_split, min_samples_leaf, and bootstrap. The ranges of values for each hyperparameter are specified in the hyperparameter grid. The evaluation metric used to measure the model's performance is accuracy_score.\n",
        "\n",
        "RandomizedSearchCV will perform a specified number of iterations, each time selecting random combinations of hyperparameters from the hyperparameter grid. For each combination, it will train a RandomForestClassifier and evaluate its performance using the accuracy_score metric. The best set of hyperparameters that result in the highest accuracy score will be returned by RandomizedSearchCV.\n",
        "\n",
        "The train_test_split function is used to split the data into training and testing sets, and then the RandomForestClassifier is trained on the training set using the best hyperparameters found by RandomizedSearchCV. The performance of the final model is evaluated using various evaluation metrics such as accuracy_score, precision_score, recall_score, and confusion_matrix.\n",
        "\n",
        "\n",
        "---\n",
        "\n"
      ],
      "metadata": {
        "id": "RD_AdDxsE1MX"
      }
    },
    {
      "cell_type": "markdown",
      "source": [
        "## Tree Based models are robust to outliers\n",
        "\n",
        "Tree Based Models are robust to outliers than regression models as they make splits on the data based on values that minimize the impurity or increase the information gain. Outliers typically have values that are significantly different from the rest of the data, and the decision tree algorithms can easily detect them and make appropriate splits to separate them from the rest of the data. As a result, outliers have a minimal impact on the final predictions made by tree-based models.\n",
        "\n",
        "On the other hand, regression models try to fit a line or curve to the data that minimizes the errors between the predicted and actual values. Outliers can significantly influence the parameters of the model, resulting in a significant deviation from the expected behavior of the data. This can lead to overfitting, which means that the model performs well on the training data but poorly on the test data.\n",
        "\n",
        "However, it is important to note that tree-based models can still be affected by outliers in certain cases, such as when there are too many outliers, or the outliers are clustered together, leading to a biased splitting of the data. In such cases, it is important to preprocess the data and remove or transform the outliers before fitting the model to achieve better performance.\n",
        "\n",
        "---\n",
        "\n"
      ],
      "metadata": {
        "id": "bonOAc2kQ5fh"
      }
    },
    {
      "cell_type": "markdown",
      "source": [
        "## The Columns we will use from Dataset are :\n",
        "\n",
        "\n",
        "*   age: The age of the person who received the phone call\n",
        "*   default: Whether the person has credit in default\n",
        "*   cons.price.idx: Consumer price index score at the time of the call\n",
        "*   cons.conf.idx: Consumer confidence index score at the time of the call\n",
        "*   y: Whether the person subscribed (this is what we’re trying to predict)\n",
        "\n",
        "\n",
        "\n"
      ],
      "metadata": {
        "id": "7Z6ZoNRFbD0K"
      }
    },
    {
      "cell_type": "code",
      "source": [
        "bank_data = pd.read_csv(\"bank-marketing.csv\", sep=\";\") \n",
        "bank_data = bank_data.loc[:,['age','default','cons.price.idx','cons.conf.idx','y']]\n",
        "bank_data.head(5)\n",
        "\n",
        "# The sep=\";\" argument specifies that the file is separated by semicolons.\n",
        "#.loc[] is used to access group of rows and columns by labels here.\n",
        "# df.loc[row_labels,column_labels]\n",
        "#.loc[:.['age',..]] # selecting all rows and specific columns by labels"
      ],
      "metadata": {
        "colab": {
          "base_uri": "https://localhost:8080/",
          "height": 206
        },
        "id": "ahlv9E2BSykm",
        "outputId": "34be5cce-c628-4d3f-dc41-66694ffe2a82"
      },
      "execution_count": 14,
      "outputs": [
        {
          "output_type": "execute_result",
          "data": {
            "text/plain": [
              "   age  default  cons.price.idx  cons.conf.idx   y\n",
              "0   56       no          93.994          -36.4  no\n",
              "1   57  unknown          93.994          -36.4  no\n",
              "2   37       no          93.994          -36.4  no\n",
              "3   40       no          93.994          -36.4  no\n",
              "4   56       no          93.994          -36.4  no"
            ],
            "text/html": [
              "\n",
              "  <div id=\"df-1372b7c0-4ba1-4a54-b660-d39942c1f12f\">\n",
              "    <div class=\"colab-df-container\">\n",
              "      <div>\n",
              "<style scoped>\n",
              "    .dataframe tbody tr th:only-of-type {\n",
              "        vertical-align: middle;\n",
              "    }\n",
              "\n",
              "    .dataframe tbody tr th {\n",
              "        vertical-align: top;\n",
              "    }\n",
              "\n",
              "    .dataframe thead th {\n",
              "        text-align: right;\n",
              "    }\n",
              "</style>\n",
              "<table border=\"1\" class=\"dataframe\">\n",
              "  <thead>\n",
              "    <tr style=\"text-align: right;\">\n",
              "      <th></th>\n",
              "      <th>age</th>\n",
              "      <th>default</th>\n",
              "      <th>cons.price.idx</th>\n",
              "      <th>cons.conf.idx</th>\n",
              "      <th>y</th>\n",
              "    </tr>\n",
              "  </thead>\n",
              "  <tbody>\n",
              "    <tr>\n",
              "      <th>0</th>\n",
              "      <td>56</td>\n",
              "      <td>no</td>\n",
              "      <td>93.994</td>\n",
              "      <td>-36.4</td>\n",
              "      <td>no</td>\n",
              "    </tr>\n",
              "    <tr>\n",
              "      <th>1</th>\n",
              "      <td>57</td>\n",
              "      <td>unknown</td>\n",
              "      <td>93.994</td>\n",
              "      <td>-36.4</td>\n",
              "      <td>no</td>\n",
              "    </tr>\n",
              "    <tr>\n",
              "      <th>2</th>\n",
              "      <td>37</td>\n",
              "      <td>no</td>\n",
              "      <td>93.994</td>\n",
              "      <td>-36.4</td>\n",
              "      <td>no</td>\n",
              "    </tr>\n",
              "    <tr>\n",
              "      <th>3</th>\n",
              "      <td>40</td>\n",
              "      <td>no</td>\n",
              "      <td>93.994</td>\n",
              "      <td>-36.4</td>\n",
              "      <td>no</td>\n",
              "    </tr>\n",
              "    <tr>\n",
              "      <th>4</th>\n",
              "      <td>56</td>\n",
              "      <td>no</td>\n",
              "      <td>93.994</td>\n",
              "      <td>-36.4</td>\n",
              "      <td>no</td>\n",
              "    </tr>\n",
              "  </tbody>\n",
              "</table>\n",
              "</div>\n",
              "      <button class=\"colab-df-convert\" onclick=\"convertToInteractive('df-1372b7c0-4ba1-4a54-b660-d39942c1f12f')\"\n",
              "              title=\"Convert this dataframe to an interactive table.\"\n",
              "              style=\"display:none;\">\n",
              "        \n",
              "  <svg xmlns=\"http://www.w3.org/2000/svg\" height=\"24px\"viewBox=\"0 0 24 24\"\n",
              "       width=\"24px\">\n",
              "    <path d=\"M0 0h24v24H0V0z\" fill=\"none\"/>\n",
              "    <path d=\"M18.56 5.44l.94 2.06.94-2.06 2.06-.94-2.06-.94-.94-2.06-.94 2.06-2.06.94zm-11 1L8.5 8.5l.94-2.06 2.06-.94-2.06-.94L8.5 2.5l-.94 2.06-2.06.94zm10 10l.94 2.06.94-2.06 2.06-.94-2.06-.94-.94-2.06-.94 2.06-2.06.94z\"/><path d=\"M17.41 7.96l-1.37-1.37c-.4-.4-.92-.59-1.43-.59-.52 0-1.04.2-1.43.59L10.3 9.45l-7.72 7.72c-.78.78-.78 2.05 0 2.83L4 21.41c.39.39.9.59 1.41.59.51 0 1.02-.2 1.41-.59l7.78-7.78 2.81-2.81c.8-.78.8-2.07 0-2.86zM5.41 20L4 18.59l7.72-7.72 1.47 1.35L5.41 20z\"/>\n",
              "  </svg>\n",
              "      </button>\n",
              "      \n",
              "  <style>\n",
              "    .colab-df-container {\n",
              "      display:flex;\n",
              "      flex-wrap:wrap;\n",
              "      gap: 12px;\n",
              "    }\n",
              "\n",
              "    .colab-df-convert {\n",
              "      background-color: #E8F0FE;\n",
              "      border: none;\n",
              "      border-radius: 50%;\n",
              "      cursor: pointer;\n",
              "      display: none;\n",
              "      fill: #1967D2;\n",
              "      height: 32px;\n",
              "      padding: 0 0 0 0;\n",
              "      width: 32px;\n",
              "    }\n",
              "\n",
              "    .colab-df-convert:hover {\n",
              "      background-color: #E2EBFA;\n",
              "      box-shadow: 0px 1px 2px rgba(60, 64, 67, 0.3), 0px 1px 3px 1px rgba(60, 64, 67, 0.15);\n",
              "      fill: #174EA6;\n",
              "    }\n",
              "\n",
              "    [theme=dark] .colab-df-convert {\n",
              "      background-color: #3B4455;\n",
              "      fill: #D2E3FC;\n",
              "    }\n",
              "\n",
              "    [theme=dark] .colab-df-convert:hover {\n",
              "      background-color: #434B5C;\n",
              "      box-shadow: 0px 1px 3px 1px rgba(0, 0, 0, 0.15);\n",
              "      filter: drop-shadow(0px 1px 2px rgba(0, 0, 0, 0.3));\n",
              "      fill: #FFFFFF;\n",
              "    }\n",
              "  </style>\n",
              "\n",
              "      <script>\n",
              "        const buttonEl =\n",
              "          document.querySelector('#df-1372b7c0-4ba1-4a54-b660-d39942c1f12f button.colab-df-convert');\n",
              "        buttonEl.style.display =\n",
              "          google.colab.kernel.accessAllowed ? 'block' : 'none';\n",
              "\n",
              "        async function convertToInteractive(key) {\n",
              "          const element = document.querySelector('#df-1372b7c0-4ba1-4a54-b660-d39942c1f12f');\n",
              "          const dataTable =\n",
              "            await google.colab.kernel.invokeFunction('convertToInteractive',\n",
              "                                                     [key], {});\n",
              "          if (!dataTable) return;\n",
              "\n",
              "          const docLinkHtml = 'Like what you see? Visit the ' +\n",
              "            '<a target=\"_blank\" href=https://colab.research.google.com/notebooks/data_table.ipynb>data table notebook</a>'\n",
              "            + ' to learn more about interactive tables.';\n",
              "          element.innerHTML = '';\n",
              "          dataTable['output_type'] = 'display_data';\n",
              "          await google.colab.output.renderOutput(dataTable, element);\n",
              "          const docLink = document.createElement('div');\n",
              "          docLink.innerHTML = docLinkHtml;\n",
              "          element.appendChild(docLink);\n",
              "        }\n",
              "      </script>\n",
              "    </div>\n",
              "  </div>\n",
              "  "
            ]
          },
          "metadata": {},
          "execution_count": 14
        }
      ]
    },
    {
      "cell_type": "code",
      "source": [
        "bank_data['default'] = bank_data['default'].map({'no':0,'yes':1,'unknown':0})\n",
        "bank_data['y'] = bank_data['y'].map({'no':0,'yes':1})\n",
        "\n",
        "# converting categorical variables 'default' and 'y' into \n",
        "# numerical variables by mapping their values to integers.\n",
        "# the 'default' column is mapped to 0 if the value is 'no' or 'unknown', and 1 if the value is 'yes'.\n",
        "# 'y' column is mapped to 0 if the value is 'no' and 1 if the value is 'yes'. \n",
        "\n"
      ],
      "metadata": {
        "id": "qnx9OWVQaW1X"
      },
      "execution_count": 15,
      "outputs": []
    },
    {
      "cell_type": "code",
      "source": [
        "bank_data.head(5)"
      ],
      "metadata": {
        "colab": {
          "base_uri": "https://localhost:8080/",
          "height": 206
        },
        "id": "lN06-ArlesOr",
        "outputId": "bde994cb-dad7-4a8f-83bb-f44b6534bc7f"
      },
      "execution_count": 17,
      "outputs": [
        {
          "output_type": "execute_result",
          "data": {
            "text/plain": [
              "   age  default  cons.price.idx  cons.conf.idx  y\n",
              "0   56        0          93.994          -36.4  0\n",
              "1   57        0          93.994          -36.4  0\n",
              "2   37        0          93.994          -36.4  0\n",
              "3   40        0          93.994          -36.4  0\n",
              "4   56        0          93.994          -36.4  0"
            ],
            "text/html": [
              "\n",
              "  <div id=\"df-a68e1611-eb12-401c-922c-ea7b0c7cdec6\">\n",
              "    <div class=\"colab-df-container\">\n",
              "      <div>\n",
              "<style scoped>\n",
              "    .dataframe tbody tr th:only-of-type {\n",
              "        vertical-align: middle;\n",
              "    }\n",
              "\n",
              "    .dataframe tbody tr th {\n",
              "        vertical-align: top;\n",
              "    }\n",
              "\n",
              "    .dataframe thead th {\n",
              "        text-align: right;\n",
              "    }\n",
              "</style>\n",
              "<table border=\"1\" class=\"dataframe\">\n",
              "  <thead>\n",
              "    <tr style=\"text-align: right;\">\n",
              "      <th></th>\n",
              "      <th>age</th>\n",
              "      <th>default</th>\n",
              "      <th>cons.price.idx</th>\n",
              "      <th>cons.conf.idx</th>\n",
              "      <th>y</th>\n",
              "    </tr>\n",
              "  </thead>\n",
              "  <tbody>\n",
              "    <tr>\n",
              "      <th>0</th>\n",
              "      <td>56</td>\n",
              "      <td>0</td>\n",
              "      <td>93.994</td>\n",
              "      <td>-36.4</td>\n",
              "      <td>0</td>\n",
              "    </tr>\n",
              "    <tr>\n",
              "      <th>1</th>\n",
              "      <td>57</td>\n",
              "      <td>0</td>\n",
              "      <td>93.994</td>\n",
              "      <td>-36.4</td>\n",
              "      <td>0</td>\n",
              "    </tr>\n",
              "    <tr>\n",
              "      <th>2</th>\n",
              "      <td>37</td>\n",
              "      <td>0</td>\n",
              "      <td>93.994</td>\n",
              "      <td>-36.4</td>\n",
              "      <td>0</td>\n",
              "    </tr>\n",
              "    <tr>\n",
              "      <th>3</th>\n",
              "      <td>40</td>\n",
              "      <td>0</td>\n",
              "      <td>93.994</td>\n",
              "      <td>-36.4</td>\n",
              "      <td>0</td>\n",
              "    </tr>\n",
              "    <tr>\n",
              "      <th>4</th>\n",
              "      <td>56</td>\n",
              "      <td>0</td>\n",
              "      <td>93.994</td>\n",
              "      <td>-36.4</td>\n",
              "      <td>0</td>\n",
              "    </tr>\n",
              "  </tbody>\n",
              "</table>\n",
              "</div>\n",
              "      <button class=\"colab-df-convert\" onclick=\"convertToInteractive('df-a68e1611-eb12-401c-922c-ea7b0c7cdec6')\"\n",
              "              title=\"Convert this dataframe to an interactive table.\"\n",
              "              style=\"display:none;\">\n",
              "        \n",
              "  <svg xmlns=\"http://www.w3.org/2000/svg\" height=\"24px\"viewBox=\"0 0 24 24\"\n",
              "       width=\"24px\">\n",
              "    <path d=\"M0 0h24v24H0V0z\" fill=\"none\"/>\n",
              "    <path d=\"M18.56 5.44l.94 2.06.94-2.06 2.06-.94-2.06-.94-.94-2.06-.94 2.06-2.06.94zm-11 1L8.5 8.5l.94-2.06 2.06-.94-2.06-.94L8.5 2.5l-.94 2.06-2.06.94zm10 10l.94 2.06.94-2.06 2.06-.94-2.06-.94-.94-2.06-.94 2.06-2.06.94z\"/><path d=\"M17.41 7.96l-1.37-1.37c-.4-.4-.92-.59-1.43-.59-.52 0-1.04.2-1.43.59L10.3 9.45l-7.72 7.72c-.78.78-.78 2.05 0 2.83L4 21.41c.39.39.9.59 1.41.59.51 0 1.02-.2 1.41-.59l7.78-7.78 2.81-2.81c.8-.78.8-2.07 0-2.86zM5.41 20L4 18.59l7.72-7.72 1.47 1.35L5.41 20z\"/>\n",
              "  </svg>\n",
              "      </button>\n",
              "      \n",
              "  <style>\n",
              "    .colab-df-container {\n",
              "      display:flex;\n",
              "      flex-wrap:wrap;\n",
              "      gap: 12px;\n",
              "    }\n",
              "\n",
              "    .colab-df-convert {\n",
              "      background-color: #E8F0FE;\n",
              "      border: none;\n",
              "      border-radius: 50%;\n",
              "      cursor: pointer;\n",
              "      display: none;\n",
              "      fill: #1967D2;\n",
              "      height: 32px;\n",
              "      padding: 0 0 0 0;\n",
              "      width: 32px;\n",
              "    }\n",
              "\n",
              "    .colab-df-convert:hover {\n",
              "      background-color: #E2EBFA;\n",
              "      box-shadow: 0px 1px 2px rgba(60, 64, 67, 0.3), 0px 1px 3px 1px rgba(60, 64, 67, 0.15);\n",
              "      fill: #174EA6;\n",
              "    }\n",
              "\n",
              "    [theme=dark] .colab-df-convert {\n",
              "      background-color: #3B4455;\n",
              "      fill: #D2E3FC;\n",
              "    }\n",
              "\n",
              "    [theme=dark] .colab-df-convert:hover {\n",
              "      background-color: #434B5C;\n",
              "      box-shadow: 0px 1px 3px 1px rgba(0, 0, 0, 0.15);\n",
              "      filter: drop-shadow(0px 1px 2px rgba(0, 0, 0, 0.3));\n",
              "      fill: #FFFFFF;\n",
              "    }\n",
              "  </style>\n",
              "\n",
              "      <script>\n",
              "        const buttonEl =\n",
              "          document.querySelector('#df-a68e1611-eb12-401c-922c-ea7b0c7cdec6 button.colab-df-convert');\n",
              "        buttonEl.style.display =\n",
              "          google.colab.kernel.accessAllowed ? 'block' : 'none';\n",
              "\n",
              "        async function convertToInteractive(key) {\n",
              "          const element = document.querySelector('#df-a68e1611-eb12-401c-922c-ea7b0c7cdec6');\n",
              "          const dataTable =\n",
              "            await google.colab.kernel.invokeFunction('convertToInteractive',\n",
              "                                                     [key], {});\n",
              "          if (!dataTable) return;\n",
              "\n",
              "          const docLinkHtml = 'Like what you see? Visit the ' +\n",
              "            '<a target=\"_blank\" href=https://colab.research.google.com/notebooks/data_table.ipynb>data table notebook</a>'\n",
              "            + ' to learn more about interactive tables.';\n",
              "          element.innerHTML = '';\n",
              "          dataTable['output_type'] = 'display_data';\n",
              "          await google.colab.output.renderOutput(dataTable, element);\n",
              "          const docLink = document.createElement('div');\n",
              "          docLink.innerHTML = docLinkHtml;\n",
              "          element.appendChild(docLink);\n",
              "        }\n",
              "      </script>\n",
              "    </div>\n",
              "  </div>\n",
              "  "
            ]
          },
          "metadata": {},
          "execution_count": 17
        }
      ]
    },
    {
      "cell_type": "code",
      "source": [
        "# Splitting the data into features (X) as independent variables\n",
        "# and target (y) as dependent variable.\n",
        "X = bank_data.drop(['y'], axis='columns')\n",
        "y = bank_data['y']\n",
        "\n",
        "# splitting the data into training and test data\n",
        "X_train, X_test, y_train, y_test = train_test_split(X,y,train_size=0.8)"
      ],
      "metadata": {
        "id": "6s66Okv7fqst"
      },
      "execution_count": 18,
      "outputs": []
    },
    {
      "cell_type": "code",
      "source": [
        "len(X_train), len(X_test), len(y_train), len(y_test)"
      ],
      "metadata": {
        "colab": {
          "base_uri": "https://localhost:8080/"
        },
        "id": "2vB3C3I_ghCJ",
        "outputId": "94b00583-52ee-49c0-b4df-b8838b0d4bcf"
      },
      "execution_count": 20,
      "outputs": [
        {
          "output_type": "execute_result",
          "data": {
            "text/plain": [
              "(32950, 8238, 32950, 8238)"
            ]
          },
          "metadata": {},
          "execution_count": 20
        }
      ]
    },
    {
      "cell_type": "code",
      "source": [
        "# Create an instance of the model classifier with default params.\n",
        "# fitting the model\n",
        "\n",
        "rf = RandomForestClassifier()\n",
        "rf.fit(X_train,y_train)\n"
      ],
      "metadata": {
        "colab": {
          "base_uri": "https://localhost:8080/",
          "height": 74
        },
        "id": "x10UwoNGgpGZ",
        "outputId": "244046b0-89db-434f-8ffe-4b08eb3ee273"
      },
      "execution_count": 21,
      "outputs": [
        {
          "output_type": "execute_result",
          "data": {
            "text/plain": [
              "RandomForestClassifier()"
            ],
            "text/html": [
              "<style>#sk-container-id-1 {color: black;background-color: white;}#sk-container-id-1 pre{padding: 0;}#sk-container-id-1 div.sk-toggleable {background-color: white;}#sk-container-id-1 label.sk-toggleable__label {cursor: pointer;display: block;width: 100%;margin-bottom: 0;padding: 0.3em;box-sizing: border-box;text-align: center;}#sk-container-id-1 label.sk-toggleable__label-arrow:before {content: \"▸\";float: left;margin-right: 0.25em;color: #696969;}#sk-container-id-1 label.sk-toggleable__label-arrow:hover:before {color: black;}#sk-container-id-1 div.sk-estimator:hover label.sk-toggleable__label-arrow:before {color: black;}#sk-container-id-1 div.sk-toggleable__content {max-height: 0;max-width: 0;overflow: hidden;text-align: left;background-color: #f0f8ff;}#sk-container-id-1 div.sk-toggleable__content pre {margin: 0.2em;color: black;border-radius: 0.25em;background-color: #f0f8ff;}#sk-container-id-1 input.sk-toggleable__control:checked~div.sk-toggleable__content {max-height: 200px;max-width: 100%;overflow: auto;}#sk-container-id-1 input.sk-toggleable__control:checked~label.sk-toggleable__label-arrow:before {content: \"▾\";}#sk-container-id-1 div.sk-estimator input.sk-toggleable__control:checked~label.sk-toggleable__label {background-color: #d4ebff;}#sk-container-id-1 div.sk-label input.sk-toggleable__control:checked~label.sk-toggleable__label {background-color: #d4ebff;}#sk-container-id-1 input.sk-hidden--visually {border: 0;clip: rect(1px 1px 1px 1px);clip: rect(1px, 1px, 1px, 1px);height: 1px;margin: -1px;overflow: hidden;padding: 0;position: absolute;width: 1px;}#sk-container-id-1 div.sk-estimator {font-family: monospace;background-color: #f0f8ff;border: 1px dotted black;border-radius: 0.25em;box-sizing: border-box;margin-bottom: 0.5em;}#sk-container-id-1 div.sk-estimator:hover {background-color: #d4ebff;}#sk-container-id-1 div.sk-parallel-item::after {content: \"\";width: 100%;border-bottom: 1px solid gray;flex-grow: 1;}#sk-container-id-1 div.sk-label:hover label.sk-toggleable__label {background-color: #d4ebff;}#sk-container-id-1 div.sk-serial::before {content: \"\";position: absolute;border-left: 1px solid gray;box-sizing: border-box;top: 0;bottom: 0;left: 50%;z-index: 0;}#sk-container-id-1 div.sk-serial {display: flex;flex-direction: column;align-items: center;background-color: white;padding-right: 0.2em;padding-left: 0.2em;position: relative;}#sk-container-id-1 div.sk-item {position: relative;z-index: 1;}#sk-container-id-1 div.sk-parallel {display: flex;align-items: stretch;justify-content: center;background-color: white;position: relative;}#sk-container-id-1 div.sk-item::before, #sk-container-id-1 div.sk-parallel-item::before {content: \"\";position: absolute;border-left: 1px solid gray;box-sizing: border-box;top: 0;bottom: 0;left: 50%;z-index: -1;}#sk-container-id-1 div.sk-parallel-item {display: flex;flex-direction: column;z-index: 1;position: relative;background-color: white;}#sk-container-id-1 div.sk-parallel-item:first-child::after {align-self: flex-end;width: 50%;}#sk-container-id-1 div.sk-parallel-item:last-child::after {align-self: flex-start;width: 50%;}#sk-container-id-1 div.sk-parallel-item:only-child::after {width: 0;}#sk-container-id-1 div.sk-dashed-wrapped {border: 1px dashed gray;margin: 0 0.4em 0.5em 0.4em;box-sizing: border-box;padding-bottom: 0.4em;background-color: white;}#sk-container-id-1 div.sk-label label {font-family: monospace;font-weight: bold;display: inline-block;line-height: 1.2em;}#sk-container-id-1 div.sk-label-container {text-align: center;}#sk-container-id-1 div.sk-container {/* jupyter's `normalize.less` sets `[hidden] { display: none; }` but bootstrap.min.css set `[hidden] { display: none !important; }` so we also need the `!important` here to be able to override the default hidden behavior on the sphinx rendered scikit-learn.org. See: https://github.com/scikit-learn/scikit-learn/issues/21755 */display: inline-block !important;position: relative;}#sk-container-id-1 div.sk-text-repr-fallback {display: none;}</style><div id=\"sk-container-id-1\" class=\"sk-top-container\"><div class=\"sk-text-repr-fallback\"><pre>RandomForestClassifier()</pre><b>In a Jupyter environment, please rerun this cell to show the HTML representation or trust the notebook. <br />On GitHub, the HTML representation is unable to render, please try loading this page with nbviewer.org.</b></div><div class=\"sk-container\" hidden><div class=\"sk-item\"><div class=\"sk-estimator sk-toggleable\"><input class=\"sk-toggleable__control sk-hidden--visually\" id=\"sk-estimator-id-1\" type=\"checkbox\" checked><label for=\"sk-estimator-id-1\" class=\"sk-toggleable__label sk-toggleable__label-arrow\">RandomForestClassifier</label><div class=\"sk-toggleable__content\"><pre>RandomForestClassifier()</pre></div></div></div></div></div>"
            ]
          },
          "metadata": {},
          "execution_count": 21
        }
      ]
    },
    {
      "cell_type": "code",
      "source": [
        "# evaluating accuracy of the model\n",
        "rf.score(X_test,y_test)"
      ],
      "metadata": {
        "colab": {
          "base_uri": "https://localhost:8080/"
        },
        "id": "ZNfT-pixg9hS",
        "outputId": "1ae07594-aba5-4822-c3f9-0c0faf4804b5"
      },
      "execution_count": 23,
      "outputs": [
        {
          "output_type": "execute_result",
          "data": {
            "text/plain": [
              "0.8854090798737557"
            ]
          },
          "metadata": {},
          "execution_count": 23
        }
      ]
    },
    {
      "cell_type": "code",
      "source": [
        "y_pred = rf.predict(X_test)"
      ],
      "metadata": {
        "id": "4CoImCUgjRjO"
      },
      "execution_count": 24,
      "outputs": []
    },
    {
      "cell_type": "code",
      "source": [
        "# evaluating accuracy of the model using accuracy_score\n",
        "accuracy = accuracy_score(y_test,y_pred) # (truth values, predicted values)\n",
        "accuracy"
      ],
      "metadata": {
        "colab": {
          "base_uri": "https://localhost:8080/"
        },
        "id": "UsKSJLrKjIJe",
        "outputId": "1fdee4c7-8027-4199-ec85-24546156444f"
      },
      "execution_count": 26,
      "outputs": [
        {
          "output_type": "execute_result",
          "data": {
            "text/plain": [
              "0.8854090798737557"
            ]
          },
          "metadata": {},
          "execution_count": 26
        }
      ]
    },
    {
      "cell_type": "code",
      "source": [
        "# Visualizing decision tree using graphviz\n",
        "# exports first three decision trees from a trained rfc\n",
        "\n",
        "for i in range(3):\n",
        "  tree = rf.estimators_[i]\n",
        "  dot_data = export_graphviz(tree,\n",
        "                             feature_names=X_train.columns,\n",
        "                             filled=True,\n",
        "                             max_depth=2,\n",
        "                             impurity=True,\n",
        "                             proportion=True)\n",
        "  graph = graphviz.Source(dot_data)\n",
        "  display(graph)\n"
      ],
      "metadata": {
        "colab": {
          "base_uri": "https://localhost:8080/",
          "height": 1000
        },
        "id": "dBgMxieWjoHd",
        "outputId": "f751ea0c-987f-4971-f9eb-170980d3502e"
      },
      "execution_count": 30,
      "outputs": [
        {
          "output_type": "display_data",
          "data": {
            "image/svg+xml": "<?xml version=\"1.0\" encoding=\"UTF-8\" standalone=\"no\"?>\n<!DOCTYPE svg PUBLIC \"-//W3C//DTD SVG 1.1//EN\"\n \"http://www.w3.org/Graphics/SVG/1.1/DTD/svg11.dtd\">\n<!-- Generated by graphviz version 2.43.0 (0)\n -->\n<!-- Title: Tree Pages: 1 -->\n<svg width=\"674pt\" height=\"356pt\"\n viewBox=\"0.00 0.00 674.00 356.00\" xmlns=\"http://www.w3.org/2000/svg\" xmlns:xlink=\"http://www.w3.org/1999/xlink\">\n<g id=\"graph0\" class=\"graph\" transform=\"scale(1 1) rotate(0) translate(4 352)\">\n<title>Tree</title>\n<polygon fill=\"white\" stroke=\"transparent\" points=\"-4,4 -4,-352 670,-352 670,4 -4,4\"/>\n<!-- 0 -->\n<g id=\"node1\" class=\"node\">\n<title>0</title>\n<polygon fill=\"#e89152\" stroke=\"black\" points=\"407,-348 249,-348 249,-280 407,-280 407,-348\"/>\n<text text-anchor=\"middle\" x=\"328\" y=\"-332.8\" font-family=\"Helvetica,sans-Serif\" font-size=\"14.00\">cons.conf.idx &lt;= &#45;35.45</text>\n<text text-anchor=\"middle\" x=\"328\" y=\"-317.8\" font-family=\"Helvetica,sans-Serif\" font-size=\"14.00\">gini = 0.196</text>\n<text text-anchor=\"middle\" x=\"328\" y=\"-302.8\" font-family=\"Helvetica,sans-Serif\" font-size=\"14.00\">samples = 100.0%</text>\n<text text-anchor=\"middle\" x=\"328\" y=\"-287.8\" font-family=\"Helvetica,sans-Serif\" font-size=\"14.00\">value = [0.89, 0.11]</text>\n</g>\n<!-- 1 -->\n<g id=\"node2\" class=\"node\">\n<title>1</title>\n<polygon fill=\"#e88d4c\" stroke=\"black\" points=\"313,-244 181,-244 181,-176 313,-176 313,-244\"/>\n<text text-anchor=\"middle\" x=\"247\" y=\"-228.8\" font-family=\"Helvetica,sans-Serif\" font-size=\"14.00\">age &lt;= 61.5</text>\n<text text-anchor=\"middle\" x=\"247\" y=\"-213.8\" font-family=\"Helvetica,sans-Serif\" font-size=\"14.00\">gini = 0.163</text>\n<text text-anchor=\"middle\" x=\"247\" y=\"-198.8\" font-family=\"Helvetica,sans-Serif\" font-size=\"14.00\">samples = 93.6%</text>\n<text text-anchor=\"middle\" x=\"247\" y=\"-183.8\" font-family=\"Helvetica,sans-Serif\" font-size=\"14.00\">value = [0.91, 0.09]</text>\n</g>\n<!-- 0&#45;&gt;1 -->\n<g id=\"edge1\" class=\"edge\">\n<title>0&#45;&gt;1</title>\n<path fill=\"none\" stroke=\"black\" d=\"M301.7,-279.88C294.7,-271.07 287.05,-261.43 279.75,-252.24\"/>\n<polygon fill=\"black\" stroke=\"black\" points=\"282.4,-249.95 273.44,-244.3 276.92,-254.31 282.4,-249.95\"/>\n<text text-anchor=\"middle\" x=\"270.59\" y=\"-265.44\" font-family=\"Helvetica,sans-Serif\" font-size=\"14.00\">True</text>\n</g>\n<!-- 1302 -->\n<g id=\"node9\" class=\"node\">\n<title>1302</title>\n<polygon fill=\"#f7d9c3\" stroke=\"black\" points=\"488.5,-244 331.5,-244 331.5,-176 488.5,-176 488.5,-244\"/>\n<text text-anchor=\"middle\" x=\"410\" y=\"-228.8\" font-family=\"Helvetica,sans-Serif\" font-size=\"14.00\">cons.price.idx &lt;= 92.45</text>\n<text text-anchor=\"middle\" x=\"410\" y=\"-213.8\" font-family=\"Helvetica,sans-Serif\" font-size=\"14.00\">gini = 0.484</text>\n<text text-anchor=\"middle\" x=\"410\" y=\"-198.8\" font-family=\"Helvetica,sans-Serif\" font-size=\"14.00\">samples = 6.4%</text>\n<text text-anchor=\"middle\" x=\"410\" y=\"-183.8\" font-family=\"Helvetica,sans-Serif\" font-size=\"14.00\">value = [0.589, 0.411]</text>\n</g>\n<!-- 0&#45;&gt;1302 -->\n<g id=\"edge8\" class=\"edge\">\n<title>0&#45;&gt;1302</title>\n<path fill=\"none\" stroke=\"black\" d=\"M354.62,-279.88C361.71,-271.07 369.46,-261.43 376.85,-252.24\"/>\n<polygon fill=\"black\" stroke=\"black\" points=\"379.69,-254.29 383.23,-244.3 374.24,-249.9 379.69,-254.29\"/>\n<text text-anchor=\"middle\" x=\"385.93\" y=\"-265.45\" font-family=\"Helvetica,sans-Serif\" font-size=\"14.00\">False</text>\n</g>\n<!-- 2 -->\n<g id=\"node3\" class=\"node\">\n<title>2</title>\n<polygon fill=\"#e78d4b\" stroke=\"black\" points=\"164,-140 0,-140 0,-72 164,-72 164,-140\"/>\n<text text-anchor=\"middle\" x=\"82\" y=\"-124.8\" font-family=\"Helvetica,sans-Serif\" font-size=\"14.00\">cons.price.idx &lt;= 94.533</text>\n<text text-anchor=\"middle\" x=\"82\" y=\"-109.8\" font-family=\"Helvetica,sans-Serif\" font-size=\"14.00\">gini = 0.155</text>\n<text text-anchor=\"middle\" x=\"82\" y=\"-94.8\" font-family=\"Helvetica,sans-Serif\" font-size=\"14.00\">samples = 92.7%</text>\n<text text-anchor=\"middle\" x=\"82\" y=\"-79.8\" font-family=\"Helvetica,sans-Serif\" font-size=\"14.00\">value = [0.915, 0.085]</text>\n</g>\n<!-- 1&#45;&gt;2 -->\n<g id=\"edge2\" class=\"edge\">\n<title>1&#45;&gt;2</title>\n<path fill=\"none\" stroke=\"black\" d=\"M193.43,-175.88C177.79,-166.21 160.56,-155.56 144.42,-145.59\"/>\n<polygon fill=\"black\" stroke=\"black\" points=\"145.93,-142.41 135.58,-140.12 142.25,-148.36 145.93,-142.41\"/>\n</g>\n<!-- 1129 -->\n<g id=\"node6\" class=\"node\">\n<title>1129</title>\n<polygon fill=\"#dbedfa\" stroke=\"black\" points=\"314,-140 182,-140 182,-72 314,-72 314,-140\"/>\n<text text-anchor=\"middle\" x=\"248\" y=\"-124.8\" font-family=\"Helvetica,sans-Serif\" font-size=\"14.00\">age &lt;= 86.5</text>\n<text text-anchor=\"middle\" x=\"248\" y=\"-109.8\" font-family=\"Helvetica,sans-Serif\" font-size=\"14.00\">gini = 0.495</text>\n<text text-anchor=\"middle\" x=\"248\" y=\"-94.8\" font-family=\"Helvetica,sans-Serif\" font-size=\"14.00\">samples = 0.9%</text>\n<text text-anchor=\"middle\" x=\"248\" y=\"-79.8\" font-family=\"Helvetica,sans-Serif\" font-size=\"14.00\">value = [0.45, 0.55]</text>\n</g>\n<!-- 1&#45;&gt;1129 -->\n<g id=\"edge5\" class=\"edge\">\n<title>1&#45;&gt;1129</title>\n<path fill=\"none\" stroke=\"black\" d=\"M247.32,-175.88C247.4,-167.78 247.49,-158.98 247.57,-150.47\"/>\n<polygon fill=\"black\" stroke=\"black\" points=\"251.08,-150.33 247.67,-140.3 244.08,-150.26 251.08,-150.33\"/>\n</g>\n<!-- 3 -->\n<g id=\"node4\" class=\"node\">\n<title>3</title>\n<polygon fill=\"#c0c0c0\" stroke=\"black\" points=\"107,-36 53,-36 53,0 107,0 107,-36\"/>\n<text text-anchor=\"middle\" x=\"80\" y=\"-14.3\" font-family=\"Helvetica,sans-Serif\" font-size=\"14.00\">(...)</text>\n</g>\n<!-- 2&#45;&gt;3 -->\n<g id=\"edge3\" class=\"edge\">\n<title>2&#45;&gt;3</title>\n<path fill=\"none\" stroke=\"black\" d=\"M81.23,-72C81.04,-63.56 80.83,-54.59 80.64,-46.47\"/>\n<polygon fill=\"black\" stroke=\"black\" points=\"84.14,-46.32 80.4,-36.4 77.14,-46.48 84.14,-46.32\"/>\n</g>\n<!-- 1026 -->\n<g id=\"node5\" class=\"node\">\n<title>1026</title>\n<polygon fill=\"#c0c0c0\" stroke=\"black\" points=\"179,-36 125,-36 125,0 179,0 179,-36\"/>\n<text text-anchor=\"middle\" x=\"152\" y=\"-14.3\" font-family=\"Helvetica,sans-Serif\" font-size=\"14.00\">(...)</text>\n</g>\n<!-- 2&#45;&gt;1026 -->\n<g id=\"edge4\" class=\"edge\">\n<title>2&#45;&gt;1026</title>\n<path fill=\"none\" stroke=\"black\" d=\"M108.86,-72C116.34,-62.81 124.35,-52.97 131.41,-44.3\"/>\n<polygon fill=\"black\" stroke=\"black\" points=\"134.24,-46.37 137.83,-36.4 128.81,-41.95 134.24,-46.37\"/>\n</g>\n<!-- 1130 -->\n<g id=\"node7\" class=\"node\">\n<title>1130</title>\n<polygon fill=\"#c0c0c0\" stroke=\"black\" points=\"263,-36 209,-36 209,0 263,0 263,-36\"/>\n<text text-anchor=\"middle\" x=\"236\" y=\"-14.3\" font-family=\"Helvetica,sans-Serif\" font-size=\"14.00\">(...)</text>\n</g>\n<!-- 1129&#45;&gt;1130 -->\n<g id=\"edge6\" class=\"edge\">\n<title>1129&#45;&gt;1130</title>\n<path fill=\"none\" stroke=\"black\" d=\"M243.39,-72C242.22,-63.56 240.97,-54.59 239.83,-46.47\"/>\n<polygon fill=\"black\" stroke=\"black\" points=\"243.28,-45.82 238.43,-36.4 236.34,-46.79 243.28,-45.82\"/>\n</g>\n<!-- 1295 -->\n<g id=\"node8\" class=\"node\">\n<title>1295</title>\n<polygon fill=\"#c0c0c0\" stroke=\"black\" points=\"335,-36 281,-36 281,0 335,0 335,-36\"/>\n<text text-anchor=\"middle\" x=\"308\" y=\"-14.3\" font-family=\"Helvetica,sans-Serif\" font-size=\"14.00\">(...)</text>\n</g>\n<!-- 1129&#45;&gt;1295 -->\n<g id=\"edge7\" class=\"edge\">\n<title>1129&#45;&gt;1295</title>\n<path fill=\"none\" stroke=\"black\" d=\"M271.03,-72C277.3,-63 284.02,-53.38 289.97,-44.84\"/>\n<polygon fill=\"black\" stroke=\"black\" points=\"293.01,-46.61 295.86,-36.4 287.27,-42.6 293.01,-46.61\"/>\n</g>\n<!-- 1303 -->\n<g id=\"node10\" class=\"node\">\n<title>1303</title>\n<polygon fill=\"#f2c2a0\" stroke=\"black\" points=\"484,-140 334,-140 334,-72 484,-72 484,-140\"/>\n<text text-anchor=\"middle\" x=\"409\" y=\"-124.8\" font-family=\"Helvetica,sans-Serif\" font-size=\"14.00\">cons.conf.idx &lt;= &#45;30.6</text>\n<text text-anchor=\"middle\" x=\"409\" y=\"-109.8\" font-family=\"Helvetica,sans-Serif\" font-size=\"14.00\">gini = 0.45</text>\n<text text-anchor=\"middle\" x=\"409\" y=\"-94.8\" font-family=\"Helvetica,sans-Serif\" font-size=\"14.00\">samples = 3.5%</text>\n<text text-anchor=\"middle\" x=\"409\" y=\"-79.8\" font-family=\"Helvetica,sans-Serif\" font-size=\"14.00\">value = [0.659, 0.341]</text>\n</g>\n<!-- 1302&#45;&gt;1303 -->\n<g id=\"edge9\" class=\"edge\">\n<title>1302&#45;&gt;1303</title>\n<path fill=\"none\" stroke=\"black\" d=\"M409.68,-175.88C409.6,-167.78 409.51,-158.98 409.43,-150.47\"/>\n<polygon fill=\"black\" stroke=\"black\" points=\"412.92,-150.26 409.33,-140.3 405.92,-150.33 412.92,-150.26\"/>\n</g>\n<!-- 1612 -->\n<g id=\"node13\" class=\"node\">\n<title>1612</title>\n<polygon fill=\"#fefcfa\" stroke=\"black\" points=\"666,-140 502,-140 502,-72 666,-72 666,-140\"/>\n<text text-anchor=\"middle\" x=\"584\" y=\"-124.8\" font-family=\"Helvetica,sans-Serif\" font-size=\"14.00\">cons.price.idx &lt;= 92.681</text>\n<text text-anchor=\"middle\" x=\"584\" y=\"-109.8\" font-family=\"Helvetica,sans-Serif\" font-size=\"14.00\">gini = 0.5</text>\n<text text-anchor=\"middle\" x=\"584\" y=\"-94.8\" font-family=\"Helvetica,sans-Serif\" font-size=\"14.00\">samples = 2.9%</text>\n<text text-anchor=\"middle\" x=\"584\" y=\"-79.8\" font-family=\"Helvetica,sans-Serif\" font-size=\"14.00\">value = [0.506, 0.494]</text>\n</g>\n<!-- 1302&#45;&gt;1612 -->\n<g id=\"edge12\" class=\"edge\">\n<title>1302&#45;&gt;1612</title>\n<path fill=\"none\" stroke=\"black\" d=\"M466.49,-175.88C483.14,-166.12 501.49,-155.37 518.65,-145.31\"/>\n<polygon fill=\"black\" stroke=\"black\" points=\"520.64,-148.2 527.49,-140.12 517.1,-142.16 520.64,-148.2\"/>\n</g>\n<!-- 1304 -->\n<g id=\"node11\" class=\"node\">\n<title>1304</title>\n<polygon fill=\"#c0c0c0\" stroke=\"black\" points=\"420,-36 366,-36 366,0 420,0 420,-36\"/>\n<text text-anchor=\"middle\" x=\"393\" y=\"-14.3\" font-family=\"Helvetica,sans-Serif\" font-size=\"14.00\">(...)</text>\n</g>\n<!-- 1303&#45;&gt;1304 -->\n<g id=\"edge10\" class=\"edge\">\n<title>1303&#45;&gt;1304</title>\n<path fill=\"none\" stroke=\"black\" d=\"M402.86,-72C401.29,-63.56 399.62,-54.59 398.11,-46.47\"/>\n<polygon fill=\"black\" stroke=\"black\" points=\"401.51,-45.59 396.24,-36.4 394.63,-46.87 401.51,-45.59\"/>\n</g>\n<!-- 1425 -->\n<g id=\"node12\" class=\"node\">\n<title>1425</title>\n<polygon fill=\"#c0c0c0\" stroke=\"black\" points=\"492,-36 438,-36 438,0 492,0 492,-36\"/>\n<text text-anchor=\"middle\" x=\"465\" y=\"-14.3\" font-family=\"Helvetica,sans-Serif\" font-size=\"14.00\">(...)</text>\n</g>\n<!-- 1303&#45;&gt;1425 -->\n<g id=\"edge11\" class=\"edge\">\n<title>1303&#45;&gt;1425</title>\n<path fill=\"none\" stroke=\"black\" d=\"M430.49,-72C436.35,-63 442.61,-53.38 448.17,-44.84\"/>\n<polygon fill=\"black\" stroke=\"black\" points=\"451.14,-46.69 453.67,-36.4 445.28,-42.87 451.14,-46.69\"/>\n</g>\n<!-- 1613 -->\n<g id=\"node14\" class=\"node\">\n<title>1613</title>\n<polygon fill=\"#c0c0c0\" stroke=\"black\" points=\"586,-36 532,-36 532,0 586,0 586,-36\"/>\n<text text-anchor=\"middle\" x=\"559\" y=\"-14.3\" font-family=\"Helvetica,sans-Serif\" font-size=\"14.00\">(...)</text>\n</g>\n<!-- 1612&#45;&gt;1613 -->\n<g id=\"edge13\" class=\"edge\">\n<title>1612&#45;&gt;1613</title>\n<path fill=\"none\" stroke=\"black\" d=\"M574.41,-72C571.93,-63.47 569.29,-54.39 566.91,-46.2\"/>\n<polygon fill=\"black\" stroke=\"black\" points=\"570.21,-45.03 564.06,-36.4 563.49,-46.98 570.21,-45.03\"/>\n</g>\n<!-- 1764 -->\n<g id=\"node15\" class=\"node\">\n<title>1764</title>\n<polygon fill=\"#c0c0c0\" stroke=\"black\" points=\"658,-36 604,-36 604,0 658,0 658,-36\"/>\n<text text-anchor=\"middle\" x=\"631\" y=\"-14.3\" font-family=\"Helvetica,sans-Serif\" font-size=\"14.00\">(...)</text>\n</g>\n<!-- 1612&#45;&gt;1764 -->\n<g id=\"edge14\" class=\"edge\">\n<title>1612&#45;&gt;1764</title>\n<path fill=\"none\" stroke=\"black\" d=\"M602.04,-72C606.85,-63.19 611.99,-53.78 616.58,-45.38\"/>\n<polygon fill=\"black\" stroke=\"black\" points=\"619.76,-46.86 621.49,-36.4 613.62,-43.5 619.76,-46.86\"/>\n</g>\n</g>\n</svg>\n",
            "text/plain": [
              "<graphviz.sources.Source at 0x7f6015c37f40>"
            ]
          },
          "metadata": {}
        },
        {
          "output_type": "display_data",
          "data": {
            "image/svg+xml": "<?xml version=\"1.0\" encoding=\"UTF-8\" standalone=\"no\"?>\n<!DOCTYPE svg PUBLIC \"-//W3C//DTD SVG 1.1//EN\"\n \"http://www.w3.org/Graphics/SVG/1.1/DTD/svg11.dtd\">\n<!-- Generated by graphviz version 2.43.0 (0)\n -->\n<!-- Title: Tree Pages: 1 -->\n<svg width=\"697pt\" height=\"356pt\"\n viewBox=\"0.00 0.00 696.50 356.00\" xmlns=\"http://www.w3.org/2000/svg\" xmlns:xlink=\"http://www.w3.org/1999/xlink\">\n<g id=\"graph0\" class=\"graph\" transform=\"scale(1 1) rotate(0) translate(4 352)\">\n<title>Tree</title>\n<polygon fill=\"white\" stroke=\"transparent\" points=\"-4,4 -4,-352 692.5,-352 692.5,4 -4,4\"/>\n<!-- 0 -->\n<g id=\"node1\" class=\"node\">\n<title>0</title>\n<polygon fill=\"#e89051\" stroke=\"black\" points=\"419.5,-348 255.5,-348 255.5,-280 419.5,-280 419.5,-348\"/>\n<text text-anchor=\"middle\" x=\"337.5\" y=\"-332.8\" font-family=\"Helvetica,sans-Serif\" font-size=\"14.00\">cons.price.idx &lt;= 92.868</text>\n<text text-anchor=\"middle\" x=\"337.5\" y=\"-317.8\" font-family=\"Helvetica,sans-Serif\" font-size=\"14.00\">gini = 0.192</text>\n<text text-anchor=\"middle\" x=\"337.5\" y=\"-302.8\" font-family=\"Helvetica,sans-Serif\" font-size=\"14.00\">samples = 100.0%</text>\n<text text-anchor=\"middle\" x=\"337.5\" y=\"-287.8\" font-family=\"Helvetica,sans-Serif\" font-size=\"14.00\">value = [0.892, 0.108]</text>\n</g>\n<!-- 1 -->\n<g id=\"node2\" class=\"node\">\n<title>1</title>\n<polygon fill=\"#f4c9ab\" stroke=\"black\" points=\"328.5,-244 164.5,-244 164.5,-176 328.5,-176 328.5,-244\"/>\n<text text-anchor=\"middle\" x=\"246.5\" y=\"-228.8\" font-family=\"Helvetica,sans-Serif\" font-size=\"14.00\">cons.price.idx &lt;= 92.559</text>\n<text text-anchor=\"middle\" x=\"246.5\" y=\"-213.8\" font-family=\"Helvetica,sans-Serif\" font-size=\"14.00\">gini = 0.463</text>\n<text text-anchor=\"middle\" x=\"246.5\" y=\"-198.8\" font-family=\"Helvetica,sans-Serif\" font-size=\"14.00\">samples = 5.9%</text>\n<text text-anchor=\"middle\" x=\"246.5\" y=\"-183.8\" font-family=\"Helvetica,sans-Serif\" font-size=\"14.00\">value = [0.635, 0.365]</text>\n</g>\n<!-- 0&#45;&gt;1 -->\n<g id=\"edge1\" class=\"edge\">\n<title>0&#45;&gt;1</title>\n<path fill=\"none\" stroke=\"black\" d=\"M307.95,-279.88C300.01,-270.98 291.32,-261.24 283.04,-251.96\"/>\n<polygon fill=\"black\" stroke=\"black\" points=\"285.48,-249.43 276.21,-244.3 280.25,-254.09 285.48,-249.43\"/>\n<text text-anchor=\"middle\" x=\"274.79\" y=\"-265.56\" font-family=\"Helvetica,sans-Serif\" font-size=\"14.00\">True</text>\n</g>\n<!-- 590 -->\n<g id=\"node9\" class=\"node\">\n<title>590</title>\n<polygon fill=\"#e88e4d\" stroke=\"black\" points=\"510.5,-244 346.5,-244 346.5,-176 510.5,-176 510.5,-244\"/>\n<text text-anchor=\"middle\" x=\"428.5\" y=\"-228.8\" font-family=\"Helvetica,sans-Serif\" font-size=\"14.00\">cons.price.idx &lt;= 94.533</text>\n<text text-anchor=\"middle\" x=\"428.5\" y=\"-213.8\" font-family=\"Helvetica,sans-Serif\" font-size=\"14.00\">gini = 0.166</text>\n<text text-anchor=\"middle\" x=\"428.5\" y=\"-198.8\" font-family=\"Helvetica,sans-Serif\" font-size=\"14.00\">samples = 94.1%</text>\n<text text-anchor=\"middle\" x=\"428.5\" y=\"-183.8\" font-family=\"Helvetica,sans-Serif\" font-size=\"14.00\">value = [0.909, 0.091]</text>\n</g>\n<!-- 0&#45;&gt;590 -->\n<g id=\"edge8\" class=\"edge\">\n<title>0&#45;&gt;590</title>\n<path fill=\"none\" stroke=\"black\" d=\"M367.05,-279.88C374.99,-270.98 383.68,-261.24 391.96,-251.96\"/>\n<polygon fill=\"black\" stroke=\"black\" points=\"394.75,-254.09 398.79,-244.3 389.52,-249.43 394.75,-254.09\"/>\n<text text-anchor=\"middle\" x=\"400.21\" y=\"-265.56\" font-family=\"Helvetica,sans-Serif\" font-size=\"14.00\">False</text>\n</g>\n<!-- 2 -->\n<g id=\"node3\" class=\"node\">\n<title>2</title>\n<polygon fill=\"#f2c09b\" stroke=\"black\" points=\"147,-140 0,-140 0,-72 147,-72 147,-140\"/>\n<text text-anchor=\"middle\" x=\"73.5\" y=\"-124.8\" font-family=\"Helvetica,sans-Serif\" font-size=\"14.00\">age &lt;= 94.5</text>\n<text text-anchor=\"middle\" x=\"73.5\" y=\"-109.8\" font-family=\"Helvetica,sans-Serif\" font-size=\"14.00\">gini = 0.443</text>\n<text text-anchor=\"middle\" x=\"73.5\" y=\"-94.8\" font-family=\"Helvetica,sans-Serif\" font-size=\"14.00\">samples = 3.9%</text>\n<text text-anchor=\"middle\" x=\"73.5\" y=\"-79.8\" font-family=\"Helvetica,sans-Serif\" font-size=\"14.00\">value = [0.668, 0.332]</text>\n</g>\n<!-- 1&#45;&gt;2 -->\n<g id=\"edge2\" class=\"edge\">\n<title>1&#45;&gt;2</title>\n<path fill=\"none\" stroke=\"black\" d=\"M190.33,-175.88C173.78,-166.12 155.53,-155.37 138.48,-145.31\"/>\n<polygon fill=\"black\" stroke=\"black\" points=\"140.07,-142.19 129.68,-140.12 136.52,-148.22 140.07,-142.19\"/>\n</g>\n<!-- 355 -->\n<g id=\"node6\" class=\"node\">\n<title>355</title>\n<polygon fill=\"#f9e0ce\" stroke=\"black\" points=\"329.5,-140 165.5,-140 165.5,-72 329.5,-72 329.5,-140\"/>\n<text text-anchor=\"middle\" x=\"247.5\" y=\"-124.8\" font-family=\"Helvetica,sans-Serif\" font-size=\"14.00\">cons.price.idx &lt;= 92.734</text>\n<text text-anchor=\"middle\" x=\"247.5\" y=\"-109.8\" font-family=\"Helvetica,sans-Serif\" font-size=\"14.00\">gini = 0.49</text>\n<text text-anchor=\"middle\" x=\"247.5\" y=\"-94.8\" font-family=\"Helvetica,sans-Serif\" font-size=\"14.00\">samples = 2.0%</text>\n<text text-anchor=\"middle\" x=\"247.5\" y=\"-79.8\" font-family=\"Helvetica,sans-Serif\" font-size=\"14.00\">value = [0.57, 0.43]</text>\n</g>\n<!-- 1&#45;&gt;355 -->\n<g id=\"edge5\" class=\"edge\">\n<title>1&#45;&gt;355</title>\n<path fill=\"none\" stroke=\"black\" d=\"M246.82,-175.88C246.9,-167.78 246.99,-158.98 247.07,-150.47\"/>\n<polygon fill=\"black\" stroke=\"black\" points=\"250.58,-150.33 247.17,-140.3 243.58,-150.26 250.58,-150.33\"/>\n</g>\n<!-- 3 -->\n<g id=\"node4\" class=\"node\">\n<title>3</title>\n<polygon fill=\"#c0c0c0\" stroke=\"black\" points=\"64.5,-36 10.5,-36 10.5,0 64.5,0 64.5,-36\"/>\n<text text-anchor=\"middle\" x=\"37.5\" y=\"-14.3\" font-family=\"Helvetica,sans-Serif\" font-size=\"14.00\">(...)</text>\n</g>\n<!-- 2&#45;&gt;3 -->\n<g id=\"edge3\" class=\"edge\">\n<title>2&#45;&gt;3</title>\n<path fill=\"none\" stroke=\"black\" d=\"M59.68,-72C56.04,-63.28 52.14,-53.98 48.66,-45.65\"/>\n<polygon fill=\"black\" stroke=\"black\" points=\"51.88,-44.28 44.79,-36.4 45.42,-46.98 51.88,-44.28\"/>\n</g>\n<!-- 354 -->\n<g id=\"node5\" class=\"node\">\n<title>354</title>\n<polygon fill=\"#c0c0c0\" stroke=\"black\" points=\"136.5,-36 82.5,-36 82.5,0 136.5,0 136.5,-36\"/>\n<text text-anchor=\"middle\" x=\"109.5\" y=\"-14.3\" font-family=\"Helvetica,sans-Serif\" font-size=\"14.00\">(...)</text>\n</g>\n<!-- 2&#45;&gt;354 -->\n<g id=\"edge4\" class=\"edge\">\n<title>2&#45;&gt;354</title>\n<path fill=\"none\" stroke=\"black\" d=\"M87.32,-72C90.96,-63.28 94.86,-53.98 98.34,-45.65\"/>\n<polygon fill=\"black\" stroke=\"black\" points=\"101.58,-46.98 102.21,-36.4 95.12,-44.28 101.58,-46.98\"/>\n</g>\n<!-- 356 -->\n<g id=\"node7\" class=\"node\">\n<title>356</title>\n<polygon fill=\"#c0c0c0\" stroke=\"black\" points=\"249.5,-36 195.5,-36 195.5,0 249.5,0 249.5,-36\"/>\n<text text-anchor=\"middle\" x=\"222.5\" y=\"-14.3\" font-family=\"Helvetica,sans-Serif\" font-size=\"14.00\">(...)</text>\n</g>\n<!-- 355&#45;&gt;356 -->\n<g id=\"edge6\" class=\"edge\">\n<title>355&#45;&gt;356</title>\n<path fill=\"none\" stroke=\"black\" d=\"M237.91,-72C235.43,-63.47 232.79,-54.39 230.41,-46.2\"/>\n<polygon fill=\"black\" stroke=\"black\" points=\"233.71,-45.03 227.56,-36.4 226.99,-46.98 233.71,-45.03\"/>\n</g>\n<!-- 521 -->\n<g id=\"node8\" class=\"node\">\n<title>521</title>\n<polygon fill=\"#c0c0c0\" stroke=\"black\" points=\"321.5,-36 267.5,-36 267.5,0 321.5,0 321.5,-36\"/>\n<text text-anchor=\"middle\" x=\"294.5\" y=\"-14.3\" font-family=\"Helvetica,sans-Serif\" font-size=\"14.00\">(...)</text>\n</g>\n<!-- 355&#45;&gt;521 -->\n<g id=\"edge7\" class=\"edge\">\n<title>355&#45;&gt;521</title>\n<path fill=\"none\" stroke=\"black\" d=\"M265.54,-72C270.35,-63.19 275.49,-53.78 280.08,-45.38\"/>\n<polygon fill=\"black\" stroke=\"black\" points=\"283.26,-46.86 284.99,-36.4 277.12,-43.5 283.26,-46.86\"/>\n</g>\n<!-- 591 -->\n<g id=\"node10\" class=\"node\">\n<title>591</title>\n<polygon fill=\"#e88d4c\" stroke=\"black\" points=\"506.5,-140 348.5,-140 348.5,-72 506.5,-72 506.5,-140\"/>\n<text text-anchor=\"middle\" x=\"427.5\" y=\"-124.8\" font-family=\"Helvetica,sans-Serif\" font-size=\"14.00\">cons.conf.idx &lt;= &#45;35.45</text>\n<text text-anchor=\"middle\" x=\"427.5\" y=\"-109.8\" font-family=\"Helvetica,sans-Serif\" font-size=\"14.00\">gini = 0.161</text>\n<text text-anchor=\"middle\" x=\"427.5\" y=\"-94.8\" font-family=\"Helvetica,sans-Serif\" font-size=\"14.00\">samples = 93.3%</text>\n<text text-anchor=\"middle\" x=\"427.5\" y=\"-79.8\" font-family=\"Helvetica,sans-Serif\" font-size=\"14.00\">value = [0.912, 0.088]</text>\n</g>\n<!-- 590&#45;&gt;591 -->\n<g id=\"edge9\" class=\"edge\">\n<title>590&#45;&gt;591</title>\n<path fill=\"none\" stroke=\"black\" d=\"M428.18,-175.88C428.1,-167.78 428.01,-158.98 427.93,-150.47\"/>\n<polygon fill=\"black\" stroke=\"black\" points=\"431.42,-150.26 427.83,-140.3 424.42,-150.33 431.42,-150.26\"/>\n</g>\n<!-- 1832 -->\n<g id=\"node13\" class=\"node\">\n<title>1832</title>\n<polygon fill=\"#f9e0ce\" stroke=\"black\" points=\"688.5,-140 524.5,-140 524.5,-72 688.5,-72 688.5,-140\"/>\n<text text-anchor=\"middle\" x=\"606.5\" y=\"-124.8\" font-family=\"Helvetica,sans-Serif\" font-size=\"14.00\">cons.price.idx &lt;= 94.684</text>\n<text text-anchor=\"middle\" x=\"606.5\" y=\"-109.8\" font-family=\"Helvetica,sans-Serif\" font-size=\"14.00\">gini = 0.49</text>\n<text text-anchor=\"middle\" x=\"606.5\" y=\"-94.8\" font-family=\"Helvetica,sans-Serif\" font-size=\"14.00\">samples = 0.8%</text>\n<text text-anchor=\"middle\" x=\"606.5\" y=\"-79.8\" font-family=\"Helvetica,sans-Serif\" font-size=\"14.00\">value = [0.57, 0.43]</text>\n</g>\n<!-- 590&#45;&gt;1832 -->\n<g id=\"edge12\" class=\"edge\">\n<title>590&#45;&gt;1832</title>\n<path fill=\"none\" stroke=\"black\" d=\"M486.29,-175.88C503.32,-166.12 522.1,-155.37 539.64,-145.31\"/>\n<polygon fill=\"black\" stroke=\"black\" points=\"541.76,-148.13 548.69,-140.12 538.28,-142.06 541.76,-148.13\"/>\n</g>\n<!-- 592 -->\n<g id=\"node11\" class=\"node\">\n<title>592</title>\n<polygon fill=\"#c0c0c0\" stroke=\"black\" points=\"425.5,-36 371.5,-36 371.5,0 425.5,0 425.5,-36\"/>\n<text text-anchor=\"middle\" x=\"398.5\" y=\"-14.3\" font-family=\"Helvetica,sans-Serif\" font-size=\"14.00\">(...)</text>\n</g>\n<!-- 591&#45;&gt;592 -->\n<g id=\"edge10\" class=\"edge\">\n<title>591&#45;&gt;592</title>\n<path fill=\"none\" stroke=\"black\" d=\"M416.37,-72C413.46,-63.38 410.37,-54.19 407.58,-45.92\"/>\n<polygon fill=\"black\" stroke=\"black\" points=\"410.88,-44.76 404.37,-36.4 404.25,-47 410.88,-44.76\"/>\n</g>\n<!-- 1675 -->\n<g id=\"node12\" class=\"node\">\n<title>1675</title>\n<polygon fill=\"#c0c0c0\" stroke=\"black\" points=\"497.5,-36 443.5,-36 443.5,0 497.5,0 497.5,-36\"/>\n<text text-anchor=\"middle\" x=\"470.5\" y=\"-14.3\" font-family=\"Helvetica,sans-Serif\" font-size=\"14.00\">(...)</text>\n</g>\n<!-- 591&#45;&gt;1675 -->\n<g id=\"edge11\" class=\"edge\">\n<title>591&#45;&gt;1675</title>\n<path fill=\"none\" stroke=\"black\" d=\"M444,-72C448.41,-63.19 453.11,-53.78 457.31,-45.38\"/>\n<polygon fill=\"black\" stroke=\"black\" points=\"460.46,-46.91 461.8,-36.4 454.2,-43.78 460.46,-46.91\"/>\n</g>\n<!-- 1833 -->\n<g id=\"node14\" class=\"node\">\n<title>1833</title>\n<polygon fill=\"#c0c0c0\" stroke=\"black\" points=\"585.5,-36 531.5,-36 531.5,0 585.5,0 585.5,-36\"/>\n<text text-anchor=\"middle\" x=\"558.5\" y=\"-14.3\" font-family=\"Helvetica,sans-Serif\" font-size=\"14.00\">(...)</text>\n</g>\n<!-- 1832&#45;&gt;1833 -->\n<g id=\"edge13\" class=\"edge\">\n<title>1832&#45;&gt;1833</title>\n<path fill=\"none\" stroke=\"black\" d=\"M588.08,-72C583.16,-63.19 577.91,-53.78 573.22,-45.38\"/>\n<polygon fill=\"black\" stroke=\"black\" points=\"576.14,-43.43 568.21,-36.4 570.03,-46.84 576.14,-43.43\"/>\n</g>\n<!-- 1908 -->\n<g id=\"node15\" class=\"node\">\n<title>1908</title>\n<polygon fill=\"#c0c0c0\" stroke=\"black\" points=\"657.5,-36 603.5,-36 603.5,0 657.5,0 657.5,-36\"/>\n<text text-anchor=\"middle\" x=\"630.5\" y=\"-14.3\" font-family=\"Helvetica,sans-Serif\" font-size=\"14.00\">(...)</text>\n</g>\n<!-- 1832&#45;&gt;1908 -->\n<g id=\"edge14\" class=\"edge\">\n<title>1832&#45;&gt;1908</title>\n<path fill=\"none\" stroke=\"black\" d=\"M615.71,-72C618.09,-63.47 620.62,-54.39 622.91,-46.2\"/>\n<polygon fill=\"black\" stroke=\"black\" points=\"626.33,-46.98 625.64,-36.4 619.58,-45.09 626.33,-46.98\"/>\n</g>\n</g>\n</svg>\n",
            "text/plain": [
              "<graphviz.sources.Source at 0x7f6015c37ee0>"
            ]
          },
          "metadata": {}
        },
        {
          "output_type": "display_data",
          "data": {
            "image/svg+xml": "<?xml version=\"1.0\" encoding=\"UTF-8\" standalone=\"no\"?>\n<!DOCTYPE svg PUBLIC \"-//W3C//DTD SVG 1.1//EN\"\n \"http://www.w3.org/Graphics/SVG/1.1/DTD/svg11.dtd\">\n<!-- Generated by graphviz version 2.43.0 (0)\n -->\n<!-- Title: Tree Pages: 1 -->\n<svg width=\"656pt\" height=\"356pt\"\n viewBox=\"0.00 0.00 655.50 356.00\" xmlns=\"http://www.w3.org/2000/svg\" xmlns:xlink=\"http://www.w3.org/1999/xlink\">\n<g id=\"graph0\" class=\"graph\" transform=\"scale(1 1) rotate(0) translate(4 352)\">\n<title>Tree</title>\n<polygon fill=\"white\" stroke=\"transparent\" points=\"-4,4 -4,-352 651.5,-352 651.5,4 -4,4\"/>\n<!-- 0 -->\n<g id=\"node1\" class=\"node\">\n<title>0</title>\n<polygon fill=\"#e89152\" stroke=\"black\" points=\"409,-348 277,-348 277,-280 409,-280 409,-348\"/>\n<text text-anchor=\"middle\" x=\"343\" y=\"-332.8\" font-family=\"Helvetica,sans-Serif\" font-size=\"14.00\">age &lt;= 60.5</text>\n<text text-anchor=\"middle\" x=\"343\" y=\"-317.8\" font-family=\"Helvetica,sans-Serif\" font-size=\"14.00\">gini = 0.196</text>\n<text text-anchor=\"middle\" x=\"343\" y=\"-302.8\" font-family=\"Helvetica,sans-Serif\" font-size=\"14.00\">samples = 100.0%</text>\n<text text-anchor=\"middle\" x=\"343\" y=\"-287.8\" font-family=\"Helvetica,sans-Serif\" font-size=\"14.00\">value = [0.89, 0.11]</text>\n</g>\n<!-- 1 -->\n<g id=\"node2\" class=\"node\">\n<title>1</title>\n<polygon fill=\"#e88f50\" stroke=\"black\" points=\"335,-244 177,-244 177,-176 335,-176 335,-244\"/>\n<text text-anchor=\"middle\" x=\"256\" y=\"-228.8\" font-family=\"Helvetica,sans-Serif\" font-size=\"14.00\">cons.conf.idx &lt;= &#45;35.45</text>\n<text text-anchor=\"middle\" x=\"256\" y=\"-213.8\" font-family=\"Helvetica,sans-Serif\" font-size=\"14.00\">gini = 0.184</text>\n<text text-anchor=\"middle\" x=\"256\" y=\"-198.8\" font-family=\"Helvetica,sans-Serif\" font-size=\"14.00\">samples = 97.8%</text>\n<text text-anchor=\"middle\" x=\"256\" y=\"-183.8\" font-family=\"Helvetica,sans-Serif\" font-size=\"14.00\">value = [0.898, 0.102]</text>\n</g>\n<!-- 0&#45;&gt;1 -->\n<g id=\"edge1\" class=\"edge\">\n<title>0&#45;&gt;1</title>\n<path fill=\"none\" stroke=\"black\" d=\"M314.75,-279.88C307.16,-270.98 298.85,-261.24 290.93,-251.96\"/>\n<polygon fill=\"black\" stroke=\"black\" points=\"293.55,-249.64 284.4,-244.3 288.23,-254.18 293.55,-249.64\"/>\n<text text-anchor=\"middle\" x=\"282.42\" y=\"-265.52\" font-family=\"Helvetica,sans-Serif\" font-size=\"14.00\">True</text>\n</g>\n<!-- 1626 -->\n<g id=\"node9\" class=\"node\">\n<title>1626</title>\n<polygon fill=\"#fcf0e7\" stroke=\"black\" points=\"503.5,-244 356.5,-244 356.5,-176 503.5,-176 503.5,-244\"/>\n<text text-anchor=\"middle\" x=\"430\" y=\"-228.8\" font-family=\"Helvetica,sans-Serif\" font-size=\"14.00\">age &lt;= 91.5</text>\n<text text-anchor=\"middle\" x=\"430\" y=\"-213.8\" font-family=\"Helvetica,sans-Serif\" font-size=\"14.00\">gini = 0.498</text>\n<text text-anchor=\"middle\" x=\"430\" y=\"-198.8\" font-family=\"Helvetica,sans-Serif\" font-size=\"14.00\">samples = 2.2%</text>\n<text text-anchor=\"middle\" x=\"430\" y=\"-183.8\" font-family=\"Helvetica,sans-Serif\" font-size=\"14.00\">value = [0.533, 0.467]</text>\n</g>\n<!-- 0&#45;&gt;1626 -->\n<g id=\"edge8\" class=\"edge\">\n<title>0&#45;&gt;1626</title>\n<path fill=\"none\" stroke=\"black\" d=\"M371.25,-279.88C378.84,-270.98 387.15,-261.24 395.07,-251.96\"/>\n<polygon fill=\"black\" stroke=\"black\" points=\"397.77,-254.18 401.6,-244.3 392.45,-249.64 397.77,-254.18\"/>\n<text text-anchor=\"middle\" x=\"403.58\" y=\"-265.52\" font-family=\"Helvetica,sans-Serif\" font-size=\"14.00\">False</text>\n</g>\n<!-- 2 -->\n<g id=\"node3\" class=\"node\">\n<title>2</title>\n<polygon fill=\"#e78d4c\" stroke=\"black\" points=\"164,-140 0,-140 0,-72 164,-72 164,-140\"/>\n<text text-anchor=\"middle\" x=\"82\" y=\"-124.8\" font-family=\"Helvetica,sans-Serif\" font-size=\"14.00\">cons.price.idx &lt;= 93.137</text>\n<text text-anchor=\"middle\" x=\"82\" y=\"-109.8\" font-family=\"Helvetica,sans-Serif\" font-size=\"14.00\">gini = 0.156</text>\n<text text-anchor=\"middle\" x=\"82\" y=\"-94.8\" font-family=\"Helvetica,sans-Serif\" font-size=\"14.00\">samples = 92.5%</text>\n<text text-anchor=\"middle\" x=\"82\" y=\"-79.8\" font-family=\"Helvetica,sans-Serif\" font-size=\"14.00\">value = [0.915, 0.085]</text>\n</g>\n<!-- 1&#45;&gt;2 -->\n<g id=\"edge2\" class=\"edge\">\n<title>1&#45;&gt;2</title>\n<path fill=\"none\" stroke=\"black\" d=\"M199.51,-175.88C182.86,-166.12 164.51,-155.37 147.35,-145.31\"/>\n<polygon fill=\"black\" stroke=\"black\" points=\"148.9,-142.16 138.51,-140.12 145.36,-148.2 148.9,-142.16\"/>\n</g>\n<!-- 1117 -->\n<g id=\"node6\" class=\"node\">\n<title>1117</title>\n<polygon fill=\"#f6d3ba\" stroke=\"black\" points=\"329.5,-140 182.5,-140 182.5,-72 329.5,-72 329.5,-140\"/>\n<text text-anchor=\"middle\" x=\"256\" y=\"-124.8\" font-family=\"Helvetica,sans-Serif\" font-size=\"14.00\">age &lt;= 34.5</text>\n<text text-anchor=\"middle\" x=\"256\" y=\"-109.8\" font-family=\"Helvetica,sans-Serif\" font-size=\"14.00\">gini = 0.478</text>\n<text text-anchor=\"middle\" x=\"256\" y=\"-94.8\" font-family=\"Helvetica,sans-Serif\" font-size=\"14.00\">samples = 5.3%</text>\n<text text-anchor=\"middle\" x=\"256\" y=\"-79.8\" font-family=\"Helvetica,sans-Serif\" font-size=\"14.00\">value = [0.605, 0.395]</text>\n</g>\n<!-- 1&#45;&gt;1117 -->\n<g id=\"edge5\" class=\"edge\">\n<title>1&#45;&gt;1117</title>\n<path fill=\"none\" stroke=\"black\" d=\"M256,-175.88C256,-167.78 256,-158.98 256,-150.47\"/>\n<polygon fill=\"black\" stroke=\"black\" points=\"259.5,-150.3 256,-140.3 252.5,-150.3 259.5,-150.3\"/>\n</g>\n<!-- 3 -->\n<g id=\"node4\" class=\"node\">\n<title>3</title>\n<polygon fill=\"#c0c0c0\" stroke=\"black\" points=\"103,-36 49,-36 49,0 103,0 103,-36\"/>\n<text text-anchor=\"middle\" x=\"76\" y=\"-14.3\" font-family=\"Helvetica,sans-Serif\" font-size=\"14.00\">(...)</text>\n</g>\n<!-- 2&#45;&gt;3 -->\n<g id=\"edge3\" class=\"edge\">\n<title>2&#45;&gt;3</title>\n<path fill=\"none\" stroke=\"black\" d=\"M79.7,-72C79.11,-63.56 78.48,-54.59 77.92,-46.47\"/>\n<polygon fill=\"black\" stroke=\"black\" points=\"81.4,-46.14 77.21,-36.4 74.42,-46.62 81.4,-46.14\"/>\n</g>\n<!-- 320 -->\n<g id=\"node5\" class=\"node\">\n<title>320</title>\n<polygon fill=\"#c0c0c0\" stroke=\"black\" points=\"175,-36 121,-36 121,0 175,0 175,-36\"/>\n<text text-anchor=\"middle\" x=\"148\" y=\"-14.3\" font-family=\"Helvetica,sans-Serif\" font-size=\"14.00\">(...)</text>\n</g>\n<!-- 2&#45;&gt;320 -->\n<g id=\"edge4\" class=\"edge\">\n<title>2&#45;&gt;320</title>\n<path fill=\"none\" stroke=\"black\" d=\"M107.33,-72C114.31,-62.9 121.77,-53.18 128.38,-44.57\"/>\n<polygon fill=\"black\" stroke=\"black\" points=\"131.33,-46.47 134.64,-36.4 125.78,-42.21 131.33,-46.47\"/>\n</g>\n<!-- 1118 -->\n<g id=\"node7\" class=\"node\">\n<title>1118</title>\n<polygon fill=\"#c0c0c0\" stroke=\"black\" points=\"265,-36 211,-36 211,0 265,0 265,-36\"/>\n<text text-anchor=\"middle\" x=\"238\" y=\"-14.3\" font-family=\"Helvetica,sans-Serif\" font-size=\"14.00\">(...)</text>\n</g>\n<!-- 1117&#45;&gt;1118 -->\n<g id=\"edge6\" class=\"edge\">\n<title>1117&#45;&gt;1118</title>\n<path fill=\"none\" stroke=\"black\" d=\"M249.09,-72C247.31,-63.47 245.41,-54.39 243.69,-46.2\"/>\n<polygon fill=\"black\" stroke=\"black\" points=\"247.12,-45.47 241.64,-36.4 240.27,-46.91 247.12,-45.47\"/>\n</g>\n<!-- 1321 -->\n<g id=\"node8\" class=\"node\">\n<title>1321</title>\n<polygon fill=\"#c0c0c0\" stroke=\"black\" points=\"337,-36 283,-36 283,0 337,0 337,-36\"/>\n<text text-anchor=\"middle\" x=\"310\" y=\"-14.3\" font-family=\"Helvetica,sans-Serif\" font-size=\"14.00\">(...)</text>\n</g>\n<!-- 1117&#45;&gt;1321 -->\n<g id=\"edge7\" class=\"edge\">\n<title>1117&#45;&gt;1321</title>\n<path fill=\"none\" stroke=\"black\" d=\"M276.72,-72C282.32,-63.09 288.29,-53.58 293.61,-45.11\"/>\n<polygon fill=\"black\" stroke=\"black\" points=\"296.72,-46.73 299.07,-36.4 290.79,-43.01 296.72,-46.73\"/>\n</g>\n<!-- 1627 -->\n<g id=\"node10\" class=\"node\">\n<title>1627</title>\n<polygon fill=\"#fceee5\" stroke=\"black\" points=\"512,-140 348,-140 348,-72 512,-72 512,-140\"/>\n<text text-anchor=\"middle\" x=\"430\" y=\"-124.8\" font-family=\"Helvetica,sans-Serif\" font-size=\"14.00\">cons.price.idx &lt;= 93.559</text>\n<text text-anchor=\"middle\" x=\"430\" y=\"-109.8\" font-family=\"Helvetica,sans-Serif\" font-size=\"14.00\">gini = 0.497</text>\n<text text-anchor=\"middle\" x=\"430\" y=\"-94.8\" font-family=\"Helvetica,sans-Serif\" font-size=\"14.00\">samples = 2.2%</text>\n<text text-anchor=\"middle\" x=\"430\" y=\"-79.8\" font-family=\"Helvetica,sans-Serif\" font-size=\"14.00\">value = [0.536, 0.464]</text>\n</g>\n<!-- 1626&#45;&gt;1627 -->\n<g id=\"edge9\" class=\"edge\">\n<title>1626&#45;&gt;1627</title>\n<path fill=\"none\" stroke=\"black\" d=\"M430,-175.88C430,-167.78 430,-158.98 430,-150.47\"/>\n<polygon fill=\"black\" stroke=\"black\" points=\"433.5,-150.3 430,-140.3 426.5,-150.3 433.5,-150.3\"/>\n</g>\n<!-- 1984 -->\n<g id=\"node13\" class=\"node\">\n<title>1984</title>\n<polygon fill=\"#399de5\" stroke=\"black\" points=\"647.5,-132.5 530.5,-132.5 530.5,-79.5 647.5,-79.5 647.5,-132.5\"/>\n<text text-anchor=\"middle\" x=\"589\" y=\"-117.3\" font-family=\"Helvetica,sans-Serif\" font-size=\"14.00\">gini = 0.0</text>\n<text text-anchor=\"middle\" x=\"589\" y=\"-102.3\" font-family=\"Helvetica,sans-Serif\" font-size=\"14.00\">samples = 0.0%</text>\n<text text-anchor=\"middle\" x=\"589\" y=\"-87.3\" font-family=\"Helvetica,sans-Serif\" font-size=\"14.00\">value = [0.0, 1.0]</text>\n</g>\n<!-- 1626&#45;&gt;1984 -->\n<g id=\"edge12\" class=\"edge\">\n<title>1626&#45;&gt;1984</title>\n<path fill=\"none\" stroke=\"black\" d=\"M481.62,-175.88C500.57,-163.73 521.93,-150.03 540.58,-138.06\"/>\n<polygon fill=\"black\" stroke=\"black\" points=\"542.69,-140.87 549.22,-132.52 538.91,-134.97 542.69,-140.87\"/>\n</g>\n<!-- 1628 -->\n<g id=\"node11\" class=\"node\">\n<title>1628</title>\n<polygon fill=\"#c0c0c0\" stroke=\"black\" points=\"433,-36 379,-36 379,0 433,0 433,-36\"/>\n<text text-anchor=\"middle\" x=\"406\" y=\"-14.3\" font-family=\"Helvetica,sans-Serif\" font-size=\"14.00\">(...)</text>\n</g>\n<!-- 1627&#45;&gt;1628 -->\n<g id=\"edge10\" class=\"edge\">\n<title>1627&#45;&gt;1628</title>\n<path fill=\"none\" stroke=\"black\" d=\"M420.79,-72C418.41,-63.47 415.88,-54.39 413.59,-46.2\"/>\n<polygon fill=\"black\" stroke=\"black\" points=\"416.92,-45.09 410.86,-36.4 410.17,-46.98 416.92,-45.09\"/>\n</g>\n<!-- 1851 -->\n<g id=\"node12\" class=\"node\">\n<title>1851</title>\n<polygon fill=\"#c0c0c0\" stroke=\"black\" points=\"505,-36 451,-36 451,0 505,0 505,-36\"/>\n<text text-anchor=\"middle\" x=\"478\" y=\"-14.3\" font-family=\"Helvetica,sans-Serif\" font-size=\"14.00\">(...)</text>\n</g>\n<!-- 1627&#45;&gt;1851 -->\n<g id=\"edge11\" class=\"edge\">\n<title>1627&#45;&gt;1851</title>\n<path fill=\"none\" stroke=\"black\" d=\"M448.42,-72C453.34,-63.19 458.59,-53.78 463.28,-45.38\"/>\n<polygon fill=\"black\" stroke=\"black\" points=\"466.47,-46.84 468.29,-36.4 460.36,-43.43 466.47,-46.84\"/>\n</g>\n</g>\n</svg>\n",
            "text/plain": [
              "<graphviz.sources.Source at 0x7f6015c37f40>"
            ]
          },
          "metadata": {}
        }
      ]
    },
    {
      "cell_type": "markdown",
      "source": [
        "This code exports the first three decision trees from a trained random forest classifier (stored in the variable rf) as graphs using the export_graphviz function from the sklearn.tree module and the graphviz library.\n",
        "\n",
        "The for loop iterates over the first three trees (estimators_ attribute) in the rf classifier. For each tree, the code creates a dot_data object by calling export_graphviz with the following arguments:\n",
        "\n",
        "tree: The decision tree to export.\n",
        "\n",
        "feature_names: The names of the features used to train the tree.\n",
        "\n",
        "filled: Whether to fill the tree nodes with colors.\n",
        "\n",
        "max_depth: The maximum depth of the tree to display.\n",
        "\n",
        "impurity: Whether to show the impurity at each node.\n",
        "\n",
        "proportion: Whether to show the proportion of samples at each node.\n",
        "\n",
        "Once the dot_data object is created, it is passed to the graphviz.Source constructor to create a graph object, which is then displayed using the display function. The resulting graph shows the decision tree with its nodes and edges, the feature used to split each node, the criterion used to split each node, and the number of samples and class distribution at each node."
      ],
      "metadata": {
        "id": "VZgle-JgqHIV"
      }
    },
    {
      "cell_type": "markdown",
      "source": [
        "Each tree image is limited to only showing the first few nodes. These trees can get very large and difficult to visualize. The colors represent the majority class of each node (box, with red indicating majority 0 (no subscription) and blue indicating majority 1 (subscription). The colors get darker the closer the node gets to being fully 0 or 1. Each node also contains the following information:\n",
        "\n",
        "1. The variable name and value used for splitting\n",
        "2. The % of total samples in each split\n",
        "3. The % split between classes in each split"
      ],
      "metadata": {
        "id": "c661Z7sasS3_"
      }
    },
    {
      "cell_type": "code",
      "source": [
        "param_dist = {'n_estimators':randint(50,500),'max_depth':randint(1,20)}\n",
        "rf = RandomForestClassifier()\n",
        "\n",
        "random_search = RandomizedSearchCV(rf,param_distributions = param_dist, n_iter=5, cv=5)\n",
        "# This function also uses cross validation, which means it splits the data into \n",
        "# five equal-sized groups and uses 4 to train and 1 to test the result. \n",
        "# It will loop through each group and give an accuracy score, which is averaged to find the best model.\n",
        "\n",
        "random_search.fit(X_train,y_train)\n",
        "\n"
      ],
      "metadata": {
        "colab": {
          "base_uri": "https://localhost:8080/",
          "height": 140
        },
        "id": "KOedtn8qsSXc",
        "outputId": "7352070a-63ab-4742-e08c-78dfab345a57"
      },
      "execution_count": 32,
      "outputs": [
        {
          "output_type": "execute_result",
          "data": {
            "text/plain": [
              "RandomizedSearchCV(cv=5, estimator=RandomForestClassifier(), n_iter=5,\n",
              "                   param_distributions={'max_depth': <scipy.stats._distn_infrastructure.rv_discrete_frozen object at 0x7f6015c60190>,\n",
              "                                        'n_estimators': <scipy.stats._distn_infrastructure.rv_discrete_frozen object at 0x7f6015affeb0>})"
            ],
            "text/html": [
              "<style>#sk-container-id-2 {color: black;background-color: white;}#sk-container-id-2 pre{padding: 0;}#sk-container-id-2 div.sk-toggleable {background-color: white;}#sk-container-id-2 label.sk-toggleable__label {cursor: pointer;display: block;width: 100%;margin-bottom: 0;padding: 0.3em;box-sizing: border-box;text-align: center;}#sk-container-id-2 label.sk-toggleable__label-arrow:before {content: \"▸\";float: left;margin-right: 0.25em;color: #696969;}#sk-container-id-2 label.sk-toggleable__label-arrow:hover:before {color: black;}#sk-container-id-2 div.sk-estimator:hover label.sk-toggleable__label-arrow:before {color: black;}#sk-container-id-2 div.sk-toggleable__content {max-height: 0;max-width: 0;overflow: hidden;text-align: left;background-color: #f0f8ff;}#sk-container-id-2 div.sk-toggleable__content pre {margin: 0.2em;color: black;border-radius: 0.25em;background-color: #f0f8ff;}#sk-container-id-2 input.sk-toggleable__control:checked~div.sk-toggleable__content {max-height: 200px;max-width: 100%;overflow: auto;}#sk-container-id-2 input.sk-toggleable__control:checked~label.sk-toggleable__label-arrow:before {content: \"▾\";}#sk-container-id-2 div.sk-estimator input.sk-toggleable__control:checked~label.sk-toggleable__label {background-color: #d4ebff;}#sk-container-id-2 div.sk-label input.sk-toggleable__control:checked~label.sk-toggleable__label {background-color: #d4ebff;}#sk-container-id-2 input.sk-hidden--visually {border: 0;clip: rect(1px 1px 1px 1px);clip: rect(1px, 1px, 1px, 1px);height: 1px;margin: -1px;overflow: hidden;padding: 0;position: absolute;width: 1px;}#sk-container-id-2 div.sk-estimator {font-family: monospace;background-color: #f0f8ff;border: 1px dotted black;border-radius: 0.25em;box-sizing: border-box;margin-bottom: 0.5em;}#sk-container-id-2 div.sk-estimator:hover {background-color: #d4ebff;}#sk-container-id-2 div.sk-parallel-item::after {content: \"\";width: 100%;border-bottom: 1px solid gray;flex-grow: 1;}#sk-container-id-2 div.sk-label:hover label.sk-toggleable__label {background-color: #d4ebff;}#sk-container-id-2 div.sk-serial::before {content: \"\";position: absolute;border-left: 1px solid gray;box-sizing: border-box;top: 0;bottom: 0;left: 50%;z-index: 0;}#sk-container-id-2 div.sk-serial {display: flex;flex-direction: column;align-items: center;background-color: white;padding-right: 0.2em;padding-left: 0.2em;position: relative;}#sk-container-id-2 div.sk-item {position: relative;z-index: 1;}#sk-container-id-2 div.sk-parallel {display: flex;align-items: stretch;justify-content: center;background-color: white;position: relative;}#sk-container-id-2 div.sk-item::before, #sk-container-id-2 div.sk-parallel-item::before {content: \"\";position: absolute;border-left: 1px solid gray;box-sizing: border-box;top: 0;bottom: 0;left: 50%;z-index: -1;}#sk-container-id-2 div.sk-parallel-item {display: flex;flex-direction: column;z-index: 1;position: relative;background-color: white;}#sk-container-id-2 div.sk-parallel-item:first-child::after {align-self: flex-end;width: 50%;}#sk-container-id-2 div.sk-parallel-item:last-child::after {align-self: flex-start;width: 50%;}#sk-container-id-2 div.sk-parallel-item:only-child::after {width: 0;}#sk-container-id-2 div.sk-dashed-wrapped {border: 1px dashed gray;margin: 0 0.4em 0.5em 0.4em;box-sizing: border-box;padding-bottom: 0.4em;background-color: white;}#sk-container-id-2 div.sk-label label {font-family: monospace;font-weight: bold;display: inline-block;line-height: 1.2em;}#sk-container-id-2 div.sk-label-container {text-align: center;}#sk-container-id-2 div.sk-container {/* jupyter's `normalize.less` sets `[hidden] { display: none; }` but bootstrap.min.css set `[hidden] { display: none !important; }` so we also need the `!important` here to be able to override the default hidden behavior on the sphinx rendered scikit-learn.org. See: https://github.com/scikit-learn/scikit-learn/issues/21755 */display: inline-block !important;position: relative;}#sk-container-id-2 div.sk-text-repr-fallback {display: none;}</style><div id=\"sk-container-id-2\" class=\"sk-top-container\"><div class=\"sk-text-repr-fallback\"><pre>RandomizedSearchCV(cv=5, estimator=RandomForestClassifier(), n_iter=5,\n",
              "                   param_distributions={&#x27;max_depth&#x27;: &lt;scipy.stats._distn_infrastructure.rv_discrete_frozen object at 0x7f6015c60190&gt;,\n",
              "                                        &#x27;n_estimators&#x27;: &lt;scipy.stats._distn_infrastructure.rv_discrete_frozen object at 0x7f6015affeb0&gt;})</pre><b>In a Jupyter environment, please rerun this cell to show the HTML representation or trust the notebook. <br />On GitHub, the HTML representation is unable to render, please try loading this page with nbviewer.org.</b></div><div class=\"sk-container\" hidden><div class=\"sk-item sk-dashed-wrapped\"><div class=\"sk-label-container\"><div class=\"sk-label sk-toggleable\"><input class=\"sk-toggleable__control sk-hidden--visually\" id=\"sk-estimator-id-2\" type=\"checkbox\" ><label for=\"sk-estimator-id-2\" class=\"sk-toggleable__label sk-toggleable__label-arrow\">RandomizedSearchCV</label><div class=\"sk-toggleable__content\"><pre>RandomizedSearchCV(cv=5, estimator=RandomForestClassifier(), n_iter=5,\n",
              "                   param_distributions={&#x27;max_depth&#x27;: &lt;scipy.stats._distn_infrastructure.rv_discrete_frozen object at 0x7f6015c60190&gt;,\n",
              "                                        &#x27;n_estimators&#x27;: &lt;scipy.stats._distn_infrastructure.rv_discrete_frozen object at 0x7f6015affeb0&gt;})</pre></div></div></div><div class=\"sk-parallel\"><div class=\"sk-parallel-item\"><div class=\"sk-item\"><div class=\"sk-label-container\"><div class=\"sk-label sk-toggleable\"><input class=\"sk-toggleable__control sk-hidden--visually\" id=\"sk-estimator-id-3\" type=\"checkbox\" ><label for=\"sk-estimator-id-3\" class=\"sk-toggleable__label sk-toggleable__label-arrow\">estimator: RandomForestClassifier</label><div class=\"sk-toggleable__content\"><pre>RandomForestClassifier()</pre></div></div></div><div class=\"sk-serial\"><div class=\"sk-item\"><div class=\"sk-estimator sk-toggleable\"><input class=\"sk-toggleable__control sk-hidden--visually\" id=\"sk-estimator-id-4\" type=\"checkbox\" ><label for=\"sk-estimator-id-4\" class=\"sk-toggleable__label sk-toggleable__label-arrow\">RandomForestClassifier</label><div class=\"sk-toggleable__content\"><pre>RandomForestClassifier()</pre></div></div></div></div></div></div></div></div></div></div>"
            ]
          },
          "metadata": {},
          "execution_count": 32
        }
      ]
    },
    {
      "cell_type": "markdown",
      "source": [
        "param_dist is a Python dictionary containing the hyperparameters that we want to tune for the Random Forest Classifier model. In this case, we have two hyperparameters:\n",
        "\n",
        "n_estimators: The number of trees in the forest.\n",
        "max_depth: The maximum depth of the tree.\n",
        "The values for these hyperparameters will be randomly sampled from a uniform distribution between the given ranges using the randint function from the scipy.stats module. For example, randint(50, 500) means that the number of trees (n_estimators) will be randomly sampled from the range of integers between 50 and 500. Similarly, randint(1, 20) means that the maximum depth of the tree (max_depth) will be randomly sampled from the range of integers between 1 and 20.\n",
        "\n",
        "---\n",
        "\n"
      ],
      "metadata": {
        "id": "Q35ZwKA4wtQa"
      }
    },
    {
      "cell_type": "markdown",
      "source": [
        "RandomizedSearchCV is a function from scikit-learn library which performs a randomized search over a hyperparameter space for a specified estimator. It takes several arguments including the estimator (model) to be optimized, the hyperparameter space to explore (in this case defined by the param_dist dictionary), the number of iterations to perform (specified by n_iter), and the number of cross-validation folds to use (specified by cv).\n",
        "\n",
        "here it is being used to find the best hyperparameters for a random forest \n",
        "classifier (rf). The hyperparameter space being explored includes n_estimators and max_depth, which are both continuous variables defined by the randint function. n_iter specifies that the random search will be performed five times, and cv specifies that five-fold cross-validation will be used. The rand_search object returned by RandomizedSearchCV can then be used to fit the model and make prediction\n",
        "\n",
        "\n",
        "---\n",
        "\n"
      ],
      "metadata": {
        "id": "gvyijO1YxXP3"
      }
    },
    {
      "cell_type": "code",
      "source": [
        "best_model_from_iter = random_search.best_estimator_\n",
        "# will train many models (defined by n_iter_ and save each one as variables, \n",
        "# the code below creates a variable for the best model and prints the hyperparameters.\n",
        "print('Best hyperparameters:',  random_search.best_params_)\n"
      ],
      "metadata": {
        "colab": {
          "base_uri": "https://localhost:8080/"
        },
        "id": "uwrQk-qwyIYe",
        "outputId": "f36549a3-d830-44e5-9fbc-7c7847ffd027"
      },
      "execution_count": 36,
      "outputs": [
        {
          "output_type": "stream",
          "name": "stdout",
          "text": [
            "Best hyperparameters: {'max_depth': 11, 'n_estimators': 489}\n"
          ]
        }
      ]
    },
    {
      "cell_type": "code",
      "source": [
        "# Confusion Matrix using best model\n",
        "\n",
        "y_pred = best_model_from_iter.predict(X_test)\n",
        "\n",
        "cm = confusion_matrix(y_test,y_pred)\n",
        "ConfusionMatrixDisplay(confusion_matrix=cm).plot();"
      ],
      "metadata": {
        "colab": {
          "base_uri": "https://localhost:8080/",
          "height": 449
        },
        "id": "-STJtriF1G7T",
        "outputId": "17cd2a77-fc91-462a-d032-ee8c5781339b"
      },
      "execution_count": 37,
      "outputs": [
        {
          "output_type": "display_data",
          "data": {
            "text/plain": [
              "<Figure size 640x480 with 2 Axes>"
            ],
            "image/png": "[encoded data removed]"
          },
          "metadata": {}
        }
      ]
    },
    {
      "cell_type": "markdown",
      "source": [
        "7126 samples correctly classified as 0, 134 samples incorrectly classified as 1 when they were 0, 790 samples incorrectly as 0 when they were 1 and 188 samples correctly classified as 1"
      ],
      "metadata": {
        "id": "krxJE9yf6lvl"
      }
    },
    {
      "cell_type": "code",
      "source": [
        "#                   Predicted 0   Predicted 1\n",
        "#Actual 0       [[True Negatives   False Positives]\n",
        "#Actual 1       [False Negatives   True Positives]]"
      ],
      "metadata": {
        "id": "7QKNWXPr6haQ"
      },
      "execution_count": null,
      "outputs": []
    },
    {
      "cell_type": "code",
      "source": [
        "accuracy = accuracy_score(y_test,y_pred)\n",
        "accuracy"
      ],
      "metadata": {
        "colab": {
          "base_uri": "https://localhost:8080/"
        },
        "id": "3QFpuQDI7Jhp",
        "outputId": "e6e22f16-575c-433c-c2c0-cafb20a553a1"
      },
      "execution_count": 41,
      "outputs": [
        {
          "output_type": "execute_result",
          "data": {
            "text/plain": [
              "0.887836853605244"
            ]
          },
          "metadata": {},
          "execution_count": 41
        }
      ]
    },
    {
      "cell_type": "code",
      "source": [
        "precision = precision_score(y_test, y_pred)\n",
        "precision"
      ],
      "metadata": {
        "colab": {
          "base_uri": "https://localhost:8080/"
        },
        "id": "Vy3HLzCu7SgF",
        "outputId": "470bf82b-cf0d-41cf-ef85-8013fd44ab97"
      },
      "execution_count": 42,
      "outputs": [
        {
          "output_type": "execute_result",
          "data": {
            "text/plain": [
              "0.5838509316770186"
            ]
          },
          "metadata": {},
          "execution_count": 42
        }
      ]
    },
    {
      "cell_type": "code",
      "source": [
        "recall = recall_score(y_test, y_pred)\n",
        "recall"
      ],
      "metadata": {
        "colab": {
          "base_uri": "https://localhost:8080/"
        },
        "id": "krAQ7yOE7UbN",
        "outputId": "ab972981-b365-4b07-c2ea-65477589e789"
      },
      "execution_count": 43,
      "outputs": [
        {
          "output_type": "execute_result",
          "data": {
            "text/plain": [
              "0.19222903885480572"
            ]
          },
          "metadata": {},
          "execution_count": 43
        }
      ]
    },
    {
      "cell_type": "code",
      "source": [
        "\n",
        "\n",
        "feat_imp = pd.Series(best_model_from_iter.feature_importances_, index=X_train.columns).sort_values(ascending=False)\n",
        "feat_imp.plot.bar()"
      ],
      "metadata": {
        "colab": {
          "base_uri": "https://localhost:8080/",
          "height": 530
        },
        "id": "wT-p-VVv73sV",
        "outputId": "284b7bf0-0ae0-4404-a005-2631d893749c"
      },
      "execution_count": 48,
      "outputs": [
        {
          "output_type": "execute_result",
          "data": {
            "text/plain": [
              "<Axes: >"
            ]
          },
          "metadata": {},
          "execution_count": 48
        },
        {
          "output_type": "display_data",
          "data": {
            "text/plain": [
              "<Figure size 640x480 with 1 Axes>"
            ],
            "image/png": "[encoded data removed]"
          },
          "metadata": {}
        }
      ]
    },
    {
      "cell_type": "markdown",
      "source": [
        "Feature importance is an important concept in machine learning which helps to understand the relative importance of each feature or predictor variable in a model. By understanding feature importance, we can identify the most important features that contribute most to the outcome or target variable, and also identify the less important features that can be potentially removed to simplify the model and reduce overfitting.\n",
        "\n",
        "here,\n",
        "The feature importance of the best model selected by the RandomizedSearchCV is calculated and plotted as a bar chart using pandas. The feature importance scores are sorted in descending order and plotted against the corresponding feature names. This plot helps to visualize the relative importance of each feature in the model and can help us to identify the most important features that should be focused on while building the model or performing further analysis."
      ],
      "metadata": {
        "id": "NlPyJip38pu8"
      }
    },
    {
      "cell_type": "markdown",
      "source": [
        "# [Tutorial on Datacamp](https://www.datacamp.com/tutorial/random-forests-classifier-python)"
      ],
      "metadata": {
        "id": "tMK6shbO9HQT"
      }
    }
  ]
}